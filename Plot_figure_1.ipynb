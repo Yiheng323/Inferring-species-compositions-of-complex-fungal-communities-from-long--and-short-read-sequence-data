{
 "cells": [
  {
   "cell_type": "code",
   "execution_count": 9,
   "metadata": {},
   "outputs": [],
   "source": [
    "# modules required for handling dataframes\n",
    "import numpy as np\n",
    "import os\n",
    "import pandas as pd\n",
    "import matplotlib.pyplot as plt\n",
    "import matplotlib.gridspec as gridspec\n",
    "import matplotlib\n",
    "import itertools\n",
    "import seaborn as sns\n",
    "from decimal import Decimal"
   ]
  },
  {
   "cell_type": "code",
   "execution_count": 10,
   "metadata": {},
   "outputs": [],
   "source": [
    "#count pivot table of dataframe with taxonomic columns: \n",
    "#rows - rank names, columns - barcode, sorted by desired class\n",
    "def generate_ncbi_taxonomy_pivot_k2(tax_df, rank, bcs, num):\n",
    "    \"\"\"From tax_df, generate a pivot table listing num rank counts, sorted by bcs\"\"\"\n",
    "    pivot_table = tax_df.pivot_table(values='seq_length_k2', \n",
    "                                            index=rank, \n",
    "                                            columns='superkingdom_k2', \n",
    "                                            aggfunc='sum', \n",
    "                                            fill_value=0)\n",
    "    pivot_table.columns.name = None\n",
    "    pivot_table = pivot_table.sort_values(bcs, axis=0, ascending=False).head(n=num)\n",
    "    return pivot_table\n",
    "\n",
    "\n",
    "#count pivot table of dataframe with taxonomic columns: \n",
    "#rows - rank names, columns - barcode, sorted by desired class\n",
    "def generate_ncbi_taxonomy_pivot_minimap(tax_df, rank, bcs, num):\n",
    "    \"\"\"From tax_df, generate a pivot table listing num rank counts, sorted by bcs\"\"\"\n",
    "    pivot_table = tax_df.pivot_table(values='seqlen', \n",
    "                                            index=rank, \n",
    "                                            columns='kingdom', \n",
    "                                            aggfunc='count', \n",
    "                                            fill_value=0)\n",
    "    pivot_table.columns.name = None\n",
    "    pivot_table = pivot_table.sort_values(bcs, axis=0, ascending=False).head(n=num)\n",
    "    return pivot_table\n",
    "\n",
    "def add_df_headers(df, header_list):\n",
    "    df.columns = header_list\n",
    "\n",
    "def trim_df_columns(df,column_list):\n",
    "    df.drop(columns=column_list, inplace=True)"
   ]
  },
  {
   "cell_type": "code",
   "execution_count": 11,
   "metadata": {},
   "outputs": [],
   "source": [
    "# Define some global variables.\n",
    "sourcedir = '/home/yiheng/MinION_data/' # the directory where all the documents of each sequencing run are stored.\n",
    "genera_in_mock = ['Aspergillus','Blastobotrys','Candida','Diutina', 'Nakaseomyces', 'Clavispora','Cryptococcus','Cyberlindnera',\n",
    "'Debaryomyces','Geotrichum','Kluyveromyces','Kodamaea','Lomentospora','Magnusiomyces','Meyerozyma','Pichia',\n",
    "'Rhodotorula','Scedosporium','Trichophyton', 'Trichosporon', 'Wickerhamomyces','Yarrowia','Zygoascus', 'Purpureocillium']\n",
    "fungal_phylums = ['Blastocladiomycota', 'Chytridiomycota', 'Glomeromycota', 'Microsporidia', \n",
    "                  'Neocallimastigomycota', 'Ascomycota', 'Basidiomycota', 'Mucoromycota']"
   ]
  },
  {
   "cell_type": "code",
   "execution_count": 12,
   "metadata": {},
   "outputs": [],
   "source": [
    "def get_tab(seq_tech, sample, db, algorithm):\n",
    "    if sample == 'IE':\n",
    "        barcode = '05'\n",
    "    elif sample == 'MC':\n",
    "        barcode = '06'\n",
    "    else:\n",
    "        print('wrong sample name.')\n",
    "        \n",
    "    if seq_tech == 'nanopore':\n",
    "        blast_tab_path = os.path.join(sourcedir, 'barcode%s' % barcode, 'barcode%s.%sdb_%s.tab' % (barcode, db, algorithm))\n",
    "        blast_tab_df = pd.read_csv(blast_tab_path, sep='\\t', index_col=0, header=0)\n",
    "    elif seq_tech == 'illumina':\n",
    "        blast_tab_path = os.path.join(sourcedir, 'mock_com/illumina', '%s1' % sample, 'finaldf.%s1.%s.%s.tab' % (sample, db, algorithm))\n",
    "        blast_tab_df = pd.read_csv(blast_tab_path, sep='\\t', index_col=0, header=0)\n",
    "    else:\n",
    "        print('''Check again your barcode, db or algorithm.\n",
    "        sample must be chosen from 'IE' or 'MC'.\n",
    "        db must be from 'nt' or 'refseq_fungi_updated'.\n",
    "        algorithm must be from 'blast' or 'k2'.''')\n",
    "    return blast_tab_df"
   ]
  },
  {
   "cell_type": "code",
   "execution_count": 13,
   "metadata": {},
   "outputs": [],
   "source": [
    "# The next step is to calculate the precision and recall rates for each analysis\n",
    "# For kraken data, the finaldf included all the unclassified reads/contig, so we could calculate recall rates straightaway.\n",
    "# For blast data, the finaldf only included the classified reads, so we need to call the corresponding kraken finaldf to get the total length of each sample (from reads with Q>7)\n",
    "# There are quite few if conditions in the function. This is because the final dataframe (tab file) are not consistantly generated.\n",
    "# This function set an example of how to deal with inconsistant dataframe.\n",
    "# I could clean up the final tab file from each analysis because I generated those files,\n",
    "# but this kind of conditions can be useful if the tab file were generated by others.\n",
    "# Nevertheless, this is a bad function.\n",
    "def calculate_precision_recall_rates(seq_tech, sample, db, algorithm):\n",
    "    tab_df = get_tab(seq_tech, sample, db, algorithm)\n",
    "    if algorithm == 'k2':\n",
    "        if seq_tech == 'nanopore':\n",
    "            tab_df_classified = tab_df[tab_df.taxid_k2 != 0]\n",
    "            tab_df_classified_true = tab_df_classified[tab_df_classified.genus_k2.isin(genera_in_mock)]\n",
    "            recall_rate = tab_df_classified.seq_length_k2.sum()/tab_df.seq_length_k2.sum()\n",
    "            precision_rate = tab_df_classified_true.seq_length_k2.sum()/tab_df_classified.seq_length_k2.sum()\n",
    "        elif seq_tech == 'illumina':\n",
    "            tab_df_classified = tab_df[tab_df.taxid != 0]\n",
    "            tab_df_classified_true = tab_df_classified[tab_df_classified.genus.isin(genera_in_mock)]\n",
    "            recall_rate = tab_df_classified.total_cov.sum()/tab_df.total_cov.sum()\n",
    "            precision_rate = tab_df_classified_true.total_cov.sum()/tab_df_classified.total_cov.sum()\n",
    "        else:\n",
    "            print('check the sequencing tech you typed in.')\n",
    "            \n",
    "    elif algorithm == 'blast':\n",
    "        # this k2 df is used for capture the sequencing length or total coverage.\n",
    "        if db == 'refseq_fungi_updated':\n",
    "            tab_df_k2 = get_tab(seq_tech, sample, 'fungi', 'k2')\n",
    "        else:\n",
    "            tab_df_k2 = get_tab(seq_tech, sample, db, 'k2')\n",
    "        \n",
    "        \n",
    "        if seq_tech == 'nanopore':\n",
    "            tab_df_classified = tab_df[(tab_df.superkingdom_blast != 'Unclassified') & (~tab_df.superkingdom_blast.isna())]\n",
    "            tab_df_classified_true = tab_df_classified[tab_df_classified.genus_blast.isin(genera_in_mock)]\n",
    "            subset_tab_df_k2 = tab_df_k2[tab_df_k2.read_id_k2.isin(tab_df_classified.qseqid_blast)]\n",
    "            subset_tab_df_k2_true = tab_df_k2[tab_df_k2.read_id_k2.isin(tab_df_classified_true.qseqid_blast)]\n",
    "            recall_rate = subset_tab_df_k2.seq_length_k2.sum()/tab_df_k2.seq_length_k2.sum()\n",
    "            precision_rate = subset_tab_df_k2_true.seq_length_k2.sum()/subset_tab_df_k2.seq_length_k2.sum()\n",
    "        elif seq_tech == 'illumina':\n",
    "            tab_df_classified = tab_df[(tab_df.superkingdom != 'Unclassified') & (~tab_df.superkingdom.isna())]\n",
    "            tab_df_classified_true = tab_df_classified[tab_df_classified.genus.isin(genera_in_mock)]\n",
    "            subset_tab_df_k2 = tab_df_k2[tab_df_k2.contig.isin(tab_df_classified.contig)]\n",
    "            subset_tab_df_k2_true = tab_df_k2[tab_df_k2.contig.isin(tab_df_classified_true.contig)]\n",
    "            recall_rate = subset_tab_df_k2.total_cov.sum()/tab_df_k2.total_cov.sum()\n",
    "            precision_rate = subset_tab_df_k2_true.total_cov.sum()/subset_tab_df_k2.total_cov.sum()\n",
    "        else:\n",
    "            print('check the sequencing tech you typed in.')\n",
    "    else:\n",
    "        print('check the algorithm you typed in.')\n",
    "    return (precision_rate, recall_rate)"
   ]
  },
  {
   "cell_type": "code",
   "execution_count": 14,
   "metadata": {},
   "outputs": [
    {
     "name": "stderr",
     "output_type": "stream",
     "text": [
      "/home/yiheng/anaconda3/lib/python3.6/site-packages/numpy/lib/arraysetops.py:580: FutureWarning: elementwise comparison failed; returning scalar instead, but in the future will perform elementwise comparison\n",
      "  mask |= (ar1 == a)\n",
      "/home/yiheng/anaconda3/lib/python3.6/site-packages/numpy/lib/arraysetops.py:580: FutureWarning: elementwise comparison failed; returning scalar instead, but in the future will perform elementwise comparison\n",
      "  mask |= (ar1 == a)\n",
      "/home/yiheng/anaconda3/lib/python3.6/site-packages/numpy/lib/arraysetops.py:580: FutureWarning: elementwise comparison failed; returning scalar instead, but in the future will perform elementwise comparison\n",
      "  mask |= (ar1 == a)\n"
     ]
    }
   ],
   "source": [
    "MC_precision_recall = pd.DataFrame(columns=['Precision', 'Recall'])\n",
    "MC_precision_recall.loc[0] = calculate_precision_recall_rates('illumina', 'MC', 'refseq_fungi_updated', 'blast')\n",
    "MC_precision_recall.loc[1] = calculate_precision_recall_rates('illumina', 'MC', 'nt', 'blast')\n",
    "MC_precision_recall.loc[2] = calculate_precision_recall_rates('nanopore', 'MC', 'refseq_fungi_updated', 'blast')\n",
    "MC_precision_recall.loc[3] = calculate_precision_recall_rates('nanopore', 'MC', 'nt', 'blast')\n",
    "MC_precision_recall.loc[4] = calculate_precision_recall_rates('illumina', 'MC', 'fungi', 'k2')\n",
    "MC_precision_recall.loc[5] = calculate_precision_recall_rates('illumina', 'MC', 'nt', 'k2')\n",
    "MC_precision_recall.loc[6] = calculate_precision_recall_rates('nanopore', 'MC', 'fungi', 'k2')\n",
    "MC_precision_recall.loc[7] = calculate_precision_recall_rates('nanopore', 'MC', 'nt', 'k2')"
   ]
  },
  {
   "cell_type": "code",
   "execution_count": 15,
   "metadata": {},
   "outputs": [
    {
     "name": "stderr",
     "output_type": "stream",
     "text": [
      "/home/yiheng/anaconda3/lib/python3.6/site-packages/numpy/lib/arraysetops.py:580: FutureWarning: elementwise comparison failed; returning scalar instead, but in the future will perform elementwise comparison\n",
      "  mask |= (ar1 == a)\n",
      "/home/yiheng/anaconda3/lib/python3.6/site-packages/numpy/lib/arraysetops.py:580: FutureWarning: elementwise comparison failed; returning scalar instead, but in the future will perform elementwise comparison\n",
      "  mask |= (ar1 == a)\n",
      "/home/yiheng/anaconda3/lib/python3.6/site-packages/numpy/lib/arraysetops.py:580: FutureWarning: elementwise comparison failed; returning scalar instead, but in the future will perform elementwise comparison\n",
      "  mask |= (ar1 == a)\n"
     ]
    }
   ],
   "source": [
    "IE_precision_recall = pd.DataFrame(columns=['Precision', 'Recall'])\n",
    "IE_precision_recall.loc[0] = calculate_precision_recall_rates('illumina', 'IE', 'refseq_fungi_updated', 'blast')\n",
    "IE_precision_recall.loc[1] = calculate_precision_recall_rates('illumina', 'IE', 'nt', 'blast')\n",
    "IE_precision_recall.loc[2] = calculate_precision_recall_rates('nanopore', 'IE', 'refseq_fungi_updated', 'blast')\n",
    "IE_precision_recall.loc[3] = calculate_precision_recall_rates('nanopore', 'IE', 'nt', 'blast')\n",
    "IE_precision_recall.loc[4] = calculate_precision_recall_rates('illumina', 'IE', 'fungi', 'k2')\n",
    "IE_precision_recall.loc[5] = calculate_precision_recall_rates('illumina', 'IE', 'nt', 'k2')\n",
    "IE_precision_recall.loc[6] = calculate_precision_recall_rates('nanopore', 'IE', 'fungi', 'k2')\n",
    "IE_precision_recall.loc[7] = calculate_precision_recall_rates('nanopore', 'IE', 'nt', 'k2')"
   ]
  },
  {
   "cell_type": "code",
   "execution_count": 16,
   "metadata": {},
   "outputs": [],
   "source": [
    "IE_precision_recall['category'] = ['illumina+blast+fungi', 'illumina+blast+nt', 'nanopore+blast+fungi', 'nanopore+blast+nt',\n",
    "                                   'illumina+kraken2+fungi', 'illumina+kraken2+nt', 'nanopore+kraken2+fungi', 'nanopore+kraken2+nt']\n",
    "MC_precision_recall['category'] = ['illumina+blast+fungi', 'illumina+blast+nt', 'nanopore+blast+fungi', 'nanopore+blast+nt',\n",
    "                                   'illumina+kraken2+fungi', 'illumina+kraken2+nt', 'nanopore+kraken2+fungi', 'nanopore+kraken2+nt']"
   ]
  },
  {
   "cell_type": "code",
   "execution_count": 9,
   "metadata": {},
   "outputs": [
    {
     "data": {
      "image/png": "[encoded data removed]",
      "text/plain": [
       "<Figure size 432x288 with 1 Axes>"
      ]
     },
     "metadata": {
      "needs_background": "light"
     },
     "output_type": "display_data"
    }
   ],
   "source": [
    "markers = [\"s\", \"s\", \"o\", \"o\", \"s\", \"s\", \"o\", \"o\"]\n",
    "edgecolors = ['tab:green', 'tab:green', 'tab:green', 'tab:green', 'tab:red', 'tab:red', 'tab:red', 'tab:red']\n",
    "facecolors = ['tab:green', 'none', 'tab:green', 'none', 'tab:red', 'none', 'tab:red', 'none']\n",
    "for i in range(8): #for each of the 7 features \n",
    "    mi = markers[i] #marker for ith feature \n",
    "    xi = IE_precision_recall.Precision[i]*100 #x array for ith feature .. here is where you would generalize      different x for every feature\n",
    "    yi = IE_precision_recall.Recall[i]*100 #y array for ith feature \n",
    "    ci = facecolors[i] #color for ith feature \n",
    "    di = edgecolors[i]\n",
    "    ei = IE_precision_recall.category[i]\n",
    "    plt.scatter(xi,yi,marker=mi, facecolors=ci, edgecolors=di, label=ei) \n",
    "    plt.legend(loc='center left', fontsize=12, bbox_to_anchor=(1, 0.5))\n",
    "    plt.xlabel('Precision (%)', fontsize=14)\n",
    "    plt.ylabel('Recall (%)', fontsize=14)\n",
    "    plt.xlim([65, 100])\n",
    "    plt.ylim([65, 100])\n",
    "    ax = plt.gca()\n",
    "    ax.xaxis.grid(linestyle='dotted')\n",
    "    ax.yaxis.grid(linestyle='dotted')\n",
    "    ax.set_aspect('equal', adjustable='box')\n",
    "plt.savefig(os.path.join(sourcedir, 'figures', 'IE_metagenomics_precision_recall_1.png'), bbox_inches='tight', dpi=600)   \n"
   ]
  },
  {
   "cell_type": "code",
   "execution_count": 19,
   "metadata": {},
   "outputs": [
    {
     "data": {
      "image/png": "[encoded data removed]",
      "text/plain": [
       "<Figure size 432x288 with 1 Axes>"
      ]
     },
     "metadata": {
      "needs_background": "light"
     },
     "output_type": "display_data"
    }
   ],
   "source": [
    "for i in range(8): #for each of the 7 features \n",
    "    mi = markers[i] #marker for ith feature \n",
    "    xi = MC_precision_recall.Precision[i]*100 #x array for ith feature .. here is where you would generalize      different x for every feature\n",
    "    yi = MC_precision_recall.Recall[i]*100 #y array for ith feature \n",
    "    ci = facecolors[i] #color for ith feature \n",
    "    di = edgecolors[i]\n",
    "    ei = IE_precision_recall.category[i]\n",
    "    plt.scatter(xi,yi,marker=mi, facecolors=ci, edgecolors=di, label=ei) \n",
    "    plt.legend(loc='center left', fontsize=12, bbox_to_anchor=(1, 0.5))\n",
    "    plt.xlabel('Precision (%)', fontsize=14)\n",
    "    plt.ylabel('Recall (%)', fontsize=14)\n",
    "    plt.xlim([65, 100])\n",
    "    plt.ylim([65, 100])\n",
    "    ax = plt.gca()\n",
    "    ax.xaxis.grid(linestyle='dotted')\n",
    "    ax.yaxis.grid(linestyle='dotted')\n",
    "    ax.set_aspect('equal', adjustable='box')\n",
    "plt.savefig(os.path.join(sourcedir, 'figures', 'MC_metagenomics_precision_recall_1.png'), bbox_inches='tight', dpi=600)   "
   ]
  },
  {
   "cell_type": "code",
   "execution_count": 17,
   "metadata": {},
   "outputs": [],
   "source": [
    "def calculate_concordance_algorithmfixed(seq_tech, sample, algorithm):\n",
    "    if algorithm == 'blast':\n",
    "        fungi_df = get_tab(seq_tech, sample, 'refseq_fungi_updated', algorithm)\n",
    "    elif algorithm == 'k2':\n",
    "        fungi_df = get_tab(seq_tech, sample, 'fungi', algorithm)\n",
    "    else:\n",
    "        print('Wrong db name.')\n",
    "    nt_df = get_tab(seq_tech, sample, 'nt', algorithm)\n",
    "    \n",
    "    if seq_tech == 'illumina':\n",
    "        fungi_df.columns = ['%s_fungi' % x for x in fungi_df.columns]\n",
    "        nt_df.columns = ['%s_nt' % x for x in nt_df.columns]\n",
    "        merged_df = pd.merge(fungi_df, nt_df, how=\"outer\", left_on='contig_fungi', right_on='contig_nt')\n",
    "        # This line is only for the k2 algorithm, \n",
    "        # As the blast of illumina data has already removed the unmapped contigs.\n",
    "        merged_df_trimed = merged_df[~merged_df.total_cov_fungi.isna()]\n",
    "        # For simplicity, it doesn't need to drop any colomns\n",
    "        # As we have already dropped NaN rows in the total_cov column so we can quickly fill the rest of columns with na\n",
    "        merged_df_trimed = merged_df_trimed.fillna(value='unclassified')\n",
    "        # This is the column that is used for sum up total length\n",
    "        column_to_sum = 'total_cov_fungi'\n",
    "    elif seq_tech == 'nanopore':\n",
    "        if algorithm == 'blast':\n",
    "            fungi_df.columns = [x[:-6] for x in fungi_df.columns]\n",
    "            nt_df.columns = [x[:-6] for x in nt_df.columns]\n",
    "            fungi_df.columns = ['%s_fungi' % x for x in fungi_df.columns]\n",
    "            nt_df.columns = ['%s_nt' % x for x in nt_df.columns]\n",
    "            merged_df = pd.merge(fungi_df, nt_df, how=\"outer\", left_on='qseqid_fungi', right_on='qseqid_nt')\n",
    "            # This is to fill the one column with the value from another\n",
    "            merged_df['sequence_length_template_fungi'] = merged_df['sequence_length_template_fungi'\\\n",
    "                                                                   ].T.fillna(merged_df['sequence_length_template_nt']).T\n",
    "            merged_df['qseqid_fungi'] = merged_df['qseqid_fungi'].T.fillna(merged_df['qseqid_nt']).T\n",
    "            column_to_sum = 'sequence_length_template_fungi'\n",
    "            merged_df_trimed = merged_df#.fillna(value='unclassified')\n",
    "#            merged_df_trimed = merged_df_trimed[(merged_df_trimed.superkingdom_fungi != 'Unclassified') \n",
    "#                                                | (merged_df_trimed.superkingdom_nt != 'Unclassified')]\n",
    "        elif algorithm == 'k2':\n",
    "            fungi_df.columns = [x[:-3] for x in fungi_df.columns]\n",
    "            nt_df.columns = [x[:-3] for x in nt_df.columns]\n",
    "            fungi_df.columns = ['%s_fungi' % x for x in fungi_df.columns]\n",
    "            nt_df.columns = ['%s_nt' % x for x in nt_df.columns]\n",
    "            merged_df = pd.merge(fungi_df, nt_df, how=\"outer\", left_on='read_id_fungi', right_on='read_id_nt')\n",
    "            column_to_sum = 'seq_length_fungi'\n",
    "            merged_df_trimed = merged_df#.fillna(value='unclassified')\n",
    "            merged_df_trimed = merged_df_trimed[(merged_df_trimed.classification_fungi == 'C') \n",
    "                                                | (merged_df_trimed.classification_nt == 'C')]\n",
    "        else:\n",
    "            print('Wrong algorithm.')\n",
    "    else:\n",
    "        print('Wrong sequencing tech.')    \n",
    "    \n",
    "    # This is to get the reads that are classified into the species in the community by at least one algorithm\n",
    "#    merged_df_trimed_overlapped = merged_df_trimed[(merged_df_trimed.genus_fungi.isin(genera_in_mock)) |\n",
    "#                                                   (merged_df_trimed.genus_nt.isin(genera_in_mock))]\n",
    "\n",
    "    # This is to only take the fungal reads for comparison\n",
    "#    merged_df_trimed = merged_df_trimed[(merged_df_trimed.phylum_fungi.isin(fungal_phylums)) \n",
    "#                                                | (merged_df_trimed.phylum_nt.isin(fungal_phylums))]\n",
    "#    merged_df_trimed = merged_df_trimed.reset_index(drop=True)\n",
    "    \n",
    "    # This is to get the reads/contigs that classified into the same genus\n",
    "#    merged_df_trimed_agreed_classification = merged_df_trimed_overlapped[merged_df_trimed_overlapped.genus_fungi == \n",
    "#                                                                         merged_df_trimed_overlapped.genus_nt]\n",
    "    merged_df_trimed_agreed_classification = merged_df_trimed[merged_df_trimed.genus_fungi == \n",
    "                                                              merged_df_trimed.genus_nt]    \n",
    "    # This is to calculate the overlapped percentage of different algorithms against the same database\n",
    "    concordance = merged_df_trimed_agreed_classification[column_to_sum].sum()/merged_df_trimed[column_to_sum].sum()\n",
    "    \n",
    "    return concordance"
   ]
  },
  {
   "cell_type": "code",
   "execution_count": null,
   "metadata": {},
   "outputs": [],
   "source": []
  },
  {
   "cell_type": "code",
   "execution_count": 18,
   "metadata": {},
   "outputs": [],
   "source": [
    "def trim_merged_df_mixed_algorithm(merged_df, seq_tech):\n",
    "    trimed_merged_df = merged_df[(~merged_df.superkingdom_blast.isna()) \n",
    "                                  | (merged_df.classification_k2 == 'C')]\n",
    "    if seq_tech == 'illumina':\n",
    "        trimed_merged_df = trimed_merged_df.drop(columns=['len_blast', 'ave_cov_blast', 'total_cov_blast', 'evalue_blast', \n",
    "                                                   'pident_blast', 'pmatch_blast', 'len_k2', 'ave_cov_k2', 'classification_k2', \n",
    "                                                   'taxid_k2', 'seqlen_k2', 'kmer_profile_k2'])\n",
    "        # all the contigs that has no coverage means they are false assembly. They won't contribute to the analysis so we get rid of them\n",
    "        trimed_merged_df = trimed_merged_df[~trimed_merged_df.total_cov_k2.isna()]\n",
    "    elif seq_tech == 'nanopore':\n",
    "        trimed_merged_df = trimed_merged_df.drop(columns=['batch_id_blast', 'sequence_length_template_blast', 'scaling_median_template_blast', \n",
    "                                                   'scaling_mad_template_blast', 'pident_blast', 'nident_blast', 'staxids_blast', 'sscinames_blast', \n",
    "                                                   'log_evalue_blast', 'pmatch_blast', 'classification_k2', 'taxid_k2', 'kmer_profile_k2'])\n",
    "    else:\n",
    "        print('Data type not recognized. Can only recognize illumina or nanopore data.')\n",
    "#    trimed_merged_df.superkingdom_blast = trimed_merged_df.superkingdom_blast.fillna(value='unclassified')\n",
    "#    trimed_merged_df.phylum_blast = trimed_merged_df.phylum_blast.fillna(value='unclassified')\n",
    "#    trimed_merged_df.class_blast = trimed_merged_df.class_blast.fillna(value='unclassified')\n",
    "#    trimed_merged_df.order_blast = trimed_merged_df.order_blast.fillna(value='unclassified')\n",
    "#    trimed_merged_df.family_blast = trimed_merged_df.family_blast.fillna(value='unclassified')\n",
    "#    trimed_merged_df.genus_blast = trimed_merged_df.genus_blast.fillna(value='unclassified')\n",
    "#    trimed_merged_df.species_blast = trimed_merged_df.species_blast.fillna(value='unclassified')\n",
    "    trimed_merged_df = trimed_merged_df.reset_index(drop=True)\n",
    "    return trimed_merged_df"
   ]
  },
  {
   "cell_type": "code",
   "execution_count": 19,
   "metadata": {},
   "outputs": [],
   "source": [
    "def calculate_concordance_dbfixed(seq_tech, sample, db):\n",
    "    if db == 'fungi':\n",
    "        blast_df = get_tab(seq_tech, sample, 'refseq_fungi_updated', 'blast')\n",
    "    elif db == 'nt':\n",
    "        blast_df = get_tab(seq_tech, sample, db, 'blast')\n",
    "    else:\n",
    "        print('Wrong db name.')\n",
    "    k2_df = get_tab(seq_tech, sample, db, 'k2')\n",
    "    \n",
    "    if seq_tech == 'illumina':\n",
    "        blast_df.columns = ['%s_blast' % x for x in blast_df.columns]\n",
    "        k2_df.columns = ['%s_k2' % x for x in k2_df.columns]\n",
    "        merged_df = pd.merge(blast_df, k2_df, how=\"outer\", left_on='contig_blast', right_on='contig_k2')\n",
    "        # This is the column that is used for sum up total length\n",
    "        column_to_sum = 'total_cov_k2'\n",
    "    elif seq_tech == 'nanopore':\n",
    "        merged_df = pd.merge(blast_df, k2_df, how=\"outer\", left_on='qseqid_blast', right_on='read_id_k2')\n",
    "        column_to_sum = 'seq_length_k2'\n",
    "    else:\n",
    "        print('Wrong sequencing tech.')\n",
    "    \n",
    "    # This is to first get the reads/contigs that were both classified by the algorithms\n",
    "    # It's in the triming step.\n",
    "    merged_df_trimed = trim_merged_df_mixed_algorithm(merged_df, seq_tech)\n",
    "    \n",
    "    # This is to get the reads that are classified into the species in the community by at least one algorithm\n",
    "#    merged_df_trimed_overlapped = merged_df_trimed[(merged_df_trimed.genus_blast.isin(genera_in_mock)) |\n",
    "#                                                   (merged_df_trimed.genus_k2.isin(genera_in_mock))]\n",
    "\n",
    "    # This is to only take the fungal reads for comparison\n",
    "#    merged_df_trimed = merged_df_trimed[(merged_df_trimed.phylum_blast.isin(fungal_phylums)) \n",
    "#                                                | (merged_df_trimed.phylum_k2.isin(fungal_phylums))]\n",
    "#    merged_df_trimed = merged_df_trimed.reset_index(drop=True)\n",
    "\n",
    "    # This is to get the reads/contigs that classified into the same genus\n",
    "#    merged_df_trimed_agreed_classification = merged_df_trimed_overlapped[merged_df_trimed_overlapped.genus_blast == \n",
    "#                                                                         merged_df_trimed_overlapped.genus_k2]\n",
    "    merged_df_trimed_agreed_classification = merged_df_trimed[merged_df_trimed.genus_blast == \n",
    "                                                              merged_df_trimed.genus_k2]    \n",
    "    # This is to calculate the overlapped percentage of different algorithms against the same database\n",
    "    \n",
    "    concordance = merged_df_trimed_agreed_classification[column_to_sum].sum()/merged_df_trimed[column_to_sum].sum()\n",
    "    \n",
    "    return concordance"
   ]
  },
  {
   "cell_type": "code",
   "execution_count": 66,
   "metadata": {},
   "outputs": [],
   "source": [
    "Classification_strategy_list = ['Same database different algorithm', 'Same database different algorithm', 'Same algorithm different database', 'Same algorithm different database']"
   ]
  },
  {
   "cell_type": "code",
   "execution_count": 67,
   "metadata": {},
   "outputs": [],
   "source": [
    "illumina_IE_df = pd.DataFrame()\n",
    "illumina_IE_df['Concordance'] = [calculate_concordance_algorithmfixed('illumina', 'IE', 'blast'),\n",
    "                                 calculate_concordance_algorithmfixed('illumina', 'IE', 'k2'),\n",
    "                                 calculate_concordance_dbfixed('illumina', 'IE', 'fungi'),\n",
    "                                 calculate_concordance_dbfixed('illumina', 'IE', 'nt')]\n",
    "illumina_IE_df['Classification strategy'] = Classification_strategy_list\n",
    "illumina_IE_df['Sequencing strategy'] = 'PD-Illumina'"
   ]
  },
  {
   "cell_type": "code",
   "execution_count": 68,
   "metadata": {},
   "outputs": [
    {
     "name": "stderr",
     "output_type": "stream",
     "text": [
      "/home/yiheng/anaconda3/lib/python3.6/site-packages/numpy/lib/arraysetops.py:580: FutureWarning: elementwise comparison failed; returning scalar instead, but in the future will perform elementwise comparison\n",
      "  mask |= (ar1 == a)\n"
     ]
    }
   ],
   "source": [
    "nanopore_IE_df = pd.DataFrame()\n",
    "nanopore_IE_df['Concordance'] = [calculate_concordance_algorithmfixed('nanopore', 'IE', 'blast'),\n",
    "                                calculate_concordance_algorithmfixed('nanopore', 'IE', 'k2'),\n",
    "                                calculate_concordance_dbfixed('nanopore', 'IE', 'fungi'),\n",
    "                                calculate_concordance_dbfixed('nanopore', 'IE', 'nt')]\n",
    "nanopore_IE_df['Classification strategy'] = Classification_strategy_list\n",
    "nanopore_IE_df['Sequencing strategy'] = 'PD-Nanopore'"
   ]
  },
  {
   "cell_type": "code",
   "execution_count": 69,
   "metadata": {},
   "outputs": [],
   "source": [
    "illumina_MC_df = pd.DataFrame()\n",
    "illumina_MC_df['Concordance'] = [calculate_concordance_algorithmfixed('illumina', 'MC', 'blast'),\n",
    "                                 calculate_concordance_algorithmfixed('illumina', 'MC', 'k2'),\n",
    "                                 calculate_concordance_dbfixed('illumina', 'MC', 'fungi'),\n",
    "                                 calculate_concordance_dbfixed('illumina', 'MC', 'nt')]\n",
    "illumina_MC_df['Classification strategy'] = Classification_strategy_list\n",
    "illumina_MC_df['Sequencing strategy'] = ' PB-Illumina '"
   ]
  },
  {
   "cell_type": "code",
   "execution_count": 70,
   "metadata": {},
   "outputs": [],
   "source": [
    "nanopore_MC_df = pd.DataFrame()\n",
    "nanopore_MC_df['Concordance'] = [calculate_concordance_algorithmfixed('nanopore', 'MC', 'blast'),\n",
    "                                calculate_concordance_algorithmfixed('nanopore', 'MC', 'k2'),\n",
    "                                calculate_concordance_dbfixed('nanopore', 'MC', 'fungi'),\n",
    "                                calculate_concordance_dbfixed('nanopore', 'MC', 'nt')]\n",
    "nanopore_MC_df['Classification strategy'] = Classification_strategy_list\n",
    "nanopore_MC_df['Sequencing strategy'] = ' PB-Nanopore '"
   ]
  },
  {
   "cell_type": "code",
   "execution_count": 71,
   "metadata": {},
   "outputs": [],
   "source": [
    "concordance_df_combined = pd.concat([illumina_IE_df, nanopore_IE_df, illumina_MC_df, nanopore_MC_df], ignore_index=True)\n",
    "concordance_df_combined.Concordance = concordance_df_combined.Concordance*100"
   ]
  },
  {
   "cell_type": "code",
   "execution_count": 45,
   "metadata": {},
   "outputs": [
    {
     "name": "stderr",
     "output_type": "stream",
     "text": [
      "/home/yiheng/anaconda3/lib/python3.6/site-packages/numpy/lib/arraysetops.py:580: FutureWarning: elementwise comparison failed; returning scalar instead, but in the future will perform elementwise comparison\n",
      "  mask |= (ar1 == a)\n"
     ]
    }
   ],
   "source": [
    "mean_confordance_illumina_IE_algorithmfixed = (calculate_concordance_algorithmfixed('illumina', 'IE', 'blast') +\n",
    "                                               calculate_concordance_algorithmfixed('illumina', 'IE', 'k2'))/0.02\n",
    "mean_confordance_illumina_IE_dbfixed = (calculate_concordance_dbfixed('illumina', 'IE', 'fungi') +\n",
    "                                        calculate_concordance_dbfixed('illumina', 'IE', 'nt'))/0.02\n",
    "mean_confordance_nanopore_IE_algorithmfixed = (calculate_concordance_algorithmfixed('nanopore', 'IE', 'blast') +\n",
    "                                               calculate_concordance_algorithmfixed('nanopore', 'IE', 'k2'))/0.02\n",
    "mean_confordance_nanopore_IE_dbfixed = (calculate_concordance_dbfixed('nanopore', 'IE', 'fungi') +\n",
    "                                        calculate_concordance_dbfixed('nanopore', 'IE', 'nt'))/0.02\n",
    "mean_confordance_illumina_MC_algorithmfixed = (calculate_concordance_algorithmfixed('illumina', 'MC', 'blast') +\n",
    "                                               calculate_concordance_algorithmfixed('illumina', 'MC', 'k2'))/0.02\n",
    "mean_confordance_illumina_MC_dbfixed = (calculate_concordance_dbfixed('illumina', 'MC', 'fungi') +\n",
    "                                        calculate_concordance_dbfixed('illumina', 'MC', 'nt'))/0.02\n",
    "mean_confordance_nanopore_MC_algorithmfixed = (calculate_concordance_algorithmfixed('nanopore', 'MC', 'blast') +\n",
    "                                               calculate_concordance_algorithmfixed('nanopore', 'MC', 'k2'))/0.02\n",
    "mean_confordance_nanopore_MC_dbfixed = (calculate_concordance_dbfixed('nanopore', 'MC', 'fungi') +\n",
    "                                        calculate_concordance_dbfixed('nanopore', 'MC', 'nt'))/0.02"
   ]
  },
  {
   "cell_type": "code",
   "execution_count": 53,
   "metadata": {},
   "outputs": [
    {
     "data": {
      "text/html": [
       "<div>\n",
       "<style scoped>\n",
       "    .dataframe tbody tr th:only-of-type {\n",
       "        vertical-align: middle;\n",
       "    }\n",
       "\n",
       "    .dataframe tbody tr th {\n",
       "        vertical-align: top;\n",
       "    }\n",
       "\n",
       "    .dataframe thead th {\n",
       "        text-align: right;\n",
       "    }\n",
       "</style>\n",
       "<table border=\"1\" class=\"dataframe\">\n",
       "  <thead>\n",
       "    <tr style=\"text-align: right;\">\n",
       "      <th></th>\n",
       "      <th>Concordance</th>\n",
       "      <th>Classification strategy</th>\n",
       "      <th>Sequencing strategy</th>\n",
       "    </tr>\n",
       "  </thead>\n",
       "  <tbody>\n",
       "    <tr>\n",
       "      <th>0</th>\n",
       "      <td>86.216179</td>\n",
       "      <td>Same algorithm</td>\n",
       "      <td>PD-Illumina</td>\n",
       "    </tr>\n",
       "    <tr>\n",
       "      <th>1</th>\n",
       "      <td>86.229983</td>\n",
       "      <td>Same algorithm</td>\n",
       "      <td>PD-Illumina</td>\n",
       "    </tr>\n",
       "    <tr>\n",
       "      <th>2</th>\n",
       "      <td>86.733424</td>\n",
       "      <td>Same database</td>\n",
       "      <td>PD-Illumina</td>\n",
       "    </tr>\n",
       "    <tr>\n",
       "      <th>3</th>\n",
       "      <td>83.490442</td>\n",
       "      <td>Same database</td>\n",
       "      <td>PD-Illumina</td>\n",
       "    </tr>\n",
       "    <tr>\n",
       "      <th>4</th>\n",
       "      <td>79.849853</td>\n",
       "      <td>Same algorithm</td>\n",
       "      <td>PD-Nanopore</td>\n",
       "    </tr>\n",
       "    <tr>\n",
       "      <th>5</th>\n",
       "      <td>70.925951</td>\n",
       "      <td>Same algorithm</td>\n",
       "      <td>PD-Nanopore</td>\n",
       "    </tr>\n",
       "    <tr>\n",
       "      <th>6</th>\n",
       "      <td>83.219497</td>\n",
       "      <td>Same database</td>\n",
       "      <td>PD-Nanopore</td>\n",
       "    </tr>\n",
       "    <tr>\n",
       "      <th>7</th>\n",
       "      <td>69.450897</td>\n",
       "      <td>Same database</td>\n",
       "      <td>PD-Nanopore</td>\n",
       "    </tr>\n",
       "    <tr>\n",
       "      <th>8</th>\n",
       "      <td>76.021434</td>\n",
       "      <td>Same algorithm</td>\n",
       "      <td>PB-Illumina</td>\n",
       "    </tr>\n",
       "    <tr>\n",
       "      <th>9</th>\n",
       "      <td>79.158508</td>\n",
       "      <td>Same algorithm</td>\n",
       "      <td>PB-Illumina</td>\n",
       "    </tr>\n",
       "    <tr>\n",
       "      <th>10</th>\n",
       "      <td>73.955167</td>\n",
       "      <td>Same database</td>\n",
       "      <td>PB-Illumina</td>\n",
       "    </tr>\n",
       "    <tr>\n",
       "      <th>11</th>\n",
       "      <td>74.738244</td>\n",
       "      <td>Same database</td>\n",
       "      <td>PB-Illumina</td>\n",
       "    </tr>\n",
       "    <tr>\n",
       "      <th>12</th>\n",
       "      <td>80.427333</td>\n",
       "      <td>Same algorithm</td>\n",
       "      <td>PB-Nanopore</td>\n",
       "    </tr>\n",
       "    <tr>\n",
       "      <th>13</th>\n",
       "      <td>75.147982</td>\n",
       "      <td>Same algorithm</td>\n",
       "      <td>PB-Nanopore</td>\n",
       "    </tr>\n",
       "    <tr>\n",
       "      <th>14</th>\n",
       "      <td>75.419251</td>\n",
       "      <td>Same database</td>\n",
       "      <td>PB-Nanopore</td>\n",
       "    </tr>\n",
       "    <tr>\n",
       "      <th>15</th>\n",
       "      <td>69.784447</td>\n",
       "      <td>Same database</td>\n",
       "      <td>PB-Nanopore</td>\n",
       "    </tr>\n",
       "  </tbody>\n",
       "</table>\n",
       "</div>"
      ],
      "text/plain": [
       "    Concordance Classification strategy Sequencing strategy\n",
       "0     86.216179          Same algorithm         PD-Illumina\n",
       "1     86.229983          Same algorithm         PD-Illumina\n",
       "2     86.733424           Same database         PD-Illumina\n",
       "3     83.490442           Same database         PD-Illumina\n",
       "4     79.849853          Same algorithm         PD-Nanopore\n",
       "5     70.925951          Same algorithm         PD-Nanopore\n",
       "6     83.219497           Same database         PD-Nanopore\n",
       "7     69.450897           Same database         PD-Nanopore\n",
       "8     76.021434          Same algorithm        PB-Illumina \n",
       "9     79.158508          Same algorithm        PB-Illumina \n",
       "10    73.955167           Same database        PB-Illumina \n",
       "11    74.738244           Same database        PB-Illumina \n",
       "12    80.427333          Same algorithm        PB-Nanopore \n",
       "13    75.147982          Same algorithm        PB-Nanopore \n",
       "14    75.419251           Same database        PB-Nanopore \n",
       "15    69.784447           Same database        PB-Nanopore "
      ]
     },
     "execution_count": 53,
     "metadata": {},
     "output_type": "execute_result"
    }
   ],
   "source": [
    "concordance_df_combined"
   ]
  },
  {
   "cell_type": "code",
   "execution_count": 72,
   "metadata": {},
   "outputs": [
    {
     "data": {
      "image/png": "[encoded data removed]",
      "text/plain": [
       "<Figure size 432x288 with 1 Axes>"
      ]
     },
     "metadata": {},
     "output_type": "display_data"
    }
   ],
   "source": [
    "sns.set(style=\"ticks\")\n",
    "x_labels = ['PD-Illumina', 'PD-Nanopore', ' PB-Illumina ', ' PB-Nanopore ']\n",
    "x_pos = np.arange(len(x_labels))\n",
    "\n",
    "\n",
    "ax = sns.swarmplot(x=\"Sequencing strategy\", y=\"Concordance\", hue='Classification strategy', edgecolor='1',\n",
    "                   data=concordance_df_combined, palette=\"tab10\", dodge=True)\n",
    "ax.set_xlabel(' ', fontsize=14)\n",
    "ax.yaxis.grid(linestyle='dotted')\n",
    "handles, labels = ax.get_legend_handles_labels()\n",
    "ax.legend(handles=handles[2:], labels=labels[2:])\n",
    "ax.set_xticklabels(x_labels, fontsize=14)\n",
    "plt.xticks(rotation=-15)\n",
    "ax.yaxis.set_label_text('Genus level concordance (%)', fontsize=14)\n",
    "plt.ylim(60, 100)\n",
    "# This is to plot the average/mean lines for each sample\n",
    "ax.plot([-0.275,-0.125], [mean_confordance_illumina_IE_algorithmfixed,mean_confordance_illumina_IE_algorithmfixed], lw=2, color='k')\n",
    "ax.plot([0.125,0.275], [mean_confordance_illumina_IE_dbfixed,mean_confordance_illumina_IE_dbfixed], lw=2, color='k')\n",
    "ax.plot([0.725,0.875], [mean_confordance_nanopore_IE_algorithmfixed,mean_confordance_nanopore_IE_algorithmfixed], lw=2, color='k')\n",
    "ax.plot([1.125,1.275], [mean_confordance_nanopore_IE_dbfixed,mean_confordance_nanopore_IE_dbfixed], lw=2, color='k')\n",
    "ax.plot([1.725,1.875], [mean_confordance_illumina_MC_algorithmfixed,mean_confordance_illumina_MC_algorithmfixed], lw=2, color='k')\n",
    "ax.plot([2.125,2.275], [mean_confordance_illumina_MC_dbfixed,mean_confordance_illumina_MC_dbfixed], lw=2, color='k')\n",
    "ax.plot([2.725,2.875], [mean_confordance_nanopore_MC_algorithmfixed,mean_confordance_nanopore_MC_algorithmfixed], lw=2, color='k')\n",
    "ax.plot([3.125,3.275], [mean_confordance_nanopore_MC_dbfixed,mean_confordance_nanopore_MC_dbfixed], lw=2, color='k')\n",
    "\n",
    "#plt.show()\n",
    "plt.savefig(os.path.join(sourcedir, 'figures', 'Figure1A_all_reads.png'), bbox_inches=\"tight\", dpi=1000)"
   ]
  },
  {
   "cell_type": "code",
   "execution_count": null,
   "metadata": {},
   "outputs": [],
   "source": []
  },
  {
   "cell_type": "code",
   "execution_count": null,
   "metadata": {},
   "outputs": [],
   "source": []
  },
  {
   "cell_type": "code",
   "execution_count": null,
   "metadata": {},
   "outputs": [],
   "source": []
  },
  {
   "cell_type": "code",
   "execution_count": null,
   "metadata": {},
   "outputs": [],
   "source": []
  },
  {
   "cell_type": "code",
   "execution_count": null,
   "metadata": {},
   "outputs": [],
   "source": []
  },
  {
   "cell_type": "code",
   "execution_count": null,
   "metadata": {},
   "outputs": [],
   "source": []
  },
  {
   "cell_type": "code",
   "execution_count": 79,
   "metadata": {},
   "outputs": [],
   "source": [
    "nanopore_MC_fungi_blast_df.columns = ['%s_fungi' % x for x in nanopore_MC_fungi_blast_df.columns]\n",
    "nanopore_MC_nt_blast_df.columns = ['%s_nt' % x for x in nanopore_MC_nt_blast_df.columns]\n",
    "nanopore_MC_blast_df = pd.merge(nanopore_MC_fungi_blast_df, nanopore_MC_nt_blast_df, \n",
    "                                how=\"outer\", \n",
    "                                left_on='qseqid_blast_fungi', \n",
    "                                right_on='qseqid_blast_nt')"
   ]
  },
  {
   "cell_type": "code",
   "execution_count": 80,
   "metadata": {},
   "outputs": [],
   "source": [
    "def trim_merged_df_blast(merged_df, seq_tech):\n",
    "    trimed_merged_df = merged_df[(~merged_df.superkingdom_blast_fungi.isna()) \n",
    "                                  | ~merged_df.superkingdom_blast_nt.isna()]\n",
    "    if seq_tech == 'illumina':\n",
    "        trimed_merged_df = merged_df.drop(columns=['len_blast', 'ave_cov_blast', 'total_cov_blast', 'evalue_blast', \n",
    "                                                   'pident_blast', 'pmatch_blast', 'len_k2', 'ave_cov_k2', 'classification_k2', \n",
    "                                                   'taxid_k2', 'seqlen_k2', 'kmer_profile_k2',])\n",
    "        # all the contigs that has no coverage means they are false assembly. They won't contribute to the analysis so we get rid of them\n",
    "        trimed_merged_df = trimed_merged_df[~trimed_merged_df.total_cov_k2.isna()]\n",
    "    elif seq_tech == 'nanopore':\n",
    "        trimed_merged_df = merged_df[(~merged_df.superkingdom_blast_fungi.isna()) \n",
    "                                      | ~merged_df.superkingdom_blast_nt.isna()]\n",
    "        trimed_merged_df = trimed_merged_df.drop(columns=['batch_id_blast_fungi',  'scaling_median_template_blast_fungi',\n",
    "                                                   'scaling_mad_template_blast_fungi', 'pident_blast_fungi', 'nident_blast_fungi', 'staxids_blast_fungi',\n",
    "                                                   'sscinames_blast_fungi', 'log_evalue_blast_fungi', 'pmatch_blast_fungi', 'batch_id_blast_nt', 'scaling_median_template_blast_nt',\n",
    "                                                   'scaling_mad_template_blast_nt', 'qseqid_blast_nt', 'pident_blast_nt',\n",
    "                                                   'nident_blast_nt', 'staxids_blast_nt', 'sscinames_blast_nt',\n",
    "                                                   'log_evalue_blast_nt', 'pmatch_blast_nt'])\n",
    "    else:\n",
    "        print('Data type not recognized. Can only recognize illumina or nanopore data.')\n",
    "    trimed_merged_df.superkingdom_blast_fungi = trimed_merged_df.superkingdom_blast_fungi.fillna(value='Unclassified')\n",
    "    trimed_merged_df.phylum_blast_fungi = trimed_merged_df.phylum_blast_fungi.fillna(value='Unclassified')\n",
    "    trimed_merged_df.class_blast_fungi = trimed_merged_df.class_blast_fungi.fillna(value='Unclassified')\n",
    "    trimed_merged_df.order_blast_fungi = trimed_merged_df.order_blast_fungi.fillna(value='Unclassified')\n",
    "    trimed_merged_df.family_blast_fungi = trimed_merged_df.family_blast_fungi.fillna(value='Unclassified')\n",
    "    trimed_merged_df.genus_blast_fungi = trimed_merged_df.genus_blast_fungi.fillna(value='Unclassified')\n",
    "    trimed_merged_df.species_blast_fungi = trimed_merged_df.species_blast_fungi.fillna(value='Unclassified')\n",
    "    trimed_merged_df.superkingdom_blast_nt = trimed_merged_df.superkingdom_blast_nt.fillna(value='Unclassified')\n",
    "    trimed_merged_df.phylum_blast_nt = trimed_merged_df.phylum_blast_nt.fillna(value='Unclassified')\n",
    "    trimed_merged_df.class_blast_nt = trimed_merged_df.class_blast_nt.fillna(value='Unclassified')\n",
    "    trimed_merged_df.order_blast_nt = trimed_merged_df.order_blast_nt.fillna(value='Unclassified')\n",
    "    trimed_merged_df.family_blast_nt = trimed_merged_df.family_blast_nt.fillna(value='Unclassified')\n",
    "    trimed_merged_df.genus_blast_nt = trimed_merged_df.genus_blast_nt.fillna(value='Unclassified')\n",
    "    trimed_merged_df.species_blast_nt = trimed_merged_df.species_blast_nt.fillna(value='Unclassified')\n",
    "    trimed_merged_df = trimed_merged_df.reset_index(drop=True)\n",
    "    return trimed_merged_df"
   ]
  },
  {
   "cell_type": "code",
   "execution_count": 81,
   "metadata": {},
   "outputs": [],
   "source": [
    "trimed_nanopore_MC_blast_shared = trim_merged_df_blast(nanopore_MC_blast_df, 'nanopore')"
   ]
  },
  {
   "cell_type": "code",
   "execution_count": 82,
   "metadata": {},
   "outputs": [],
   "source": [
    "trimed_nanopore_MC_blast_shared_1 = trimed_nanopore_MC_blast_shared[trimed_nanopore_MC_blast_shared.sequence_length_template_blast_fungi.isna()]\n",
    "trimed_nanopore_MC_blast_shared_2 = trimed_nanopore_MC_blast_shared[trimed_nanopore_MC_blast_shared.sequence_length_template_blast_nt.isna()]\n",
    "trimed_nanopore_MC_blast_shared_3 = trimed_nanopore_MC_blast_shared[(~trimed_nanopore_MC_blast_shared.sequence_length_template_blast_fungi.isna()\n",
    "                                                                    & (~trimed_nanopore_MC_blast_shared.sequence_length_template_blast_nt.isna()))]"
   ]
  },
  {
   "cell_type": "code",
   "execution_count": 83,
   "metadata": {},
   "outputs": [
    {
     "name": "stderr",
     "output_type": "stream",
     "text": [
      "/home/yiheng/anaconda3/lib/python3.6/site-packages/pandas/core/generic.py:5159: SettingWithCopyWarning: \n",
      "A value is trying to be set on a copy of a slice from a DataFrame.\n",
      "Try using .loc[row_indexer,col_indexer] = value instead\n",
      "\n",
      "See the caveats in the documentation: https://pandas.pydata.org/pandas-docs/stable/user_guide/indexing.html#returning-a-view-versus-a-copy\n",
      "  self[name] = value\n"
     ]
    }
   ],
   "source": [
    "trimed_nanopore_MC_blast_shared_1.sequence_length_template_blast_fungi = trimed_nanopore_MC_blast_shared_1.sequence_length_template_blast_nt\n",
    "trimed_nanopore_MC_blast_shared_2.sequence_length_template_blast_nt = trimed_nanopore_MC_blast_shared_1.sequence_length_template_blast_fungi"
   ]
  },
  {
   "cell_type": "code",
   "execution_count": 84,
   "metadata": {},
   "outputs": [],
   "source": [
    "trimed_nanopore_MC_blast_shared_final = pd.concat([trimed_nanopore_MC_blast_shared_1,trimed_nanopore_MC_blast_shared_2, trimed_nanopore_MC_blast_shared_3], ignore_index=False)\n",
    "trimed_nanopore_MC_blast_shared_final = trimed_nanopore_MC_blast_shared_final.sort_index()"
   ]
  },
  {
   "cell_type": "code",
   "execution_count": 85,
   "metadata": {},
   "outputs": [],
   "source": [
    "trimed_nanopore_MC_blast_shared_final['source'] = trimed_nanopore_MC_blast_shared_final.genus_blast_fungi\n",
    "trimed_nanopore_MC_blast_shared_final['target'] = trimed_nanopore_MC_blast_shared_final.genus_blast_nt\n",
    "trimed_nanopore_MC_blast_shared_final['value'] = trimed_nanopore_MC_blast_shared_final.sequence_length_template_blast_fungi"
   ]
  },
  {
   "cell_type": "code",
   "execution_count": 98,
   "metadata": {},
   "outputs": [],
   "source": [
    "overlapped_trimed_nanopore_MC_blast_shared_final = trimed_nanopore_MC_blast_shared_final[(trimed_nanopore_MC_blast_shared_final.source.isin(genera_in_mock)) |\n",
    "                                                                      (trimed_nanopore_MC_blast_shared_final.target.isin(genera_in_mock))]"
   ]
  },
  {
   "cell_type": "code",
   "execution_count": null,
   "metadata": {},
   "outputs": [],
   "source": []
  },
  {
   "cell_type": "code",
   "execution_count": 99,
   "metadata": {},
   "outputs": [],
   "source": [
    "fungi_dataset = Dataset(overlapped_trimed_nanopore_MC_blast_shared_final)"
   ]
  },
  {
   "cell_type": "code",
   "execution_count": 100,
   "metadata": {},
   "outputs": [],
   "source": [
    "nodes = {\n",
    "    'genera_blast_fungi': ProcessGroup(overlapped_trimed_nanopore_MC_blast_shared_final.genus_blast_fungi.tolist()),\n",
    "    'genera_blast_nt': ProcessGroup(overlapped_trimed_nanopore_MC_blast_shared_final.genus_blast_nt.tolist()),\n",
    "}\n",
    "\n",
    "ordering = [\n",
    "    ['genera_blast_fungi'],       # put \"farms\" on the left...\n",
    "    ['genera_blast_nt']   # ... and \"customers\" on the right.\n",
    "]\n",
    "bundles = [\n",
    "    Bundle('genera_blast_fungi', 'genera_blast_nt')\n",
    "]\n",
    "sdd = SankeyDefinition(nodes, bundles, ordering)\n",
    "\n",
    "blast_fungi_genera_with_other = Partition.Simple('process', [\n",
    "     'Unclassified', ('Shared genera', ['Aspergillus','Blastobotrys','Candida','Diutina', 'Nakaseomyces', 'Clavispora','Cryptococcus','Cyberlindnera',\n",
    "'Debaryomyces','Geotrichum','Kluyveromyces','Kodamaea','Lomentospora','Magnusiomyces','Meyerozyma','Pichia',\n",
    "'Rhodotorula','Scedosporium','Trichophyton', 'Trichosporon', 'Wickerhamomyces','Yarrowia','Zygoascus', 'Purpureocillium']) ])   # ... or a group\n",
    "\n",
    "blast_nt_genera_genera_with_other = Partition.Simple('process', [\n",
    "    'Unclassified',('Shared genera', ['Aspergillus','Blastobotrys','Candida','Diutina', 'Nakaseomyces', 'Clavispora','Cryptococcus','Cyberlindnera',\n",
    "'Debaryomyces','Geotrichum','Kluyveromyces','Kodamaea','Lomentospora','Magnusiomyces','Meyerozyma','Pichia',\n",
    "'Rhodotorula','Scedosporium','Trichophyton', 'Trichosporon', 'Wickerhamomyces','Yarrowia','Zygoascus', 'Purpureocillium']) # ... or a group\n",
    "])"
   ]
  },
  {
   "cell_type": "code",
   "execution_count": 101,
   "metadata": {},
   "outputs": [],
   "source": [
    "nodes['genera_blast_fungi'].partition = blast_fungi_genera_with_other\n",
    "nodes['genera_blast_nt'].partition = blast_nt_genera_genera_with_other"
   ]
  },
  {
   "cell_type": "code",
   "execution_count": 121,
   "metadata": {},
   "outputs": [
    {
     "data": {
      "application/vnd.jupyter.widget-view+json": {
       "model_id": "4f44390aff844caa93cb981313a04faa",
       "version_major": 2,
       "version_minor": 0
      },
      "text/plain": [
       "SankeyWidget(groups=[{'id': 'genera_blast_fungi', 'type': 'process', 'title': '', 'nodes': ['genera_blast_fung…"
      ]
     },
     "metadata": {},
     "output_type": "display_data"
    }
   ],
   "source": [
    "size = dict(width=400, height=200)\n",
    "weave(sdd, fungi_dataset).to_widget(**size).auto_save_svg('/home/yiheng/MinION_data/figures/Figure1_blast_fungi_nt.svg')"
   ]
  },
  {
   "cell_type": "code",
   "execution_count": null,
   "metadata": {},
   "outputs": [],
   "source": []
  },
  {
   "cell_type": "code",
   "execution_count": null,
   "metadata": {},
   "outputs": [],
   "source": []
  },
  {
   "cell_type": "code",
   "execution_count": null,
   "metadata": {},
   "outputs": [],
   "source": []
  }
 ],
 "metadata": {
  "kernelspec": {
   "display_name": "Python 3",
   "language": "python",
   "name": "python3"
  },
  "language_info": {
   "codemirror_mode": {
    "name": "ipython",
    "version": 3
   },
   "file_extension": ".py",
   "mimetype": "text/x-python",
   "name": "python",
   "nbconvert_exporter": "python",
   "pygments_lexer": "ipython3",
   "version": "3.6.10"
  }
 },
 "nbformat": 4,
 "nbformat_minor": 4
}
