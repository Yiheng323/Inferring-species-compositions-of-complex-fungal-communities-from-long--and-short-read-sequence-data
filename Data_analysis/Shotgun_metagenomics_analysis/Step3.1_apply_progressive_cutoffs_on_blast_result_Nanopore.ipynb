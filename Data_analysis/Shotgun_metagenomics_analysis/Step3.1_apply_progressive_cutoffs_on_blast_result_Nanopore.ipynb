{
 "cells": [
  {
   "cell_type": "code",
   "execution_count": 1,
   "metadata": {},
   "outputs": [],
   "source": [
    "# modules required for handling dataframes\n",
    "import numpy as np\n",
    "import os\n",
    "import pandas as pd\n",
    "import matplotlib.pyplot as plt\n",
    "from decimal import Decimal"
   ]
  },
  {
   "cell_type": "code",
   "execution_count": 2,
   "metadata": {},
   "outputs": [],
   "source": [
    "# put in all input parameters. Here I am showing the code for one sample as an example.\n",
    "# to generate the final_df for other samples, simply change the basedir and barcode, as all file names just has this two difference between each two samples.\n",
    "# please note that there are other places of this script that require understanding and hard coding skills which I also commented below.\n",
    "\n",
    "sourcedir = '/home/yiheng/MinION_data' # the directory where all the documents of each sequencing run are stored.\n",
    "barcode = '05' # the barcode for each sample. Barcode05 is PD sample, 06 is PB sample.\n",
    "basedir = os.path.join(sourcedir, 'barcode%s' % barcode)\n",
    "db = \"refseq_fungi_updated\" # database used\n",
    "genera_in_mock = ['Aspergillus','Blastobotrys','Candida','Diutina', 'Nakaseomyces', 'Clavispora','Cryptococcus','Cyberlindnera',\n",
    "'Debaryomyces','Geotrichum','Kluyveromyces','Kodamaea','Lomentospora','Magnusiomyces','Meyerozyma','Pichia',\n",
    "'Rhodotorula','Scedosporium','Trichophyton', 'Trichosporon', 'Wickerhamomyces','Yarrowia','Zygoascus', 'Purpureocillium']"
   ]
  },
  {
   "cell_type": "code",
   "execution_count": 3,
   "metadata": {},
   "outputs": [],
   "source": [
    "blastdf_dir = os.path.join(basedir, 'barcode%s.%sdb_blast.tab' % (barcode,db)) # the directory for .blast_output file\n",
    "blast_df = pd.read_csv(blastdf_dir, index_col=0, sep='\\t')"
   ]
  },
  {
   "cell_type": "code",
   "execution_count": 4,
   "metadata": {},
   "outputs": [
    {
     "data": {
      "text/plain": [
       "2223839802"
      ]
     },
     "execution_count": 4,
     "metadata": {},
     "output_type": "execute_result"
    }
   ],
   "source": [
    "# this is for the total # of bases, which is total number of reads passed QC (7)\n",
    "seq_sum_dir = os.path.join(basedir, 'sequencing_summary_barcode%s.txt' % barcode) # the directory of sequencing summary file for each run\n",
    "seq_sum_df = pd.read_csv(seq_sum_dir, sep='\\t')\n",
    "seq_sum_df_pass = seq_sum_df[seq_sum_df.passes_filtering==True]\n",
    "seq_sum_df_pass.sequence_length_template.sum()"
   ]
  },
  {
   "cell_type": "code",
   "execution_count": 5,
   "metadata": {},
   "outputs": [
    {
     "data": {
      "text/plain": [
       "Index(['filename', 'read_id', 'run_id', 'batch_id', 'channel', 'mux',\n",
       "       'start_time', 'duration', 'num_events', 'passes_filtering',\n",
       "       'template_start', 'num_events_template', 'template_duration',\n",
       "       'sequence_length_template', 'mean_qscore_template',\n",
       "       'strand_score_template', 'median_template', 'mad_template',\n",
       "       'scaling_median_template', 'scaling_mad_template'],\n",
       "      dtype='object')"
      ]
     },
     "execution_count": 5,
     "metadata": {},
     "output_type": "execute_result"
    }
   ],
   "source": [
    "seq_sum_df_pass.columns"
   ]
  },
  {
   "cell_type": "code",
   "execution_count": 6,
   "metadata": {},
   "outputs": [],
   "source": [
    "seq_sum_df_pass_drop = seq_sum_df_pass.drop(columns=['batch_id', 'filename', 'run_id', 'channel', 'mux', 'start_time',\n",
    "       'duration', 'num_events', 'passes_filtering', 'template_start','num_events_template', 'template_duration', \n",
    "        'strand_score_template', 'median_template', 'mad_template', 'scaling_median_template', 'scaling_mad_template'])\n",
    "subset_seq_sum_df_unclassified = seq_sum_df_pass_drop[~seq_sum_df_pass_drop.read_id.isin(blast_df.qseqid_blast)]\n",
    "subset_seq_sum_df_pass = seq_sum_df_pass_drop[seq_sum_df_pass_drop.read_id.isin(blast_df.qseqid_blast)]"
   ]
  },
  {
   "cell_type": "code",
   "execution_count": 7,
   "metadata": {},
   "outputs": [
    {
     "data": {
      "text/plain": [
       "1618364905"
      ]
     },
     "execution_count": 7,
     "metadata": {},
     "output_type": "execute_result"
    }
   ],
   "source": [
    "total_blast_df = pd.merge(blast_df, seq_sum_df_pass_drop,how=\"outer\", left_on='qseqid_blast', right_on='read_id')\n",
    "total_blast_df['superkingdom_blast'] = 'Eukaryota'\n",
    "total_blast_df['sequence_length_template_blast'] = total_blast_df['sequence_length_template']\n",
    "total_blast_fillna = total_blast_df.fillna(value='unclassified')\n",
    "total_blast_fillna[total_blast_fillna.pident_blast != 'unclassified'].sequence_length_template.sum()"
   ]
  },
  {
   "cell_type": "code",
   "execution_count": 8,
   "metadata": {},
   "outputs": [],
   "source": [
    "final_df = pd.merge(blast_df, subset_seq_sum_df_pass,how=\"outer\", left_on='qseqid_blast', right_on='read_id')"
   ]
  },
  {
   "cell_type": "code",
   "execution_count": 9,
   "metadata": {},
   "outputs": [],
   "source": [
    "def generate_taxonomy_pivot_sum_blast(tax_df, rank, bcs, num):\n",
    "    \"\"\"From tax_df, generate a pivot table listing num rank counts, sorted by bcs\"\"\"\n",
    "    pivot_table = tax_df.pivot_table(values='sequence_length_template_blast', \n",
    "                                            index=rank, \n",
    "                                            columns='superkingdom_blast', \n",
    "                                            aggfunc='sum', \n",
    "                                            fill_value=0)\n",
    "    pivot_table.columns.name = None\n",
    "    pivot_table = pivot_table.sort_values(bcs, axis=0, ascending=False).head(n=num)\n",
    "    return pivot_table"
   ]
  },
  {
   "cell_type": "code",
   "execution_count": 10,
   "metadata": {},
   "outputs": [],
   "source": [
    "# Alright, here is the math. \n",
    "# Actually they can be all merged into one function but no harm to keep it like that as it's clearer.\n",
    "# Here the pmatch is the query coverage.\n",
    "def calculate_precision_pmatch(blast_df, pmatch):\n",
    "    subset_blast_df = blast_df[blast_df.pmatch_blast >= float(pmatch)]\n",
    "    fungidb_blast_pivot = generate_taxonomy_pivot_sum_blast(subset_blast_df, 'genus_blast', 'Eukaryota', 2000) \n",
    "    subset_fungidb_blast_pivot = fungidb_blast_pivot[fungidb_blast_pivot.index.isin(genera_in_mock)]\n",
    "    precision = float((subset_fungidb_blast_pivot.sum().sum())/fungidb_blast_pivot['Eukaryota'].sum()*100)\n",
    "    return precision\n",
    "\n",
    "def calculate_precision_pident(blast_df, pident):\n",
    "    subset_blast_df = blast_df[blast_df.pident_blast >= float(pident)]\n",
    "    fungidb_blast_pivot = generate_taxonomy_pivot_sum_blast(subset_blast_df, 'genus_blast', 'Eukaryota', 2000) \n",
    "    subset_fungidb_blast_pivot = fungidb_blast_pivot[fungidb_blast_pivot.index.isin(genera_in_mock)]\n",
    "    precision = float((subset_fungidb_blast_pivot.sum().sum())/fungidb_blast_pivot['Eukaryota'].sum()*100)\n",
    "    return precision\n",
    "\n",
    "def calculate_precision_length(blast_df, length):\n",
    "    subset_blast_df = blast_df[blast_df.sequence_length_template_blast >= float(length)]\n",
    "    fungidb_blast_pivot = generate_taxonomy_pivot_sum_blast(subset_blast_df, 'genus_blast', 'Eukaryota', 2000) \n",
    "    subset_fungidb_blast_pivot = fungidb_blast_pivot[fungidb_blast_pivot.index.isin(genera_in_mock)]\n",
    "    precision = float((subset_fungidb_blast_pivot.sum().sum())/fungidb_blast_pivot['Eukaryota'].sum()*100)\n",
    "    return precision\n",
    "\n",
    "def calculate_precision_evalue(blast_df, evalue):\n",
    "    subset_blast_df = blast_df[blast_df.log_evalue_blast >= int(evalue)]\n",
    "    fungidb_blast_pivot = generate_taxonomy_pivot_sum_blast(subset_blast_df, 'genus_blast', 'Eukaryota', 2000) \n",
    "    subset_fungidb_blast_pivot = fungidb_blast_pivot[fungidb_blast_pivot.index.isin(genera_in_mock)]\n",
    "    precision = float((subset_fungidb_blast_pivot.sum().sum())/fungidb_blast_pivot['Eukaryota'].sum()*100)\n",
    "    return precision\n",
    "\n",
    "def calculate_precision_qscore(blast_df, qscore):\n",
    "    subset_blast_df = blast_df[blast_df.mean_qscore_template >= int(qscore)]\n",
    "    fungidb_blast_pivot = generate_taxonomy_pivot_sum_blast(subset_blast_df, 'genus_blast', 'Eukaryota', 2000) \n",
    "    subset_fungidb_blast_pivot = fungidb_blast_pivot[fungidb_blast_pivot.index.isin(genera_in_mock)]\n",
    "    precision = float(subset_fungidb_blast_pivot.sum()/fungidb_blast_pivot.sum()*100)\n",
    "    return precision\n",
    "\n",
    "def calculate_completeness_pmatch(blast_df, pmatch):\n",
    "    subset_blast_df = blast_df[blast_df.pmatch_blast >= float(pmatch)]\n",
    "    fungidb_blast_pivot = generate_taxonomy_pivot_sum_blast(subset_blast_df, 'genus_blast', 'Eukaryota', 2000) \n",
    "    subset_fungidb_blast_pivot = fungidb_blast_pivot[fungidb_blast_pivot.index.isin(genera_in_mock)]\n",
    "# 24 is the number of genera that in the community, including the contaminative species and those alternative names\n",
    "    completeness = len(subset_fungidb_blast_pivot)/24*100\n",
    "    return completeness\n",
    "\n",
    "def calculate_completeness_pident(blast_df, pident):\n",
    "    subset_blast_df = blast_df[blast_df.pident_blast >= float(pident)]\n",
    "    fungidb_blast_pivot = generate_taxonomy_pivot_sum_blast(subset_blast_df, 'genus_blast', 'Eukaryota', 2000) \n",
    "    subset_fungidb_blast_pivot = fungidb_blast_pivot[fungidb_blast_pivot.index.isin(genera_in_mock)]\n",
    "    completeness = len(subset_fungidb_blast_pivot)/24*100\n",
    "    return completeness\n",
    "\n",
    "def calculate_completeness_length(blast_df, length):\n",
    "    subset_blast_df = blast_df[blast_df.sequence_length_template_blast >= float(length)]\n",
    "    fungidb_blast_pivot = generate_taxonomy_pivot_sum_blast(subset_blast_df, 'genus_blast', 'Eukaryota', 2000) \n",
    "    subset_fungidb_blast_pivot = fungidb_blast_pivot[fungidb_blast_pivot.index.isin(genera_in_mock)]\n",
    "    completeness = len(subset_fungidb_blast_pivot)/24*100\n",
    "    return completeness\n",
    "\n",
    "def calculate_completeness_evalue(blast_df, evalue):\n",
    "    subset_blast_df = blast_df[blast_df.log_evalue_blast >= int(evalue)]\n",
    "    fungidb_blast_pivot = generate_taxonomy_pivot_sum_blast(subset_blast_df, 'genus_blast', 'Eukaryota', 2000) \n",
    "    subset_fungidb_blast_pivot = fungidb_blast_pivot[fungidb_blast_pivot.index.isin(genera_in_mock)]\n",
    "    completeness = len(subset_fungidb_blast_pivot)/24*100\n",
    "    return completeness\n",
    "\n",
    "def calculate_completeness_qscore(blast_df, qscore):\n",
    "    subset_blast_df = blast_df[blast_df.mean_qscore_template >= int(qscore)]\n",
    "    fungidb_blast_pivot = generate_taxonomy_pivot_sum_blast(subset_blast_df, 'genus_blast', 'Eukaryota', 2000) \n",
    "    subset_fungidb_blast_pivot = fungidb_blast_pivot[fungidb_blast_pivot.index.isin(genera_in_mock)]\n",
    "    # 24 is the number of genera that in the community, including the contaminative species and those alternative names\n",
    "    completeness = len(subset_fungidb_blast_pivot)/24*100\n",
    "    return completeness"
   ]
  },
  {
   "cell_type": "code",
   "execution_count": 11,
   "metadata": {},
   "outputs": [],
   "source": [
    "# Please not that there is a difference in the denominator of calculating remaining rate.\n",
    "# This is to reflect the 'actual' remaining rate before we run the alignement.\n",
    "# For all other alignment parameters, we cannot do it because they are dependent on the alignment result.\n",
    "# For Illumina data, it was not much unaligned contigs so I just used the total number of aligned contigs for the calculation.\n",
    "def calculate_remaining_length(blast_df, length):\n",
    "    if barcode == '06':\n",
    "        subset_blast_df = blast_df[blast_df.sequence_length_template_blast >= float(length)]\n",
    "        fungidb_blast_pivot = generate_taxonomy_pivot_sum_blast(subset_blast_df, 'genus_blast', 'Eukaryota', 20000) \n",
    "        remaining_rate = float(fungidb_blast_pivot.sum().sum()/4052192342*100)\n",
    "        return remaining_rate\n",
    "    elif barcode == '05':\n",
    "        subset_blast_df = blast_df[blast_df.sequence_length_template_blast >= float(length)]\n",
    "        fungidb_blast_pivot = generate_taxonomy_pivot_sum_blast(subset_blast_df, 'genus_blast', 'Eukaryota', 20000) \n",
    "        remaining_rate = float(fungidb_blast_pivot.sum().sum()/2223839802*100)\n",
    "        return remaining_rate\n",
    "\n",
    "def calculate_remaining_evalue(blast_df, evalue):\n",
    "    if barcode == '06':\n",
    "        subset_blast_df = blast_df[blast_df.log_evalue_blast >= int(evalue)]\n",
    "        fungidb_blast_pivot = generate_taxonomy_pivot_sum_blast(subset_blast_df, 'genus_blast', 'Eukaryota', 20000) \n",
    "        remaining_rate = float(fungidb_blast_pivot.sum()/2905573749*100)\n",
    "        return remaining_rate\n",
    "    elif barcode == '05':\n",
    "        subset_blast_df = blast_df[blast_df.log_evalue_blast >= int(evalue)]\n",
    "        fungidb_blast_pivot = generate_taxonomy_pivot_sum_blast(subset_blast_df, 'genus_blast', 'Eukaryota', 20000) \n",
    "        remaining_rate = float(fungidb_blast_pivot.sum()/1618364905*100)\n",
    "        return remaining_rate\n",
    "\n",
    "def calculate_remaining_pmatch(blast_df, pmatch):\n",
    "    if barcode == '06':\n",
    "        subset_blast_df = blast_df[blast_df.pmatch_blast >= int(pmatch)]\n",
    "        fungidb_blast_pivot = generate_taxonomy_pivot_sum_blast(subset_blast_df, 'genus_blast', 'Eukaryota', 20000) \n",
    "        remaining_rate = float(fungidb_blast_pivot.sum()/2905573749*100)\n",
    "        return remaining_rate\n",
    "    elif barcode == '05':\n",
    "        subset_blast_df = blast_df[blast_df.pmatch_blast >= int(pmatch)]\n",
    "        fungidb_blast_pivot = generate_taxonomy_pivot_sum_blast(subset_blast_df, 'genus_blast', 'Eukaryota', 20000) \n",
    "        remaining_rate = float(fungidb_blast_pivot.sum()/1618364905*100)\n",
    "        return remaining_rate\n",
    "    \n",
    "def calculate_remaining_pident(blast_df, pident):\n",
    "    if barcode == '06':\n",
    "        subset_blast_df = blast_df[blast_df.pident_blast >= int(pident)]\n",
    "        fungidb_blast_pivot = generate_taxonomy_pivot_sum_blast(subset_blast_df, 'genus_blast', 'Eukaryota', 20000) \n",
    "        remaining_rate = float(fungidb_blast_pivot.sum()/2905573749*100)\n",
    "        return remaining_rate\n",
    "    elif barcode == '05':\n",
    "        subset_blast_df = blast_df[blast_df.pident_blast >= int(pident)]\n",
    "        fungidb_blast_pivot = generate_taxonomy_pivot_sum_blast(subset_blast_df, 'genus_blast', 'Eukaryota', 20000) \n",
    "        remaining_rate = float(fungidb_blast_pivot.sum()/3363783952*100)\n",
    "        return remaining_rate\n",
    "\n",
    "def calculate_remaining_qscore(blast_df, qscore):\n",
    "    if barcode == '06':\n",
    "        subset_blast_df = blast_df[blast_df.mean_qscore_template >= float(qscore)]\n",
    "        fungidb_blast_pivot = generate_taxonomy_pivot_sum_blast(subset_blast_df, 'genus_blast', 'Eukaryota', 2000) \n",
    "        remaining_rate = float(fungidb_blast_pivot.sum()/4052192342*100)\n",
    "        return remaining_rate\n",
    "    elif barcode == '05':\n",
    "        subset_blast_df = blast_df[blast_df.mean_qscore_template >= float(qscore)]\n",
    "        fungidb_blast_pivot = generate_taxonomy_pivot_sum_blast(subset_blast_df, 'genus_blast', 'Eukaryota', 2000) \n",
    "        remaining_rate = float(fungidb_blast_pivot.sum()/2223839802*100)\n",
    "        return remaining_rate    \n"
   ]
  },
  {
   "cell_type": "code",
   "execution_count": 12,
   "metadata": {},
   "outputs": [],
   "source": [
    "qscore_precision_df = pd.DataFrame()\n",
    "# Here the range may need to be hard coded according to the qscore range.\n",
    "qscore_precision_df['qscore'] = np.arange(7, 20, 0.1)\n",
    "qscore_precision_df['precision'] = np.nan\n",
    "\n",
    "for qscore in qscore_precision_df['qscore']:\n",
    "    qscore_precision_df.iloc[int(qscore_precision_df[qscore_precision_df['qscore']==qscore].index[0]),\n",
    "                             qscore_precision_df.columns.get_loc('precision')] = calculate_precision_qscore(final_df, qscore)\n",
    "\n",
    "qscore_precision_df.to_csv(os.path.join(basedir, 'barcode%s.%sdb_qscore_precision.tab' % (barcode, db)), sep='\\t')"
   ]
  },
  {
   "cell_type": "code",
   "execution_count": 13,
   "metadata": {},
   "outputs": [],
   "source": [
    "qscore_completeness_df = pd.DataFrame()\n",
    "qscore_completeness_df['qscore'] = np.arange(7, 20.6, 0.1)\n",
    "qscore_completeness_df['completeness'] = np.nan\n",
    "\n",
    "for qscore in qscore_completeness_df['qscore']:\n",
    "    qscore_completeness_df.iloc[int(qscore_completeness_df[qscore_completeness_df['qscore']==qscore].index[0]),\n",
    "                          qscore_completeness_df.columns.get_loc('completeness')] = calculate_completeness_qscore(final_df, qscore)\n",
    "\n",
    "qscore_completeness_df.to_csv(os.path.join(basedir, 'barcode%s.%sdb_qscore_completeness.tab' % (barcode, db)), sep='\\t')"
   ]
  },
  {
   "cell_type": "code",
   "execution_count": 14,
   "metadata": {},
   "outputs": [],
   "source": [
    "# log_evalue normaly ends at 414 or 415, the computer will not recognize if higher than that.\n",
    "evalue_x_precision = pd.DataFrame()\n",
    "evalue_x_precision['evalue'] = range(0, 414)\n",
    "evalue_x_precision['precision_rate'] = np.nan\n",
    "\n",
    "for evalue in range(0, 414):\n",
    "    evalue_x_precision.iloc[evalue, evalue_x_precision.columns.get_loc('precision_rate')] = calculate_precision_evalue(final_df, evalue)\n",
    "\n",
    "evalue_x_precision.to_csv(os.path.join(basedir, 'barcode%s.%sdb_evalue_precision.tab' % (barcode, db)), sep='\\t')"
   ]
  },
  {
   "cell_type": "code",
   "execution_count": 15,
   "metadata": {},
   "outputs": [],
   "source": [
    "evalue_x_completeness = pd.DataFrame()\n",
    "evalue_x_completeness['evalue'] = range(0, 414)\n",
    "evalue_x_completeness['completeness'] = np.nan\n",
    "\n",
    "for evalue in range(0, 414):\n",
    "    evalue_x_completeness.iloc[evalue, evalue_x_completeness.columns.get_loc('completeness')] = calculate_completeness_evalue(final_df, evalue)\n",
    "\n",
    "evalue_x_completeness.to_csv(os.path.join(basedir, 'barcode%s.%sdb_evalue_completeness.tab' % (barcode, db)), sep='\\t')"
   ]
  },
  {
   "cell_type": "code",
   "execution_count": 16,
   "metadata": {},
   "outputs": [
    {
     "data": {
      "text/plain": [
       "765490     69313\n",
       "312573     67024\n",
       "1234739    60274\n",
       "373434     51032\n",
       "463092     50829\n",
       "Name: sequence_length_template, dtype: int64"
      ]
     },
     "execution_count": 16,
     "metadata": {},
     "output_type": "execute_result"
    }
   ],
   "source": [
    "# This is to help decide the range of the read length cut-offs.\n",
    "total_blast_fillna.sequence_length_template.sort_values(ascending=False).head()"
   ]
  },
  {
   "cell_type": "code",
   "execution_count": 17,
   "metadata": {},
   "outputs": [],
   "source": [
    "length_x_precision = pd.DataFrame()\n",
    "length_x_precision['length'] = np.arange(0,20000,50)\n",
    "length_x_precision['precision_rate'] = np.nan\n",
    "\n",
    "for length in length_x_precision['length']:\n",
    "    length_x_precision.iloc[int(length_x_precision[length_x_precision['length']==length].index[0]),\n",
    "                          length_x_precision.columns.get_loc('precision_rate')] = calculate_precision_length(final_df, length)\n",
    "\n",
    "length_x_precision.to_csv(os.path.join(basedir, 'barcode%s.%sdb_length_precision.tab' % (barcode, db)), sep='\\t')"
   ]
  },
  {
   "cell_type": "code",
   "execution_count": 18,
   "metadata": {},
   "outputs": [],
   "source": [
    "length_x_completeness = pd.DataFrame()\n",
    "length_x_completeness['length'] = np.arange(0,20000,50)\n",
    "length_x_completeness['completeness'] = np.nan\n",
    "\n",
    "for length in length_x_completeness['length']:\n",
    "    length_x_completeness.iloc[int(length_x_completeness[length_x_completeness['length']==length].index[0]), \n",
    "                               length_x_completeness.columns.get_loc('completeness')] = calculate_completeness_length(final_df, length)\n",
    "    \n",
    "length_x_completeness.to_csv(os.path.join(basedir, 'barcode%s.%sdb_length_completeness.tab' % (barcode, db)), sep='\\t')"
   ]
  },
  {
   "cell_type": "code",
   "execution_count": 19,
   "metadata": {},
   "outputs": [],
   "source": [
    "pident_x_precision = pd.DataFrame()\n",
    "pident_x_precision['pident'] = range(0, 101)\n",
    "pident_x_precision['precision_rate'] = np.nan\n",
    "\n",
    "for pident in pident_x_precision['pident']:\n",
    "    pident_x_precision.iloc[pident_x_precision[pident_x_precision.pident==pident].index, \n",
    "                            pident_x_precision.columns.get_loc('precision_rate')] = calculate_precision_pident(final_df, pident)\n",
    "\n",
    "pident_x_precision.to_csv(os.path.join(basedir, 'barcode%s.%sdb_pident_precision.tab' % (barcode, db)), sep='\\t')"
   ]
  },
  {
   "cell_type": "code",
   "execution_count": 20,
   "metadata": {},
   "outputs": [],
   "source": [
    "pident_x_completeness = pd.DataFrame()\n",
    "pident_x_completeness['pident'] = range(0, 101)\n",
    "pident_x_completeness['completeness'] = np.nan\n",
    "\n",
    "for pident in range(0,101):\n",
    "    pident_x_completeness.iloc[pident, pident_x_completeness.columns.get_loc('completeness')] = calculate_completeness_pident(final_df, pident)\n",
    "    \n",
    "pident_x_completeness.to_csv(os.path.join(basedir, 'barcode%s.%sdb_pident_completeness.tab' % (barcode, db)), sep='\\t')"
   ]
  },
  {
   "cell_type": "code",
   "execution_count": 21,
   "metadata": {},
   "outputs": [
    {
     "data": {
      "text/plain": [
       "592058    98.465420\n",
       "763171    97.902012\n",
       "453485    97.894057\n",
       "399225    97.890576\n",
       "263340    97.764545\n",
       "Name: pmatch_blast, dtype: float64"
      ]
     },
     "execution_count": 21,
     "metadata": {},
     "output_type": "execute_result"
    }
   ],
   "source": [
    "# this is to see what range of pident in our dataframe\n",
    "final_df.pmatch_blast.sort_values(ascending=False).head()"
   ]
  },
  {
   "cell_type": "code",
   "execution_count": 22,
   "metadata": {},
   "outputs": [],
   "source": [
    "pmatch_X_precision = pd.DataFrame()\n",
    "pmatch_X_precision['pmatch'] = range(0, 98)\n",
    "pmatch_X_precision['precision_rate'] = np.nan\n",
    "\n",
    "for pmatch in pmatch_X_precision['pmatch']:\n",
    "    pmatch_X_precision.iloc[pmatch_X_precision[pmatch_X_precision.pmatch==pmatch].index, \n",
    "                            pmatch_X_precision.columns.get_loc('precision_rate')] = calculate_precision_pmatch(final_df, pmatch)\n",
    "\n",
    "pmatch_X_precision.to_csv(os.path.join(basedir, 'barcode%s.%sdb_pmatch_precision.tab' % (barcode, db)), sep='\\t')"
   ]
  },
  {
   "cell_type": "code",
   "execution_count": 23,
   "metadata": {},
   "outputs": [],
   "source": [
    "pmatch_X_completeness = pd.DataFrame()\n",
    "pmatch_X_completeness['pmatch'] = range(0, 98)\n",
    "pmatch_X_completeness['completeness'] = np.nan\n",
    "\n",
    "for pmatch in range(0,98):\n",
    "    pmatch_X_completeness.iloc[pmatch, pmatch_X_completeness.columns.get_loc('completeness')] = calculate_completeness_pmatch(final_df, pmatch)\n",
    "\n",
    "pmatch_X_completeness.to_csv(os.path.join(basedir, 'barcode%s.%sdb_pmatch_completeness.tab' % (barcode, db)), sep='\\t')"
   ]
  },
  {
   "cell_type": "code",
   "execution_count": 24,
   "metadata": {},
   "outputs": [],
   "source": [
    "length_x_remaining = pd.DataFrame()\n",
    "# This number of 20000 is from the total sum of the sequence length.\n",
    "length_x_remaining['length'] = np.arange(0, 20000, 50)\n",
    "length_x_remaining['remaining_rate'] = np.nan\n",
    "\n",
    "for length in length_x_remaining['length']:\n",
    "    length_x_remaining.iloc[int(length_x_remaining[length_x_remaining['length']==length].index[0]),\n",
    "                            length_x_remaining.columns.get_loc('remaining_rate')] = calculate_remaining_length(total_blast_fillna, length)\n",
    "\n",
    "length_x_remaining.to_csv(os.path.join(basedir, 'barcode%s.%sdb_length_remaining.tab' % (barcode, db)), sep='\\t')    "
   ]
  },
  {
   "cell_type": "code",
   "execution_count": 25,
   "metadata": {},
   "outputs": [],
   "source": [
    "qscore_x_remaining = pd.DataFrame()\n",
    "qscore_x_remaining['qscore'] = np.arange(7, 20.1, 0.1)\n",
    "qscore_x_remaining['remaining_rate'] = np.nan\n",
    "\n",
    "for qscore in qscore_x_remaining['qscore']:\n",
    "    qscore_x_remaining.iloc[qscore_x_remaining[qscore_x_remaining.qscore==qscore].index,\n",
    "                            qscore_x_remaining.columns.get_loc('remaining_rate')] = calculate_remaining_qscore(total_blast_fillna, qscore)\n",
    "\n",
    "qscore_x_remaining.to_csv(os.path.join(basedir, 'barcode%s.%sdb_qscore_remaining.tab' % (barcode, db)), sep='\\t')"
   ]
  },
  {
   "cell_type": "code",
   "execution_count": 26,
   "metadata": {},
   "outputs": [],
   "source": [
    "pident_x_remaining = pd.DataFrame()\n",
    "pident_x_remaining['pident'] = range(0, 100)\n",
    "pident_x_remaining['remaining_rate'] = np.nan\n",
    "\n",
    "for y in pident_x_remaining['pident']:\n",
    "    pident_x_remaining.iloc[pident_x_remaining[pident_x_remaining.pident==y].index,\n",
    "                            pident_x_remaining.columns.get_loc('remaining_rate')] = calculate_remaining_pident(final_df, y)\n",
    "\n",
    "pident_x_remaining.to_csv(os.path.join(basedir, 'barcode%s.%sdb_pident_remaining.tab' % (barcode, db)), sep='\\t')"
   ]
  },
  {
   "cell_type": "code",
   "execution_count": 27,
   "metadata": {},
   "outputs": [],
   "source": [
    "pmatch_x_remaining = pd.DataFrame()\n",
    "pmatch_x_remaining['pmatch'] = range(0, 98)\n",
    "pmatch_x_remaining['remaining_rate'] = np.nan\n",
    "\n",
    "for pmatch in pmatch_x_remaining['pmatch']:\n",
    "    pmatch_x_remaining.iloc[pmatch_x_remaining[pmatch_x_remaining.pmatch==pmatch].index,\n",
    "                            pmatch_x_remaining.columns.get_loc('remaining_rate')] = calculate_remaining_pmatch(final_df, pmatch)\n",
    "    \n",
    "pmatch_x_remaining.to_csv(os.path.join(basedir, 'barcode%s.%sdb_pmatch_remaining.tab' % (barcode, db)), sep='\\t')"
   ]
  },
  {
   "cell_type": "code",
   "execution_count": 28,
   "metadata": {},
   "outputs": [],
   "source": [
    "evalue_x_remaining = pd.DataFrame()\n",
    "evalue_x_remaining['evalue'] = range(0, 414)\n",
    "evalue_x_remaining['remaining_rate'] = np.nan\n",
    "\n",
    "for evalue in evalue_x_remaining['evalue']:\n",
    "    evalue_x_remaining.iloc[evalue_x_remaining[evalue_x_remaining.evalue==evalue].index,\n",
    "                            evalue_x_remaining.columns.get_loc('remaining_rate')] = calculate_remaining_evalue(final_df, evalue)\n",
    "    \n",
    "evalue_x_remaining.to_csv(os.path.join(basedir, 'barcode%s.%sdb_evalue_remaining.tab' % (barcode, db)), sep='\\t')"
   ]
  }
 ],
 "metadata": {
  "kernelspec": {
   "display_name": "Python 3",
   "language": "python",
   "name": "python3"
  },
  "language_info": {
   "codemirror_mode": {
    "name": "ipython",
    "version": 3
   },
   "file_extension": ".py",
   "mimetype": "text/x-python",
   "name": "python",
   "nbconvert_exporter": "python",
   "pygments_lexer": "ipython3",
   "version": "3.6.10"
  }
 },
 "nbformat": 4,
 "nbformat_minor": 4
}
