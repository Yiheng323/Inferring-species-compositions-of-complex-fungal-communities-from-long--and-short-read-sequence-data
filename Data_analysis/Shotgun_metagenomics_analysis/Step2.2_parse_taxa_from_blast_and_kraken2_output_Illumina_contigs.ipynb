{
 "cells": [
  {
   "cell_type": "code",
   "execution_count": 1,
   "metadata": {},
   "outputs": [],
   "source": [
    "import numpy as np\n",
    "import os\n",
    "import pandas as pd\n",
    "import matplotlib.pyplot as plt\n",
    "from ete3 import NCBITaxa \n",
    "ncbi = NCBITaxa()"
   ]
  },
  {
   "cell_type": "code",
   "execution_count": 2,
   "metadata": {},
   "outputs": [],
   "source": [
    "#Function to generate taxonomy columns based on NCBITaxa results for NCBI hit dataframe, \n",
    "def search_rank_output_name_append_column(df, staxid_column, rank_search):\n",
    "    \"\"\"Input df, staxid_column from same df and rank_search (a desired taxonomic rank \n",
    "    from each staxid's lineage), outputs taxonomic name corresponding to rank_search or 'Unclassified' if\n",
    "    unavailable and appends to df row by row\"\"\"\n",
    "    rank_list = []\n",
    "    for read_index in range(0, len(staxid_column)):\n",
    "        taxid = ''\n",
    "        if ';' in str(staxid_column[read_index]):\n",
    "            taxid = staxid_column[read_index].split(';')[0]\n",
    "        else:\n",
    "            taxid = staxid_column[read_index]\n",
    "        \n",
    "        taxid_lineage = ''\n",
    "        taxid_lineage = ncbi.get_lineage(taxid)\n",
    "        \n",
    "        names = ''\n",
    "        names = ncbi.get_taxid_translator(taxid_lineage)\n",
    "        \n",
    "        ranks = ''\n",
    "        ranks = ncbi.get_rank(taxid_lineage) #Dict\n",
    "        \n",
    "        ranks2names = ''\n",
    "        ranks2names = {ranks[k]:names[k] for k in names.keys() & ranks}\n",
    "        \n",
    "        if rank_search in ranks2names.keys():\n",
    "            rank_list.append(ranks2names[rank_search])#if rank in dict, print name\n",
    "        else:\n",
    "            rank_list.append('Unclassified')\n",
    "    df[rank_search] = rank_list\n",
    "# NOTE: Appending is always slow, try and find a better way e.g df.apply to a column based on staxids column"
   ]
  },
  {
   "cell_type": "code",
   "execution_count": 3,
   "metadata": {},
   "outputs": [],
   "source": [
    "basedir = '/home/yiheng/MinION_data/mock_com/illumina'\n",
    "name = 'MC1'\n",
    "db = 'nt'\n",
    "blast_file_name = '%s_%s.blastoutput' % (name, db)\n",
    "coverage_filename = '%s_average_coverage.tab' % name\n",
    "kraken_filename = '%s.%skraken_output' % (name, db)\n",
    "blast_output = os.path.join(basedir, name, blast_file_name)\n",
    "cov_file = os.path.join(basedir, name, coverage_filename)\n",
    "kraken_output = os.path.join(basedir, name, kraken_filename)"
   ]
  },
  {
   "cell_type": "code",
   "execution_count": 4,
   "metadata": {},
   "outputs": [],
   "source": [
    "blastoupt_df = pd.read_csv(blast_output, header=None, sep='\\t')\n",
    "blast_header = ['qseqid', 'sseqid', 'evalue', 'bitscore', 'length', 'pident', 'nident', 'sgi', 'sacc', 'staxids', 'sscinames', 'scomnames', 'sskingdoms', 'sstart', 'send']\n",
    "blastoupt_df.columns = blast_header"
   ]
  },
  {
   "cell_type": "code",
   "execution_count": 5,
   "metadata": {},
   "outputs": [],
   "source": [
    "cov_df = pd.read_csv(cov_file, header=None, sep='\\t')\n",
    "cov_header = ['contig', 'len', 'total_cov', 'ave_cov']\n",
    "cov_df.columns = cov_header"
   ]
  },
  {
   "cell_type": "code",
   "execution_count": 6,
   "metadata": {},
   "outputs": [],
   "source": [
    "krakenoupt_df = pd.read_csv(kraken_output, header=None, sep='\\t')\n",
    "kraken_header = ['classification', 'contig', 'taxid', 'seqlen', 'kmer_profile']\n",
    "krakenoupt_df.columns = kraken_header"
   ]
  },
  {
   "cell_type": "code",
   "execution_count": 7,
   "metadata": {},
   "outputs": [],
   "source": [
    "krakenoupt_df_classified = krakenoupt_df[(krakenoupt_df.classification == 'C') & (krakenoupt_df.taxid != 0)]\n",
    "krakenoupt_df_classified = krakenoupt_df_classified.reset_index(drop=True)"
   ]
  },
  {
   "cell_type": "code",
   "execution_count": 8,
   "metadata": {},
   "outputs": [
    {
     "data": {
      "text/html": [
       "<div>\n",
       "<style scoped>\n",
       "    .dataframe tbody tr th:only-of-type {\n",
       "        vertical-align: middle;\n",
       "    }\n",
       "\n",
       "    .dataframe tbody tr th {\n",
       "        vertical-align: top;\n",
       "    }\n",
       "\n",
       "    .dataframe thead th {\n",
       "        text-align: right;\n",
       "    }\n",
       "</style>\n",
       "<table border=\"1\" class=\"dataframe\">\n",
       "  <thead>\n",
       "    <tr style=\"text-align: right;\">\n",
       "      <th></th>\n",
       "      <th>classification</th>\n",
       "      <th>contig</th>\n",
       "      <th>taxid</th>\n",
       "      <th>seqlen</th>\n",
       "      <th>kmer_profile</th>\n",
       "    </tr>\n",
       "  </thead>\n",
       "  <tbody>\n",
       "    <tr>\n",
       "      <th>1215</th>\n",
       "      <td>C</td>\n",
       "      <td>contig-100_1215</td>\n",
       "      <td>0</td>\n",
       "      <td>19927</td>\n",
       "      <td>0:22 5144:5 0:2493 192523:2 0:477 716545:1 0:2...</td>\n",
       "    </tr>\n",
       "    <tr>\n",
       "      <th>1552</th>\n",
       "      <td>C</td>\n",
       "      <td>contig-100_1552</td>\n",
       "      <td>0</td>\n",
       "      <td>16698</td>\n",
       "      <td>0:850 9205:1 0:873 55489:1 0:4 590646:5 0:89 4...</td>\n",
       "    </tr>\n",
       "    <tr>\n",
       "      <th>1756</th>\n",
       "      <td>C</td>\n",
       "      <td>contig-100_1756</td>\n",
       "      <td>0</td>\n",
       "      <td>15100</td>\n",
       "      <td>0:654 29556:3 0:169 95485:3 0:689 86661:2 0:81...</td>\n",
       "    </tr>\n",
       "    <tr>\n",
       "      <th>3948</th>\n",
       "      <td>C</td>\n",
       "      <td>contig-100_3948</td>\n",
       "      <td>0</td>\n",
       "      <td>8114</td>\n",
       "      <td>0:600 984487:2 0:745 379508:1 0:443 113653:2 0...</td>\n",
       "    </tr>\n",
       "    <tr>\n",
       "      <th>10290</th>\n",
       "      <td>C</td>\n",
       "      <td>contig-100_10290</td>\n",
       "      <td>0</td>\n",
       "      <td>3873</td>\n",
       "      <td>0:20 0:1104 48498:1 0:504 45067:2 0:502 250716...</td>\n",
       "    </tr>\n",
       "  </tbody>\n",
       "</table>\n",
       "</div>"
      ],
      "text/plain": [
       "      classification            contig  taxid  seqlen  \\\n",
       "1215               C   contig-100_1215      0   19927   \n",
       "1552               C   contig-100_1552      0   16698   \n",
       "1756               C   contig-100_1756      0   15100   \n",
       "3948               C   contig-100_3948      0    8114   \n",
       "10290              C  contig-100_10290      0    3873   \n",
       "\n",
       "                                            kmer_profile  \n",
       "1215   0:22 5144:5 0:2493 192523:2 0:477 716545:1 0:2...  \n",
       "1552   0:850 9205:1 0:873 55489:1 0:4 590646:5 0:89 4...  \n",
       "1756   0:654 29556:3 0:169 95485:3 0:689 86661:2 0:81...  \n",
       "3948   0:600 984487:2 0:745 379508:1 0:443 113653:2 0...  \n",
       "10290  0:20 0:1104 48498:1 0:504 45067:2 0:502 250716...  "
      ]
     },
     "execution_count": 8,
     "metadata": {},
     "output_type": "execute_result"
    }
   ],
   "source": [
    "# This is a bug from kraken2. Some classified reads also return taxid as 0 even they have a kmer profile.\n",
    "# Although it has been fixed at April 2020, but our analysis was done at earlier so it still presents.\n",
    "# But there are only 145/>300k reads so we just consider them as unclassified reads.\n",
    "krakenoupt_df[(krakenoupt_df.classification == 'C') & (krakenoupt_df.taxid == 0)].head()"
   ]
  },
  {
   "cell_type": "code",
   "execution_count": 9,
   "metadata": {
    "collapsed": true,
    "jupyter": {
     "outputs_hidden": true
    }
   },
   "outputs": [
    {
     "name": "stderr",
     "output_type": "stream",
     "text": [
      "/home/yiheng/anaconda3/lib/python3.6/site-packages/ipykernel_launcher.py:2: SettingWithCopyWarning: \n",
      "A value is trying to be set on a copy of a slice from a DataFrame.\n",
      "Try using .loc[row_indexer,col_indexer] = value instead\n",
      "\n",
      "See the caveats in the documentation: https://pandas.pydata.org/pandas-docs/stable/user_guide/indexing.html#returning-a-view-versus-a-copy\n",
      "  \n",
      "/home/yiheng/anaconda3/lib/python3.6/site-packages/ipykernel_launcher.py:3: SettingWithCopyWarning: \n",
      "A value is trying to be set on a copy of a slice from a DataFrame.\n",
      "Try using .loc[row_indexer,col_indexer] = value instead\n",
      "\n",
      "See the caveats in the documentation: https://pandas.pydata.org/pandas-docs/stable/user_guide/indexing.html#returning-a-view-versus-a-copy\n",
      "  This is separate from the ipykernel package so we can avoid doing imports until\n",
      "/home/yiheng/anaconda3/lib/python3.6/site-packages/ipykernel_launcher.py:4: SettingWithCopyWarning: \n",
      "A value is trying to be set on a copy of a slice from a DataFrame.\n",
      "Try using .loc[row_indexer,col_indexer] = value instead\n",
      "\n",
      "See the caveats in the documentation: https://pandas.pydata.org/pandas-docs/stable/user_guide/indexing.html#returning-a-view-versus-a-copy\n",
      "  after removing the cwd from sys.path.\n",
      "/home/yiheng/anaconda3/lib/python3.6/site-packages/ipykernel_launcher.py:5: SettingWithCopyWarning: \n",
      "A value is trying to be set on a copy of a slice from a DataFrame.\n",
      "Try using .loc[row_indexer,col_indexer] = value instead\n",
      "\n",
      "See the caveats in the documentation: https://pandas.pydata.org/pandas-docs/stable/user_guide/indexing.html#returning-a-view-versus-a-copy\n",
      "  \"\"\"\n",
      "/home/yiheng/anaconda3/lib/python3.6/site-packages/ipykernel_launcher.py:6: SettingWithCopyWarning: \n",
      "A value is trying to be set on a copy of a slice from a DataFrame.\n",
      "Try using .loc[row_indexer,col_indexer] = value instead\n",
      "\n",
      "See the caveats in the documentation: https://pandas.pydata.org/pandas-docs/stable/user_guide/indexing.html#returning-a-view-versus-a-copy\n",
      "  \n",
      "/home/yiheng/anaconda3/lib/python3.6/site-packages/ipykernel_launcher.py:7: SettingWithCopyWarning: \n",
      "A value is trying to be set on a copy of a slice from a DataFrame.\n",
      "Try using .loc[row_indexer,col_indexer] = value instead\n",
      "\n",
      "See the caveats in the documentation: https://pandas.pydata.org/pandas-docs/stable/user_guide/indexing.html#returning-a-view-versus-a-copy\n",
      "  import sys\n",
      "/home/yiheng/anaconda3/lib/python3.6/site-packages/ipykernel_launcher.py:8: SettingWithCopyWarning: \n",
      "A value is trying to be set on a copy of a slice from a DataFrame.\n",
      "Try using .loc[row_indexer,col_indexer] = value instead\n",
      "\n",
      "See the caveats in the documentation: https://pandas.pydata.org/pandas-docs/stable/user_guide/indexing.html#returning-a-view-versus-a-copy\n",
      "  \n"
     ]
    }
   ],
   "source": [
    "krakenoupt_df_unclassified = krakenoupt_df[krakenoupt_df.taxid == 0]\n",
    "krakenoupt_df_unclassified['superkingdom'] = 'Unclassified'\n",
    "krakenoupt_df_unclassified['phylum'] = 'Unclassified'\n",
    "krakenoupt_df_unclassified['class'] = 'Unclassified'\n",
    "krakenoupt_df_unclassified['order'] = 'Unclassified'\n",
    "krakenoupt_df_unclassified['family'] = 'Unclassified'\n",
    "krakenoupt_df_unclassified['genus'] = 'Unclassified'\n",
    "krakenoupt_df_unclassified['species'] = 'Unclassified'"
   ]
  },
  {
   "cell_type": "code",
   "execution_count": 10,
   "metadata": {},
   "outputs": [
    {
     "name": "stderr",
     "output_type": "stream",
     "text": [
      "/home/yiheng/anaconda3/lib/python3.6/site-packages/ete3/ncbi_taxonomy/ncbiquery.py:240: UserWarning: taxid 1415176 was translated into 2587831\n",
      "  warnings.warn(\"taxid %s was translated into %s\" %(taxid, merged_conversion[taxid]))\n",
      "/home/yiheng/anaconda3/lib/python3.6/site-packages/ete3/ncbi_taxonomy/ncbiquery.py:240: UserWarning: taxid 5421 was translated into 264483\n",
      "  warnings.warn(\"taxid %s was translated into %s\" %(taxid, merged_conversion[taxid]))\n",
      "/home/yiheng/anaconda3/lib/python3.6/site-packages/ete3/ncbi_taxonomy/ncbiquery.py:240: UserWarning: taxid 2172536 was translated into 2698682\n",
      "  warnings.warn(\"taxid %s was translated into %s\" %(taxid, merged_conversion[taxid]))\n",
      "/home/yiheng/anaconda3/lib/python3.6/site-packages/ete3/ncbi_taxonomy/ncbiquery.py:240: UserWarning: taxid 656024 was translated into 2714109\n",
      "  warnings.warn(\"taxid %s was translated into %s\" %(taxid, merged_conversion[taxid]))\n",
      "/home/yiheng/anaconda3/lib/python3.6/site-packages/ete3/ncbi_taxonomy/ncbiquery.py:240: UserWarning: taxid 2109625 was translated into 2605946\n",
      "  warnings.warn(\"taxid %s was translated into %s\" %(taxid, merged_conversion[taxid]))\n",
      "/home/yiheng/anaconda3/lib/python3.6/site-packages/ete3/ncbi_taxonomy/ncbiquery.py:240: UserWarning: taxid 2480923 was translated into 2674991\n",
      "  warnings.warn(\"taxid %s was translated into %s\" %(taxid, merged_conversion[taxid]))\n",
      "/home/yiheng/anaconda3/lib/python3.6/site-packages/ete3/ncbi_taxonomy/ncbiquery.py:240: UserWarning: taxid 2494549 was translated into 2707005\n",
      "  warnings.warn(\"taxid %s was translated into %s\" %(taxid, merged_conversion[taxid]))\n"
     ]
    }
   ],
   "source": [
    "rank_list = ['superkingdom', 'phylum', 'class', 'order', 'family', 'genus', 'species']\n",
    "for rank in rank_list:\n",
    "    \n",
    "    search_rank_output_name_append_column(krakenoupt_df_classified, \n",
    "                                        krakenoupt_df_classified.taxid, \n",
    "                                        rank)"
   ]
  },
  {
   "cell_type": "code",
   "execution_count": 11,
   "metadata": {},
   "outputs": [],
   "source": [
    "kraken_df = pd.concat([krakenoupt_df_classified, krakenoupt_df_unclassified], ignore_index=True)\n",
    "final_df_kraken_draft = pd.merge(cov_df, kraken_df, how='outer', left_on='contig', right_on='contig')\n",
    "final_df_kraken = final_df_kraken_draft[~final_df_kraken_draft.contig.isna()]\n",
    "final_df_kraken = final_df_kraken.reset_index(drop=True)\n",
    "final_df_kraken.to_csv(os.path.join(basedir, name, 'finaldf.%s.%s.k2.tab' % (name, db)), sep='\\t')"
   ]
  },
  {
   "cell_type": "code",
   "execution_count": null,
   "metadata": {},
   "outputs": [],
   "source": []
  },
  {
   "cell_type": "code",
   "execution_count": 12,
   "metadata": {},
   "outputs": [],
   "source": [
    "# Now is to deal with the blast output files\n",
    "# This is the code to deal with the three new species in the blast fungal database\n",
    "blastoupt_new_species = blastoupt_df[blastoupt_df.staxids == 0]\n",
    "magnus_df = blastoupt_new_species[blastoupt_new_species.sseqid.str.contains('cryptococcus_magnus')]\n",
    "rugosa_df = blastoupt_new_species[blastoupt_new_species.sseqid.str.contains('candida_rugosa')]\n",
    "mesorugosa_df = blastoupt_new_species[blastoupt_new_species.sseqid.str.contains('candida_mesorugosa')]"
   ]
  },
  {
   "cell_type": "code",
   "execution_count": 13,
   "metadata": {},
   "outputs": [],
   "source": [
    "# I found these hits apart from the above three species that returns taxid of 0.\n",
    "# This species does not have record in the taxonomic database but has accession in Refseq fungal database. \n",
    "# I have checked all 85 accessions and they are all from Candida auris\n",
    "\n",
    "c_auris = blastoupt_new_species[(~blastoupt_new_species.sseqid.str.contains('cryptococcus_magnus')) & (~blastoupt_new_species.sseqid.str.contains('candida_rugosa')) & \n",
    "                     (~blastoupt_new_species.sseqid.str.contains('candida_mesorugosa'))]"
   ]
  },
  {
   "cell_type": "code",
   "execution_count": 14,
   "metadata": {},
   "outputs": [],
   "source": [
    "# Now assign taxonomic rank separately for these three species.\n",
    "new_cols = ['superkingdom', 'phylum', 'order', 'class', 'family', 'genus']\n",
    "new_vals = ['Eukaryota', 'Ascomycota', 'Saccharomycetales', 'Saccharomycetes', 'Debaryomycetaceae', 'Candida']\n",
    "rugosa_df_updated = rugosa_df.reindex(columns=rugosa_df.columns.tolist() + new_cols)   # add empty cols\n",
    "rugosa_df_updated[new_cols] = new_vals\n",
    "rugosa_df_updated['species'] = 'Candida rugosa'\n",
    "mesorugosa_df_updated = mesorugosa_df.reindex(columns=mesorugosa_df.columns.tolist() + new_cols)   # add empty cols\n",
    "mesorugosa_df_updated[new_cols] = new_vals\n",
    "mesorugosa_df_updated['species'] = 'Candida mesorugosa'\n",
    "c_auris_updated = c_auris.reindex(columns=c_auris.columns.tolist() + new_cols)   # add empty cols\n",
    "c_auris_updated[new_cols] = new_vals\n",
    "c_auris_updated['species'] = 'Candida auris'\n",
    "\n",
    "magnus_vals = ['Eukaryota', 'Basidiomycota', 'Tremellomycetes', 'Tremellales', 'Cryptococcaceae', 'Cryptococcus']\n",
    "magnus_df_updated = magnus_df.reindex(columns=magnus_df.columns.tolist() + new_cols)   # add empty cols\n",
    "magnus_df_updated[new_cols] = magnus_vals\n",
    "magnus_df_updated['species'] = 'Cryptococcus magnus'"
   ]
  },
  {
   "cell_type": "code",
   "execution_count": 15,
   "metadata": {},
   "outputs": [],
   "source": [
    "blastoupt_new_species_taxa_added = rugosa_df_updated.append([mesorugosa_df_updated, c_auris_updated, magnus_df_updated])\n",
    "blastoupt_nonew_species = blastoupt_df[blastoupt_df.staxids != 0]\n",
    "blastoupt_nonew_species = blastoupt_nonew_species.reset_index(drop=True)"
   ]
  },
  {
   "cell_type": "code",
   "execution_count": 16,
   "metadata": {},
   "outputs": [
    {
     "name": "stderr",
     "output_type": "stream",
     "text": [
      "/home/yiheng/anaconda3/lib/python3.6/site-packages/ipykernel_launcher.py:4: SettingWithCopyWarning: \n",
      "A value is trying to be set on a copy of a slice from a DataFrame\n",
      "\n",
      "See the caveats in the documentation: https://pandas.pydata.org/pandas-docs/stable/user_guide/indexing.html#returning-a-view-versus-a-copy\n",
      "  after removing the cwd from sys.path.\n"
     ]
    }
   ],
   "source": [
    "for read_index in range(0, len(blastoupt_nonew_species.staxids)):\n",
    "    if ';' in str(blastoupt_nonew_species.staxids[read_index]):\n",
    "        taxid = blastoupt_nonew_species.staxids[read_index].split(';')[0]\n",
    "        blastoupt_nonew_species.staxids[read_index] = taxid\n",
    "    else:\n",
    "        continue\n",
    "        \n",
    "blastoupt_nonew_species.staxids = [int(x) for x in blastoupt_nonew_species.staxids]"
   ]
  },
  {
   "cell_type": "code",
   "execution_count": 17,
   "metadata": {},
   "outputs": [
    {
     "name": "stderr",
     "output_type": "stream",
     "text": [
      "/home/yiheng/anaconda3/lib/python3.6/site-packages/ete3/ncbi_taxonomy/ncbiquery.py:240: UserWarning: taxid 272698 was translated into 4909\n",
      "  warnings.warn(\"taxid %s was translated into %s\" %(taxid, merged_conversion[taxid]))\n",
      "/home/yiheng/anaconda3/lib/python3.6/site-packages/ete3/ncbi_taxonomy/ncbiquery.py:240: UserWarning: taxid 345175 was translated into 2704158\n",
      "  warnings.warn(\"taxid %s was translated into %s\" %(taxid, merged_conversion[taxid]))\n",
      "/home/yiheng/anaconda3/lib/python3.6/site-packages/ete3/ncbi_taxonomy/ncbiquery.py:240: UserWarning: taxid 94212 was translated into 2651841\n",
      "  warnings.warn(\"taxid %s was translated into %s\" %(taxid, merged_conversion[taxid]))\n",
      "/home/yiheng/anaconda3/lib/python3.6/site-packages/ete3/ncbi_taxonomy/ncbiquery.py:240: UserWarning: taxid 5145 was translated into 2587412\n",
      "  warnings.warn(\"taxid %s was translated into %s\" %(taxid, merged_conversion[taxid]))\n"
     ]
    }
   ],
   "source": [
    "# pretty slow\n",
    "rank_list = ['superkingdom', 'phylum', 'class', 'order', 'family', 'genus', 'species']\n",
    "for rank in rank_list:\n",
    "    \n",
    "    search_rank_output_name_append_column(blastoupt_nonew_species, \n",
    "                                        blastoupt_nonew_species.staxids, \n",
    "                                        rank)"
   ]
  },
  {
   "cell_type": "code",
   "execution_count": 18,
   "metadata": {},
   "outputs": [
    {
     "data": {
      "text/plain": [
       "Index(['qseqid', 'sseqid', 'evalue', 'bitscore', 'length', 'pident', 'nident',\n",
       "       'sgi', 'sacc', 'staxids', 'sscinames', 'scomnames', 'sskingdoms',\n",
       "       'sstart', 'send', 'superkingdom', 'phylum', 'class', 'order', 'family',\n",
       "       'genus', 'species'],\n",
       "      dtype='object')"
      ]
     },
     "execution_count": 18,
     "metadata": {},
     "output_type": "execute_result"
    }
   ],
   "source": [
    "blastoupt_added_taxa = blastoupt_nonew_species.append(blastoupt_new_species_taxa_added)\n",
    "blastoupt_added_taxa.columns"
   ]
  },
  {
   "cell_type": "code",
   "execution_count": 19,
   "metadata": {},
   "outputs": [],
   "source": [
    "blastoupt_added_taxa_trim = blastoupt_added_taxa.drop(columns=['sseqid', 'bitscore', 'length', 'sgi', 'sacc', 'sscinames', 'scomnames', 'sskingdoms',\n",
    "                                                       'sstart', 'send'])"
   ]
  },
  {
   "cell_type": "code",
   "execution_count": 20,
   "metadata": {},
   "outputs": [],
   "source": [
    "final_blast_df_draft = pd.merge(cov_df, blastoupt_added_taxa_trim, how='outer', left_on='contig', right_on='qseqid')"
   ]
  },
  {
   "cell_type": "code",
   "execution_count": 21,
   "metadata": {},
   "outputs": [
    {
     "data": {
      "text/html": [
       "<div>\n",
       "<style scoped>\n",
       "    .dataframe tbody tr th:only-of-type {\n",
       "        vertical-align: middle;\n",
       "    }\n",
       "\n",
       "    .dataframe tbody tr th {\n",
       "        vertical-align: top;\n",
       "    }\n",
       "\n",
       "    .dataframe thead th {\n",
       "        text-align: right;\n",
       "    }\n",
       "</style>\n",
       "<table border=\"1\" class=\"dataframe\">\n",
       "  <thead>\n",
       "    <tr style=\"text-align: right;\">\n",
       "      <th></th>\n",
       "      <th>contig</th>\n",
       "      <th>len</th>\n",
       "      <th>total_cov</th>\n",
       "      <th>ave_cov</th>\n",
       "      <th>qseqid</th>\n",
       "      <th>evalue</th>\n",
       "      <th>pident</th>\n",
       "      <th>nident</th>\n",
       "      <th>staxids</th>\n",
       "      <th>superkingdom</th>\n",
       "      <th>phylum</th>\n",
       "      <th>class</th>\n",
       "      <th>order</th>\n",
       "      <th>family</th>\n",
       "      <th>genus</th>\n",
       "      <th>species</th>\n",
       "    </tr>\n",
       "  </thead>\n",
       "  <tbody>\n",
       "    <tr>\n",
       "      <th>0</th>\n",
       "      <td>contig-100_0</td>\n",
       "      <td>410484.0</td>\n",
       "      <td>9587031.0</td>\n",
       "      <td>23.355432</td>\n",
       "      <td>contig-100_0</td>\n",
       "      <td>0.0</td>\n",
       "      <td>99.512</td>\n",
       "      <td>16330.0</td>\n",
       "      <td>5478</td>\n",
       "      <td>Eukaryota</td>\n",
       "      <td>Ascomycota</td>\n",
       "      <td>Saccharomycetes</td>\n",
       "      <td>Saccharomycetales</td>\n",
       "      <td>Saccharomycetaceae</td>\n",
       "      <td>Nakaseomyces</td>\n",
       "      <td>[Candida] glabrata</td>\n",
       "    </tr>\n",
       "    <tr>\n",
       "      <th>1</th>\n",
       "      <td>contig-100_1</td>\n",
       "      <td>402572.0</td>\n",
       "      <td>9947060.0</td>\n",
       "      <td>24.708773</td>\n",
       "      <td>contig-100_1</td>\n",
       "      <td>0.0</td>\n",
       "      <td>99.122</td>\n",
       "      <td>38740.0</td>\n",
       "      <td>5478</td>\n",
       "      <td>Eukaryota</td>\n",
       "      <td>Ascomycota</td>\n",
       "      <td>Saccharomycetes</td>\n",
       "      <td>Saccharomycetales</td>\n",
       "      <td>Saccharomycetaceae</td>\n",
       "      <td>Nakaseomyces</td>\n",
       "      <td>[Candida] glabrata</td>\n",
       "    </tr>\n",
       "    <tr>\n",
       "      <th>2</th>\n",
       "      <td>contig-100_10</td>\n",
       "      <td>240295.0</td>\n",
       "      <td>3498570.0</td>\n",
       "      <td>14.559479</td>\n",
       "      <td>contig-100_10</td>\n",
       "      <td>0.0</td>\n",
       "      <td>75.728</td>\n",
       "      <td>2159.0</td>\n",
       "      <td>4922</td>\n",
       "      <td>Eukaryota</td>\n",
       "      <td>Ascomycota</td>\n",
       "      <td>Saccharomycetes</td>\n",
       "      <td>Saccharomycetales</td>\n",
       "      <td>Phaffomycetaceae</td>\n",
       "      <td>Komagataella</td>\n",
       "      <td>Komagataella pastoris</td>\n",
       "    </tr>\n",
       "    <tr>\n",
       "      <th>3</th>\n",
       "      <td>contig-100_100</td>\n",
       "      <td>109312.0</td>\n",
       "      <td>3539439.0</td>\n",
       "      <td>32.379236</td>\n",
       "      <td>contig-100_100</td>\n",
       "      <td>0.0</td>\n",
       "      <td>81.416</td>\n",
       "      <td>6449.0</td>\n",
       "      <td>1136231</td>\n",
       "      <td>Eukaryota</td>\n",
       "      <td>Ascomycota</td>\n",
       "      <td>Saccharomycetes</td>\n",
       "      <td>Saccharomycetales</td>\n",
       "      <td>Debaryomycetaceae</td>\n",
       "      <td>Candida</td>\n",
       "      <td>Candida orthopsilosis</td>\n",
       "    </tr>\n",
       "    <tr>\n",
       "      <th>4</th>\n",
       "      <td>contig-100_1000</td>\n",
       "      <td>23093.0</td>\n",
       "      <td>720179.0</td>\n",
       "      <td>31.186030</td>\n",
       "      <td>contig-100_1000</td>\n",
       "      <td>0.0</td>\n",
       "      <td>99.865</td>\n",
       "      <td>2954.0</td>\n",
       "      <td>294746</td>\n",
       "      <td>Eukaryota</td>\n",
       "      <td>Ascomycota</td>\n",
       "      <td>Saccharomycetes</td>\n",
       "      <td>Saccharomycetales</td>\n",
       "      <td>Debaryomycetaceae</td>\n",
       "      <td>Meyerozyma</td>\n",
       "      <td>Meyerozyma guilliermondii</td>\n",
       "    </tr>\n",
       "  </tbody>\n",
       "</table>\n",
       "</div>"
      ],
      "text/plain": [
       "            contig       len  total_cov    ave_cov           qseqid  evalue  \\\n",
       "0     contig-100_0  410484.0  9587031.0  23.355432     contig-100_0     0.0   \n",
       "1     contig-100_1  402572.0  9947060.0  24.708773     contig-100_1     0.0   \n",
       "2    contig-100_10  240295.0  3498570.0  14.559479    contig-100_10     0.0   \n",
       "3   contig-100_100  109312.0  3539439.0  32.379236   contig-100_100     0.0   \n",
       "4  contig-100_1000   23093.0   720179.0  31.186030  contig-100_1000     0.0   \n",
       "\n",
       "   pident   nident  staxids superkingdom      phylum            class  \\\n",
       "0  99.512  16330.0     5478    Eukaryota  Ascomycota  Saccharomycetes   \n",
       "1  99.122  38740.0     5478    Eukaryota  Ascomycota  Saccharomycetes   \n",
       "2  75.728   2159.0     4922    Eukaryota  Ascomycota  Saccharomycetes   \n",
       "3  81.416   6449.0  1136231    Eukaryota  Ascomycota  Saccharomycetes   \n",
       "4  99.865   2954.0   294746    Eukaryota  Ascomycota  Saccharomycetes   \n",
       "\n",
       "               order              family         genus  \\\n",
       "0  Saccharomycetales  Saccharomycetaceae  Nakaseomyces   \n",
       "1  Saccharomycetales  Saccharomycetaceae  Nakaseomyces   \n",
       "2  Saccharomycetales    Phaffomycetaceae  Komagataella   \n",
       "3  Saccharomycetales   Debaryomycetaceae       Candida   \n",
       "4  Saccharomycetales   Debaryomycetaceae    Meyerozyma   \n",
       "\n",
       "                     species  \n",
       "0         [Candida] glabrata  \n",
       "1         [Candida] glabrata  \n",
       "2      Komagataella pastoris  \n",
       "3      Candida orthopsilosis  \n",
       "4  Meyerozyma guilliermondii  "
      ]
     },
     "execution_count": 21,
     "metadata": {},
     "output_type": "execute_result"
    }
   ],
   "source": [
    "# some contigs do not have any reads mapped to but has blast hits\n",
    "# some contigs do have reads mapped to but do not have blast hits\n",
    "# some contigs do not have any reads mapped to and do not have any blast hits\n",
    "# Those contigs that do not have any read mapped to are unreal contigs even they have blast hits,\n",
    "# therefore, their coverage is 0 anyway so when calculate the recall and precision rate they are not contributing.\n",
    "final_blast_df_draft.head()"
   ]
  },
  {
   "cell_type": "code",
   "execution_count": 22,
   "metadata": {},
   "outputs": [],
   "source": [
    "final_blast_df = final_blast_df_draft[~final_blast_df_draft.contig.isna()]\n",
    "final_blast_df = final_blast_df.reset_index(drop=True)\n",
    "final_blast_df['pmatch'] = (final_blast_df.nident/final_blast_df.len)*100\n",
    "final_blast_df = final_blast_df.drop(columns=['qseqid', 'nident'])\n",
    "final_blast_df.to_csv(os.path.join(basedir, 'finaldf.%s.%s.blast.tab' % (name, db)), sep='\\t')"
   ]
  }
 ],
 "metadata": {
  "kernelspec": {
   "display_name": "Python 3",
   "language": "python",
   "name": "python3"
  },
  "language_info": {
   "codemirror_mode": {
    "name": "ipython",
    "version": 3
   },
   "file_extension": ".py",
   "mimetype": "text/x-python",
   "name": "python",
   "nbconvert_exporter": "python",
   "pygments_lexer": "ipython3",
   "version": "3.6.10"
  }
 },
 "nbformat": 4,
 "nbformat_minor": 4
}
