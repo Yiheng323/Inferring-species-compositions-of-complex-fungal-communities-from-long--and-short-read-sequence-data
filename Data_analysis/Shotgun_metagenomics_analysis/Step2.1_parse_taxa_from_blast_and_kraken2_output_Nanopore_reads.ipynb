{
 "cells": [
  {
   "cell_type": "code",
   "execution_count": 1,
   "metadata": {},
   "outputs": [],
   "source": [
    "# modules required for handling dataframes\n",
    "import numpy as np\n",
    "import os\n",
    "import pandas as pd\n",
    "import matplotlib.pyplot as plt\n",
    "from ete3 import NCBITaxa \n",
    "ncbi = NCBITaxa()"
   ]
  },
  {
   "cell_type": "code",
   "execution_count": 2,
   "metadata": {},
   "outputs": [],
   "source": [
    "#Function to generate taxonomy columns based on NCBITaxa results for NCBI hit dataframe, \n",
    "#Function to generate taxonomy columns based on NCBITaxa results for NCBI hit dataframe, \n",
    "def search_rank_output_name_append_column(df, staxid_column, rank_search):\n",
    "    \"\"\"Input df, staxid_column from same df and rank_search (a desired taxonomic rank \n",
    "    from each staxid's lineage), outputs taxonomic name corresponding to rank_search or 'Unclassified' if\n",
    "    unavailable and appends to df row by row\"\"\"\n",
    "    rank_list = []\n",
    "    for read_index in range(0, len(staxid_column)):\n",
    "        taxid = ''\n",
    "        if ';' in str(staxid_column[read_index]):\n",
    "            taxid = staxid_column[read_index].split(';')[0]\n",
    "        else:\n",
    "            taxid = staxid_column[read_index]\n",
    "        \n",
    "        taxid_lineage = ''\n",
    "        taxid_lineage = ncbi.get_lineage(taxid)\n",
    "        \n",
    "        names = ''\n",
    "        names = ncbi.get_taxid_translator(taxid_lineage)\n",
    "        \n",
    "        ranks = ''\n",
    "        ranks = ncbi.get_rank(taxid_lineage) #Dict\n",
    "        \n",
    "        ranks2names = ''\n",
    "        ranks2names = {ranks[k]:names[k] for k in names.keys() & ranks}\n",
    "        \n",
    "        if rank_search in ranks2names.keys():\n",
    "            rank_list.append(ranks2names[rank_search])#if rank in dict, print name\n",
    "        else:\n",
    "            rank_list.append('Unclassified')\n",
    "    df[rank_search] = rank_list\n",
    "# NOTE: Appending is always slow, try and find a better way e.g df.apply to a column based on staxids column\n",
    "\n",
    "\n",
    "def add_df_headers(df, header_list):\n",
    "    df.columns = header_list\n",
    "\n",
    "def trim_df_columns(df,column_list):\n",
    "    df.drop(columns=column_list, inplace=True)"
   ]
  },
  {
   "cell_type": "code",
   "execution_count": 3,
   "metadata": {},
   "outputs": [],
   "source": [
    "# put in all input parameters. Here I am showing the code for one sample as an example.\n",
    "# to generate the final_df for other samples, simply change the basedir and barcode, as all file names just has this two difference between each two samples.\n",
    "# please note that there are other places of this script that require understanding and hard coding skills which I also commented below.\n",
    "\n",
    "sourcedir = '/home/yiheng/MinION_data' # the directory where all the documents of each sequencing run are stored.\n",
    "barcode = '06' # the barcode for each sample, corresponding to the sample name.\n",
    "sample = 'MC1'\n",
    "basedir = os.path.join(sourcedir, 'barcode%s' % barcode)\n",
    "db = \"nt\" # database used"
   ]
  },
  {
   "cell_type": "code",
   "execution_count": 4,
   "metadata": {},
   "outputs": [],
   "source": [
    "seq_sum_dir = os.path.join(basedir, 'sequencing_summary_barcode%s.txt' % barcode) # the directory of sequencing summary file for each run\n",
    "blastoutput_dir = os.path.join(basedir, '%s_read_%s.blastoutput' % (sample, db)) # the directory for .blast_output file\n",
    "kraken2output_dir = os.path.join(basedir, '%s_read.%skraken_output' % (sample, db)) # the directory for .kraken2_output file"
   ]
  },
  {
   "cell_type": "code",
   "execution_count": 5,
   "metadata": {},
   "outputs": [],
   "source": [
    "seq_sum_df = pd.read_csv(seq_sum_dir, sep='\\t')\n",
    "seq_sum_df_pass = seq_sum_df[seq_sum_df.passes_filtering==True]"
   ]
  },
  {
   "cell_type": "code",
   "execution_count": 6,
   "metadata": {},
   "outputs": [],
   "source": [
    "blastoutput_df = pd.read_csv(blastoutput_dir, header=None, sep='\\t')\n",
    "kraken2output_df = pd.read_csv(kraken2output_dir, header=None, sep='\\t')"
   ]
  },
  {
   "cell_type": "code",
   "execution_count": 7,
   "metadata": {},
   "outputs": [],
   "source": [
    "blast_header = ['qseqid', 'sseqid', 'evalue', 'bitscore', 'length', 'pident', 'nident', 'sgi', 'sacc', 'staxids', 'sscinames', 'scomnames', 'sskingdoms', 'sstart', 'send']\n",
    "add_df_headers(blastoutput_df, blast_header)"
   ]
  },
  {
   "cell_type": "code",
   "execution_count": 8,
   "metadata": {},
   "outputs": [],
   "source": [
    "kraken2_header = [\"classification\", \"read_id\", \"taxid\", \"seq_length\", \"kmer_profile\"]\n",
    "add_df_headers(kraken2output_df, kraken2_header)"
   ]
  },
  {
   "cell_type": "code",
   "execution_count": 9,
   "metadata": {},
   "outputs": [
    {
     "name": "stderr",
     "output_type": "stream",
     "text": [
      "/home/yiheng/anaconda3/lib/python3.6/site-packages/pandas/core/series.py:726: RuntimeWarning: divide by zero encountered in log\n",
      "  result = getattr(ufunc, method)(*inputs, **kwargs)\n"
     ]
    }
   ],
   "source": [
    "blastoutput_df['log_evalue'] = -np.log(blastoutput_df.evalue)"
   ]
  },
  {
   "cell_type": "code",
   "execution_count": 10,
   "metadata": {},
   "outputs": [
    {
     "name": "stderr",
     "output_type": "stream",
     "text": [
      "/home/yiheng/anaconda3/lib/python3.6/site-packages/pandas/core/frame.py:4164: SettingWithCopyWarning: \n",
      "A value is trying to be set on a copy of a slice from a DataFrame\n",
      "\n",
      "See the caveats in the documentation: https://pandas.pydata.org/pandas-docs/stable/user_guide/indexing.html#returning-a-view-versus-a-copy\n",
      "  errors=errors,\n"
     ]
    }
   ],
   "source": [
    "blast_header_drop = ['sseqid', 'bitscore', 'length', 'evalue', 'sgi', 'sacc', 'sskingdoms', 'sstart', 'send', 'scomnames']\n",
    "seq_sum_df_header_drop = ['filename', 'run_id', 'channel', 'mux', 'start_time', 'duration', 'num_events', 'passes_filtering', 'template_start',\n",
    "                          'num_events_template', 'template_duration','mean_qscore_template', 'strand_score_template', 'median_template','mad_template']\n",
    "trim_df_columns(blastoutput_df, blast_header_drop)\n",
    "trim_df_columns(seq_sum_df_pass, seq_sum_df_header_drop)"
   ]
  },
  {
   "cell_type": "code",
   "execution_count": 11,
   "metadata": {},
   "outputs": [],
   "source": [
    "# modify some of the na\n",
    "blast_final_df = pd.merge(seq_sum_df_pass, blastoutput_df, how=\"outer\", left_on='read_id', right_on='qseqid')\n",
    "blast_final_df.dropna(inplace=True)\n",
    "blast_final_df.drop(columns='read_id',inplace=True)\n",
    "blast_final_df = blast_final_df.reset_index(drop=True)"
   ]
  },
  {
   "cell_type": "code",
   "execution_count": 12,
   "metadata": {},
   "outputs": [],
   "source": [
    "# I mannually calculated the query coverage and labelled it as pmatch.\n",
    "blast_final_df['pmatch'] = blast_final_df.nident/blast_final_df.sequence_length_template*100"
   ]
  },
  {
   "cell_type": "code",
   "execution_count": 13,
   "metadata": {
    "collapsed": true,
    "jupyter": {
     "outputs_hidden": true
    }
   },
   "outputs": [
    {
     "name": "stderr",
     "output_type": "stream",
     "text": [
      "/home/yiheng/anaconda3/lib/python3.6/site-packages/ipykernel_launcher.py:7: SettingWithCopyWarning: \n",
      "A value is trying to be set on a copy of a slice from a DataFrame.\n",
      "Try using .loc[row_indexer,col_indexer] = value instead\n",
      "\n",
      "See the caveats in the documentation: https://pandas.pydata.org/pandas-docs/stable/user_guide/indexing.html#returning-a-view-versus-a-copy\n",
      "  import sys\n",
      "/home/yiheng/anaconda3/lib/python3.6/site-packages/ipykernel_launcher.py:8: SettingWithCopyWarning: \n",
      "A value is trying to be set on a copy of a slice from a DataFrame.\n",
      "Try using .loc[row_indexer,col_indexer] = value instead\n",
      "\n",
      "See the caveats in the documentation: https://pandas.pydata.org/pandas-docs/stable/user_guide/indexing.html#returning-a-view-versus-a-copy\n",
      "  \n",
      "/home/yiheng/anaconda3/lib/python3.6/site-packages/ipykernel_launcher.py:9: SettingWithCopyWarning: \n",
      "A value is trying to be set on a copy of a slice from a DataFrame.\n",
      "Try using .loc[row_indexer,col_indexer] = value instead\n",
      "\n",
      "See the caveats in the documentation: https://pandas.pydata.org/pandas-docs/stable/user_guide/indexing.html#returning-a-view-versus-a-copy\n",
      "  if __name__ == '__main__':\n",
      "/home/yiheng/anaconda3/lib/python3.6/site-packages/ipykernel_launcher.py:10: SettingWithCopyWarning: \n",
      "A value is trying to be set on a copy of a slice from a DataFrame.\n",
      "Try using .loc[row_indexer,col_indexer] = value instead\n",
      "\n",
      "See the caveats in the documentation: https://pandas.pydata.org/pandas-docs/stable/user_guide/indexing.html#returning-a-view-versus-a-copy\n",
      "  # Remove the CWD from sys.path while we load stuff.\n",
      "/home/yiheng/anaconda3/lib/python3.6/site-packages/ipykernel_launcher.py:11: SettingWithCopyWarning: \n",
      "A value is trying to be set on a copy of a slice from a DataFrame.\n",
      "Try using .loc[row_indexer,col_indexer] = value instead\n",
      "\n",
      "See the caveats in the documentation: https://pandas.pydata.org/pandas-docs/stable/user_guide/indexing.html#returning-a-view-versus-a-copy\n",
      "  # This is added back by InteractiveShellApp.init_path()\n",
      "/home/yiheng/anaconda3/lib/python3.6/site-packages/ipykernel_launcher.py:12: SettingWithCopyWarning: \n",
      "A value is trying to be set on a copy of a slice from a DataFrame.\n",
      "Try using .loc[row_indexer,col_indexer] = value instead\n",
      "\n",
      "See the caveats in the documentation: https://pandas.pydata.org/pandas-docs/stable/user_guide/indexing.html#returning-a-view-versus-a-copy\n",
      "  if sys.path[0] == '':\n",
      "/home/yiheng/anaconda3/lib/python3.6/site-packages/ipykernel_launcher.py:13: SettingWithCopyWarning: \n",
      "A value is trying to be set on a copy of a slice from a DataFrame.\n",
      "Try using .loc[row_indexer,col_indexer] = value instead\n",
      "\n",
      "See the caveats in the documentation: https://pandas.pydata.org/pandas-docs/stable/user_guide/indexing.html#returning-a-view-versus-a-copy\n",
      "  del sys.path[0]\n"
     ]
    }
   ],
   "source": [
    "# This step is due to sometimes the taxonomic database in ete3 module were not the same version as the local blast database. In this case some of the taxids can not be recognized.\n",
    "# So I just mannually search them and assigned the taxonomic information to them.\n",
    "blast_final_df_1 = blast_final_df[~blast_final_df.staxids.str.contains('1718871')]\n",
    "blast_final_df_1 = blast_final_df_1.reset_index(drop=True)\n",
    "\n",
    "blast_final_df_2 = blast_final_df[blast_final_df.staxids.str.contains('1718871')]\n",
    "blast_final_df_2['superkingdom'] = 'Eukaryota'\n",
    "blast_final_df_2['phylum'] = 'Ascomycota'\n",
    "blast_final_df_2['class'] = 'Eurotiomycetes'\n",
    "blast_final_df_2['order'] = 'Eurotiales'\n",
    "blast_final_df_2['family'] = 'Aspergillaceae'\n",
    "blast_final_df_2['genus'] = 'Aspergillus'\n",
    "blast_final_df_2['species'] = 'Aspergillus sp.'"
   ]
  },
  {
   "cell_type": "code",
   "execution_count": 14,
   "metadata": {},
   "outputs": [],
   "source": [
    "#ntblasthit_reads_filtered_barcodes_added_TaxaRank = ntblasthit_reads_filtered_barcodes.copy()\n",
    "# pretty slow\n",
    "rank_list = ['superkingdom', 'phylum', 'class', 'order', 'family', 'genus', 'species']\n",
    "for rank in rank_list:\n",
    "    search_rank_output_name_append_column(blast_final_df_1, \n",
    "                                          blast_final_df_1.staxids, \n",
    "                                          rank)"
   ]
  },
  {
   "cell_type": "code",
   "execution_count": 15,
   "metadata": {},
   "outputs": [],
   "source": [
    "blast_final_df = pd.concat([blast_final_df_1, blast_final_df_2], ignore_index=True)"
   ]
  },
  {
   "cell_type": "code",
   "execution_count": 16,
   "metadata": {},
   "outputs": [],
   "source": [
    "blast_final_df.columns = ['%s_blast' % x for x in blast_final_df.columns]"
   ]
  },
  {
   "cell_type": "code",
   "execution_count": 17,
   "metadata": {},
   "outputs": [],
   "source": [
    "blast_final_df.to_csv(os.path.join(basedir, 'barcode%s.%sdb_blast.tab' % (barcode, db)), sep='\\t')"
   ]
  },
  {
   "cell_type": "code",
   "execution_count": 18,
   "metadata": {},
   "outputs": [],
   "source": [
    "# Now is for the kraken2 output files\n",
    "# Here I selected reads that were overlapped with blast outputfile (not matter classified or not) and the classified reads together, in order to have a better comparison with the blast results.\n",
    "kraken2output_df = kraken2output_df[(kraken2output_df.read_id.isin(blast_final_df.qseqid_blast)) | \n",
    "                                    (kraken2output_df.classification=='C')]"
   ]
  },
  {
   "cell_type": "code",
   "execution_count": 19,
   "metadata": {},
   "outputs": [],
   "source": [
    "final_df_kraken_classified = kraken2output_df[kraken2output_df.taxid!=0]\n",
    "final_df_kraken_unclassified = kraken2output_df[kraken2output_df.taxid==0]"
   ]
  },
  {
   "cell_type": "code",
   "execution_count": 20,
   "metadata": {},
   "outputs": [],
   "source": [
    "final_df_kraken_classified = final_df_kraken_classified.reset_index(drop=True)"
   ]
  },
  {
   "cell_type": "code",
   "execution_count": 21,
   "metadata": {
    "scrolled": true
   },
   "outputs": [
    {
     "name": "stderr",
     "output_type": "stream",
     "text": [
      "/home/yiheng/anaconda3/lib/python3.6/site-packages/ipykernel_launcher.py:1: SettingWithCopyWarning: \n",
      "A value is trying to be set on a copy of a slice from a DataFrame.\n",
      "Try using .loc[row_indexer,col_indexer] = value instead\n",
      "\n",
      "See the caveats in the documentation: https://pandas.pydata.org/pandas-docs/stable/user_guide/indexing.html#returning-a-view-versus-a-copy\n",
      "  \"\"\"Entry point for launching an IPython kernel.\n",
      "/home/yiheng/anaconda3/lib/python3.6/site-packages/ipykernel_launcher.py:2: SettingWithCopyWarning: \n",
      "A value is trying to be set on a copy of a slice from a DataFrame.\n",
      "Try using .loc[row_indexer,col_indexer] = value instead\n",
      "\n",
      "See the caveats in the documentation: https://pandas.pydata.org/pandas-docs/stable/user_guide/indexing.html#returning-a-view-versus-a-copy\n",
      "  \n",
      "/home/yiheng/anaconda3/lib/python3.6/site-packages/ipykernel_launcher.py:3: SettingWithCopyWarning: \n",
      "A value is trying to be set on a copy of a slice from a DataFrame.\n",
      "Try using .loc[row_indexer,col_indexer] = value instead\n",
      "\n",
      "See the caveats in the documentation: https://pandas.pydata.org/pandas-docs/stable/user_guide/indexing.html#returning-a-view-versus-a-copy\n",
      "  This is separate from the ipykernel package so we can avoid doing imports until\n",
      "/home/yiheng/anaconda3/lib/python3.6/site-packages/ipykernel_launcher.py:4: SettingWithCopyWarning: \n",
      "A value is trying to be set on a copy of a slice from a DataFrame.\n",
      "Try using .loc[row_indexer,col_indexer] = value instead\n",
      "\n",
      "See the caveats in the documentation: https://pandas.pydata.org/pandas-docs/stable/user_guide/indexing.html#returning-a-view-versus-a-copy\n",
      "  after removing the cwd from sys.path.\n",
      "/home/yiheng/anaconda3/lib/python3.6/site-packages/ipykernel_launcher.py:5: SettingWithCopyWarning: \n",
      "A value is trying to be set on a copy of a slice from a DataFrame.\n",
      "Try using .loc[row_indexer,col_indexer] = value instead\n",
      "\n",
      "See the caveats in the documentation: https://pandas.pydata.org/pandas-docs/stable/user_guide/indexing.html#returning-a-view-versus-a-copy\n",
      "  \"\"\"\n",
      "/home/yiheng/anaconda3/lib/python3.6/site-packages/ipykernel_launcher.py:6: SettingWithCopyWarning: \n",
      "A value is trying to be set on a copy of a slice from a DataFrame.\n",
      "Try using .loc[row_indexer,col_indexer] = value instead\n",
      "\n",
      "See the caveats in the documentation: https://pandas.pydata.org/pandas-docs/stable/user_guide/indexing.html#returning-a-view-versus-a-copy\n",
      "  \n",
      "/home/yiheng/anaconda3/lib/python3.6/site-packages/ipykernel_launcher.py:7: SettingWithCopyWarning: \n",
      "A value is trying to be set on a copy of a slice from a DataFrame.\n",
      "Try using .loc[row_indexer,col_indexer] = value instead\n",
      "\n",
      "See the caveats in the documentation: https://pandas.pydata.org/pandas-docs/stable/user_guide/indexing.html#returning-a-view-versus-a-copy\n",
      "  import sys\n"
     ]
    }
   ],
   "source": [
    "final_df_kraken_unclassified['superkingdom'] = 'Unclassified'\n",
    "final_df_kraken_unclassified['phylum'] = 'Unclassified'\n",
    "final_df_kraken_unclassified['class'] = 'Unclassified'\n",
    "final_df_kraken_unclassified['order'] = 'Unclassified'\n",
    "final_df_kraken_unclassified['family'] = 'Unclassified'\n",
    "final_df_kraken_unclassified['genus'] = 'Unclassified'\n",
    "final_df_kraken_unclassified['species'] = 'Unclassified'"
   ]
  },
  {
   "cell_type": "code",
   "execution_count": 22,
   "metadata": {},
   "outputs": [
    {
     "name": "stderr",
     "output_type": "stream",
     "text": [
      "/home/yiheng/anaconda3/lib/python3.6/site-packages/ete3/ncbi_taxonomy/ncbiquery.py:240: UserWarning: taxid 656024 was translated into 2714109\n",
      "  warnings.warn(\"taxid %s was translated into %s\" %(taxid, merged_conversion[taxid]))\n",
      "/home/yiheng/anaconda3/lib/python3.6/site-packages/ete3/ncbi_taxonomy/ncbiquery.py:240: UserWarning: taxid 5421 was translated into 264483\n",
      "  warnings.warn(\"taxid %s was translated into %s\" %(taxid, merged_conversion[taxid]))\n",
      "/home/yiheng/anaconda3/lib/python3.6/site-packages/ete3/ncbi_taxonomy/ncbiquery.py:240: UserWarning: taxid 2109625 was translated into 2605946\n",
      "  warnings.warn(\"taxid %s was translated into %s\" %(taxid, merged_conversion[taxid]))\n",
      "/home/yiheng/anaconda3/lib/python3.6/site-packages/ete3/ncbi_taxonomy/ncbiquery.py:240: UserWarning: taxid 345175 was translated into 2704158\n",
      "  warnings.warn(\"taxid %s was translated into %s\" %(taxid, merged_conversion[taxid]))\n",
      "/home/yiheng/anaconda3/lib/python3.6/site-packages/ete3/ncbi_taxonomy/ncbiquery.py:240: UserWarning: taxid 2480923 was translated into 2674991\n",
      "  warnings.warn(\"taxid %s was translated into %s\" %(taxid, merged_conversion[taxid]))\n",
      "/home/yiheng/anaconda3/lib/python3.6/site-packages/ete3/ncbi_taxonomy/ncbiquery.py:240: UserWarning: taxid 1415176 was translated into 2587831\n",
      "  warnings.warn(\"taxid %s was translated into %s\" %(taxid, merged_conversion[taxid]))\n",
      "/home/yiheng/anaconda3/lib/python3.6/site-packages/ete3/ncbi_taxonomy/ncbiquery.py:240: UserWarning: taxid 2494549 was translated into 2707005\n",
      "  warnings.warn(\"taxid %s was translated into %s\" %(taxid, merged_conversion[taxid]))\n",
      "/home/yiheng/anaconda3/lib/python3.6/site-packages/ete3/ncbi_taxonomy/ncbiquery.py:240: UserWarning: taxid 196114 was translated into 2696576\n",
      "  warnings.warn(\"taxid %s was translated into %s\" %(taxid, merged_conversion[taxid]))\n",
      "/home/yiheng/anaconda3/lib/python3.6/site-packages/ete3/ncbi_taxonomy/ncbiquery.py:240: UserWarning: taxid 2172536 was translated into 2698682\n",
      "  warnings.warn(\"taxid %s was translated into %s\" %(taxid, merged_conversion[taxid]))\n",
      "/home/yiheng/anaconda3/lib/python3.6/site-packages/ete3/ncbi_taxonomy/ncbiquery.py:240: UserWarning: taxid 320764 was translated into 2609304\n",
      "  warnings.warn(\"taxid %s was translated into %s\" %(taxid, merged_conversion[taxid]))\n",
      "/home/yiheng/anaconda3/lib/python3.6/site-packages/ete3/ncbi_taxonomy/ncbiquery.py:240: UserWarning: taxid 251709 was translated into 198625\n",
      "  warnings.warn(\"taxid %s was translated into %s\" %(taxid, merged_conversion[taxid]))\n",
      "/home/yiheng/anaconda3/lib/python3.6/site-packages/ete3/ncbi_taxonomy/ncbiquery.py:240: UserWarning: taxid 1049581 was translated into 293387\n",
      "  warnings.warn(\"taxid %s was translated into %s\" %(taxid, merged_conversion[taxid]))\n",
      "/home/yiheng/anaconda3/lib/python3.6/site-packages/ete3/ncbi_taxonomy/ncbiquery.py:240: UserWarning: taxid 2183547 was translated into 998844\n",
      "  warnings.warn(\"taxid %s was translated into %s\" %(taxid, merged_conversion[taxid]))\n",
      "/home/yiheng/anaconda3/lib/python3.6/site-packages/ete3/ncbi_taxonomy/ncbiquery.py:240: UserWarning: taxid 422207 was translated into 5059\n",
      "  warnings.warn(\"taxid %s was translated into %s\" %(taxid, merged_conversion[taxid]))\n",
      "/home/yiheng/anaconda3/lib/python3.6/site-packages/ete3/ncbi_taxonomy/ncbiquery.py:240: UserWarning: taxid 533344 was translated into 2315449\n",
      "  warnings.warn(\"taxid %s was translated into %s\" %(taxid, merged_conversion[taxid]))\n",
      "/home/yiheng/anaconda3/lib/python3.6/site-packages/ete3/ncbi_taxonomy/ncbiquery.py:240: UserWarning: taxid 2086290 was translated into 2044521\n",
      "  warnings.warn(\"taxid %s was translated into %s\" %(taxid, merged_conversion[taxid]))\n",
      "/home/yiheng/anaconda3/lib/python3.6/site-packages/ete3/ncbi_taxonomy/ncbiquery.py:240: UserWarning: taxid 5145 was translated into 2587412\n",
      "  warnings.warn(\"taxid %s was translated into %s\" %(taxid, merged_conversion[taxid]))\n",
      "/home/yiheng/anaconda3/lib/python3.6/site-packages/ete3/ncbi_taxonomy/ncbiquery.py:240: UserWarning: taxid 272698 was translated into 4909\n",
      "  warnings.warn(\"taxid %s was translated into %s\" %(taxid, merged_conversion[taxid]))\n",
      "/home/yiheng/anaconda3/lib/python3.6/site-packages/ete3/ncbi_taxonomy/ncbiquery.py:240: UserWarning: taxid 2045020 was translated into 2608262\n",
      "  warnings.warn(\"taxid %s was translated into %s\" %(taxid, merged_conversion[taxid]))\n"
     ]
    }
   ],
   "source": [
    "# Here in the output you could see a bit of incompability of the taxonomic database between ete3 module and the local blast database. Needs to be really carefull here.\n",
    "# pretty slow\n",
    "rank_list = ['superkingdom', 'phylum', 'class', 'order', 'family', 'genus', 'species']\n",
    "for rank in rank_list:\n",
    "    search_rank_output_name_append_column(final_df_kraken_classified, \n",
    "                                          final_df_kraken_classified.taxid, \n",
    "                                          rank)"
   ]
  },
  {
   "cell_type": "code",
   "execution_count": 23,
   "metadata": {},
   "outputs": [],
   "source": [
    "final_df_k2 = pd.concat([final_df_kraken_classified, final_df_kraken_unclassified], ignore_index=True)\n",
    "final_df_k2.columns = ['%s_k2' % x for x in final_df_k2.columns]\n",
    "final_df_k2.to_csv(os.path.join(basedir, 'barcode%s.%sdb_k2.tab' % (barcode, db)), sep='\\t')"
   ]
  }
 ],
 "metadata": {
  "kernelspec": {
   "display_name": "Python 3",
   "language": "python",
   "name": "python3"
  },
  "language_info": {
   "codemirror_mode": {
    "name": "ipython",
    "version": 3
   },
   "file_extension": ".py",
   "mimetype": "text/x-python",
   "name": "python",
   "nbconvert_exporter": "python",
   "pygments_lexer": "ipython3",
   "version": "3.6.10"
  }
 },
 "nbformat": 4,
 "nbformat_minor": 4
}
