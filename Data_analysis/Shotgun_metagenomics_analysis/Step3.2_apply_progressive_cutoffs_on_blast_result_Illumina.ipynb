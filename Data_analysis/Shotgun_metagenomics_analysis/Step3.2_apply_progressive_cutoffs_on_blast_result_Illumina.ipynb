{
 "cells": [
  {
   "cell_type": "code",
   "execution_count": 1,
   "metadata": {},
   "outputs": [],
   "source": [
    "# modules required for handling dataframes\n",
    "import numpy as np\n",
    "import os\n",
    "import pandas as pd\n",
    "import matplotlib.pyplot as plt"
   ]
  },
  {
   "cell_type": "code",
   "execution_count": 2,
   "metadata": {},
   "outputs": [],
   "source": [
    "sourcedir = '/home/yiheng/MinION_data/'\n",
    "basedir = '/home/yiheng/MinION_data/mock_com/illumina'\n",
    "name = 'MC1'\n",
    "db = 'refseq_fungi_updated'\n",
    "file_name = 'finaldf.%s.%s.blast.tab' % (name, db)\n",
    "finaldf_path = os.path.join(basedir, name, file_name)"
   ]
  },
  {
   "cell_type": "code",
   "execution_count": 3,
   "metadata": {},
   "outputs": [],
   "source": [
    "genera_in_mock = ['Aspergillus','Blastobotrys','Candida','Diutina', 'Nakaseomyces', 'Clavispora','Cryptococcus','Cyberlindnera',\n",
    "'Debaryomyces','Geotrichum','Kluyveromyces','Kodamaea','Lomentospora','Magnusiomyces','Meyerozyma','Pichia',\n",
    "'Rhodotorula','Scedosporium','Trichophyton', 'Trichosporon', 'Wickerhamomyces','Yarrowia','Zygoascus', 'Purpureocillium']"
   ]
  },
  {
   "cell_type": "code",
   "execution_count": 4,
   "metadata": {},
   "outputs": [
    {
     "data": {
      "text/plain": [
       "3158033550.0"
      ]
     },
     "execution_count": 4,
     "metadata": {},
     "output_type": "execute_result"
    }
   ],
   "source": [
    "final_df = pd.read_csv(finaldf_path, index_col=0, sep='\\t')\n",
    "# This number is needed for the later calculation. pmatch > 0 is to select all the classified contigs.\n",
    "final_df[final_df.pmatch > 0].total_cov.sum()"
   ]
  },
  {
   "cell_type": "code",
   "execution_count": 5,
   "metadata": {},
   "outputs": [],
   "source": [
    "def generate_taxonomy_pivot_sum_blast(tax_df, rank, bcs, num):\n",
    "    \"\"\"From tax_df, generate a pivot table listing num rank counts, sorted by bcs\"\"\"\n",
    "    pivot_table = tax_df.pivot_table(values='total_cov', \n",
    "                                            index=rank, \n",
    "                                            columns='superkingdom', \n",
    "                                            aggfunc='sum', \n",
    "                                            fill_value=0)\n",
    "    pivot_table.columns.name = None\n",
    "    pivot_table = pivot_table.sort_values(bcs, axis=0, ascending=False).head(n=num)\n",
    "    return pivot_table"
   ]
  },
  {
   "cell_type": "code",
   "execution_count": 6,
   "metadata": {},
   "outputs": [],
   "source": [
    "# alright, let's do the math\n",
    "# Here the pmatch is the query coverage.\n",
    "def calculate_precision_pmatch(blast_df, pmatch):\n",
    "    subset_blast_df = blast_df[blast_df.pmatch >= float(pmatch)]\n",
    "    fungidb_blast_pivot = generate_taxonomy_pivot_sum_blast(subset_blast_df, 'genus', 'Eukaryota', 2000) \n",
    "    subset_fungidb_blast_pivot = fungidb_blast_pivot[fungidb_blast_pivot.index.isin(genera_in_mock)]\n",
    "    precision = float((subset_fungidb_blast_pivot.sum().sum())/fungidb_blast_pivot['Eukaryota'].sum()*100)\n",
    "    return precision\n",
    "\n",
    "def calculate_precision_pident(blast_df, pident):\n",
    "    subset_blast_df = blast_df[blast_df.pident >= float(pident)]\n",
    "    fungidb_blast_pivot = generate_taxonomy_pivot_sum_blast(subset_blast_df, 'genus', 'Eukaryota', 2000) \n",
    "    subset_fungidb_blast_pivot = fungidb_blast_pivot[fungidb_blast_pivot.index.isin(genera_in_mock)]\n",
    "    precision = float((subset_fungidb_blast_pivot.sum().sum())/fungidb_blast_pivot['Eukaryota'].sum()*100)\n",
    "    return precision\n",
    "\n",
    "def calculate_precision_length(blast_df, length):\n",
    "    subset_blast_df = blast_df[blast_df.len >= float(length)]\n",
    "    fungidb_blast_pivot = generate_taxonomy_pivot_sum_blast(subset_blast_df, 'genus', 'Eukaryota', 2000) \n",
    "    subset_fungidb_blast_pivot = fungidb_blast_pivot[fungidb_blast_pivot.index.isin(genera_in_mock)]\n",
    "    precision = float((subset_fungidb_blast_pivot.sum().sum())/fungidb_blast_pivot['Eukaryota'].sum()*100)\n",
    "    return precision\n",
    "\n",
    "def calculate_precision_evalue(blast_df, evalue):\n",
    "    subset_blast_df = blast_df[blast_df.log_evalue_blast >= int(evalue)]\n",
    "    fungidb_blast_pivot = generate_taxonomy_pivot_sum_blast(subset_blast_df, 'genus', 'Eukaryota', 2000) \n",
    "    subset_fungidb_blast_pivot = fungidb_blast_pivot[fungidb_blast_pivot.index.isin(genera_in_mock)]\n",
    "    precision = float((subset_fungidb_blast_pivot.sum().sum())/fungidb_blast_pivot['Eukaryota'].sum()*100)\n",
    "    return precision\n",
    "\n",
    "def calculate_completeness_pmatch(blast_df, pmatch):\n",
    "    subset_blast_df = blast_df[blast_df.pmatch >= float(pmatch)]\n",
    "    fungidb_blast_pivot = generate_taxonomy_pivot_sum_blast(subset_blast_df, 'genus', 'Eukaryota', 2000) \n",
    "    subset_fungidb_blast_pivot = fungidb_blast_pivot[fungidb_blast_pivot.index.isin(genera_in_mock)]\n",
    "    completeness = len(subset_fungidb_blast_pivot)/24*100\n",
    "    return completeness\n",
    "\n",
    "def calculate_completeness_pident(blast_df, pident):\n",
    "    subset_blast_df = blast_df[blast_df.pident >= float(pident)]\n",
    "    fungidb_blast_pivot = generate_taxonomy_pivot_sum_blast(subset_blast_df, 'genus', 'Eukaryota', 2000) \n",
    "    subset_fungidb_blast_pivot = fungidb_blast_pivot[fungidb_blast_pivot.index.isin(genera_in_mock)]\n",
    "    completeness = len(subset_fungidb_blast_pivot)/24*100\n",
    "    return completeness\n",
    "\n",
    "def calculate_completeness_length(blast_df, length):\n",
    "    subset_blast_df = blast_df[blast_df.len >= float(length)]\n",
    "    fungidb_blast_pivot = generate_taxonomy_pivot_sum_blast(subset_blast_df, 'genus', 'Eukaryota', 2000) \n",
    "    subset_fungidb_blast_pivot = fungidb_blast_pivot[fungidb_blast_pivot.index.isin(genera_in_mock)]\n",
    "    completeness = len(subset_fungidb_blast_pivot)/24*100\n",
    "    return completeness\n",
    "\n",
    "def calculate_completeness_evalue(blast_df, evalue):\n",
    "    subset_blast_df = blast_df[blast_df.log_evalue_blast >= int(evalue)]\n",
    "    fungidb_blast_pivot = generate_taxonomy_pivot_sum_blast(subset_blast_df, 'genus', 'Eukaryota', 2000) \n",
    "    subset_fungidb_blast_pivot = fungidb_blast_pivot[fungidb_blast_pivot.index.isin(genera_in_mock)]\n",
    "    completeness = len(subset_fungidb_blast_pivot)/24*100\n",
    "    return completeness"
   ]
  },
  {
   "cell_type": "code",
   "execution_count": 7,
   "metadata": {},
   "outputs": [],
   "source": [
    "def calculate_remaining_length(blast_df, length):\n",
    "    if name == 'MC1':\n",
    "        subset_blast_df = blast_df[blast_df.len >= float(length)]\n",
    "        fungidb_blast_pivot = generate_taxonomy_pivot_sum_blast(subset_blast_df, 'genus', 'Eukaryota', 20000) \n",
    "        remaining_rate = float(fungidb_blast_pivot.sum().sum()/3158033550*100)\n",
    "        return remaining_rate\n",
    "    elif name == 'IE1':\n",
    "        subset_blast_df = blast_df[blast_df.len >= float(length)]\n",
    "        fungidb_blast_pivot = generate_taxonomy_pivot_sum_blast(subset_blast_df, 'genus', 'Eukaryota', 20000) \n",
    "        remaining_rate = float(fungidb_blast_pivot.sum().sum()/3363783952*100)\n",
    "        return remaining_rate\n",
    "\n",
    "def calculate_remaining_evalue(blast_df, evalue):\n",
    "    if name == 'MC1':\n",
    "        subset_blast_df = blast_df[blast_df.log_evalue_blast >= int(evalue)]\n",
    "        fungidb_blast_pivot = generate_taxonomy_pivot_sum_blast(subset_blast_df, 'genus', 'Eukaryota', 20000) \n",
    "        remaining_rate = float(fungidb_blast_pivot.sum()/3158033550*100)\n",
    "        return remaining_rate\n",
    "    elif name == 'IE1':\n",
    "        subset_blast_df = blast_df[blast_df.log_evalue_blast >= int(evalue)]\n",
    "        fungidb_blast_pivot = generate_taxonomy_pivot_sum_blast(subset_blast_df, 'genus', 'Eukaryota', 20000) \n",
    "        remaining_rate = float(fungidb_blast_pivot.sum()/3363783952*100)\n",
    "        return remaining_rate\n",
    "\n",
    "def calculate_remaining_pmatch(blast_df, pmatch):\n",
    "    if name == 'MC1':\n",
    "        subset_blast_df = blast_df[blast_df.pmatch >= int(pmatch)]\n",
    "        fungidb_blast_pivot = generate_taxonomy_pivot_sum_blast(subset_blast_df, 'genus', 'Eukaryota', 20000) \n",
    "        remaining_rate = float(fungidb_blast_pivot.sum()/3158033550*100)\n",
    "        return remaining_rate\n",
    "    elif name == 'IE1':\n",
    "        subset_blast_df = blast_df[blast_df.pmatch >= int(pmatch)]\n",
    "        fungidb_blast_pivot = generate_taxonomy_pivot_sum_blast(subset_blast_df, 'genus', 'Eukaryota', 20000) \n",
    "        remaining_rate = float(fungidb_blast_pivot.sum()/3363783952*100)\n",
    "        return remaining_rate\n",
    "    \n",
    "def calculate_remaining_pident(blast_df, pident):\n",
    "    if name == 'MC1':\n",
    "        subset_blast_df = blast_df[blast_df.pident >= int(pident)]\n",
    "        fungidb_blast_pivot = generate_taxonomy_pivot_sum_blast(subset_blast_df, 'genus', 'Eukaryota', 20000) \n",
    "        remaining_rate = float(fungidb_blast_pivot.sum()/3158033550*100)\n",
    "        return remaining_rate\n",
    "    elif name == 'IE1':\n",
    "        subset_blast_df = blast_df[blast_df.pident >= int(pident)]\n",
    "        fungidb_blast_pivot = generate_taxonomy_pivot_sum_blast(subset_blast_df, 'genus', 'Eukaryota', 20000) \n",
    "        remaining_rate = float(fungidb_blast_pivot.sum()/3363783952*100)\n",
    "        return remaining_rate\n",
    "    "
   ]
  },
  {
   "cell_type": "code",
   "execution_count": 8,
   "metadata": {},
   "outputs": [],
   "source": [
    "fillna_cols = ['superkingdom', 'phylum', 'class', 'order', 'family', 'genus', 'species']\n",
    "final_df[fillna_cols] = final_df[fillna_cols].fillna(value='Unclassified')"
   ]
  },
  {
   "cell_type": "code",
   "execution_count": 9,
   "metadata": {},
   "outputs": [],
   "source": [
    "pident_x_precision = pd.DataFrame()\n",
    "pident_x_precision['pident'] = range(0, 101)\n",
    "pident_x_precision['precision_rate'] = np.nan\n",
    "\n",
    "for y in pident_x_precision['pident']:\n",
    "    pident_x_precision.iloc[pident_x_precision[pident_x_precision.pident==y].index, \n",
    "                            pident_x_precision.columns.get_loc('precision_rate')] = calculate_precision_pident(final_df, y)\n",
    "    \n",
    "pident_x_precision.to_csv(os.path.join(basedir, name, '%s.%s.pident_precision.tab' % (name, db)), sep='\\t')"
   ]
  },
  {
   "cell_type": "code",
   "execution_count": 10,
   "metadata": {},
   "outputs": [],
   "source": [
    "pident_x_completeness = pd.DataFrame()\n",
    "pident_x_completeness['pident'] = np.arange(0, 101)\n",
    "pident_x_completeness['completeness'] = np.nan\n",
    "\n",
    "for w in range(0, 101):\n",
    "    pident_x_completeness.iloc[w, pident_x_completeness.columns.get_loc('completeness')] = calculate_completeness_pident(final_df, w)\n",
    "    \n",
    "pident_x_completeness.to_csv(os.path.join(basedir, name, '%s.%s.pident_completeness.tab' % (name, db)), sep='\\t')"
   ]
  },
  {
   "cell_type": "code",
   "execution_count": 11,
   "metadata": {},
   "outputs": [],
   "source": [
    "pmatch_X_precision = pd.DataFrame()\n",
    "pmatch_X_precision['pmatch'] = range(0, 98)\n",
    "pmatch_X_precision['precision_rate'] = np.nan\n",
    "\n",
    "for y in pmatch_X_precision['pmatch']:\n",
    "    pmatch_X_precision.iloc[pmatch_X_precision[pmatch_X_precision.pmatch==y].index, \n",
    "                            pmatch_X_precision.columns.get_loc('precision_rate')] = calculate_precision_pmatch(final_df, y)\n",
    "\n",
    "pmatch_X_precision.to_csv(os.path.join(basedir, name, '%s.%s.pmatch_precision.tab' % (name, db)), sep='\\t')"
   ]
  },
  {
   "cell_type": "code",
   "execution_count": 12,
   "metadata": {},
   "outputs": [],
   "source": [
    "pmatch_X_completeness = pd.DataFrame()\n",
    "pmatch_X_completeness['pmatch'] = np.arange(0, 98)\n",
    "pmatch_X_completeness['completeness'] = np.nan\n",
    "\n",
    "for w in range(0, 98):\n",
    "    pmatch_X_completeness.iloc[w, pmatch_X_completeness.columns.get_loc('completeness')] = calculate_completeness_pmatch(final_df, w)\n",
    "\n",
    "pmatch_X_completeness.to_csv(os.path.join(basedir, name, '%s.%s.pmatch_completeness.tab' % (name, db)), sep='\\t')"
   ]
  },
  {
   "cell_type": "code",
   "execution_count": 13,
   "metadata": {},
   "outputs": [
    {
     "data": {
      "text/plain": [
       "271246         30.0\n",
       "269242         31.0\n",
       "271780         32.0\n",
       "270004         33.0\n",
       "270423         35.0\n",
       "            ...    \n",
       "222222    7836147.0\n",
       "159003    8008326.0\n",
       "294559    9278669.0\n",
       "0         9587031.0\n",
       "1         9947060.0\n",
       "Name: total_cov, Length: 344780, dtype: float64"
      ]
     },
     "execution_count": 13,
     "metadata": {},
     "output_type": "execute_result"
    }
   ],
   "source": [
    "# This is to provide range for applying cutoffs\n",
    "final_df.total_cov.sort_values(ascending=True)"
   ]
  },
  {
   "cell_type": "code",
   "execution_count": 14,
   "metadata": {},
   "outputs": [],
   "source": [
    "length_x_precision = pd.DataFrame()\n",
    "length_x_precision['length'] = np.arange(0, 200000, 50)\n",
    "length_x_precision['precision_rate'] = np.nan\n",
    "\n",
    "for length in length_x_precision['length']:\n",
    "    length_x_precision.iloc[int(length_x_precision[length_x_precision['length']==length].index[0]),\n",
    "                            length_x_precision.columns.get_loc('precision_rate')] = calculate_precision_length(final_df, length)\n",
    "\n",
    "length_x_precision.to_csv(os.path.join(basedir, name, '%s.%s.length_precision.tab' % (name, db)), sep='\\t')"
   ]
  },
  {
   "cell_type": "code",
   "execution_count": 15,
   "metadata": {},
   "outputs": [],
   "source": [
    "length_x_completeness = pd.DataFrame()\n",
    "length_x_completeness['length'] = np.arange(0,200000,50)\n",
    "length_x_completeness['completeness'] = np.nan\n",
    "\n",
    "for length in length_x_completeness['length']:\n",
    "    length_x_completeness.iloc[int(length_x_completeness[length_x_completeness['length']==length].index[0]), \n",
    "                               length_x_completeness.columns.get_loc('completeness')] = calculate_completeness_length(final_df, length)\n",
    "\n",
    "length_x_completeness.to_csv(os.path.join(basedir,name, '%s.%s.length_completeness.tab' % (name, db)), sep='\\t')"
   ]
  },
  {
   "cell_type": "code",
   "execution_count": 16,
   "metadata": {},
   "outputs": [
    {
     "name": "stderr",
     "output_type": "stream",
     "text": [
      "/home/yiheng/anaconda3/lib/python3.6/site-packages/pandas/core/series.py:726: RuntimeWarning: divide by zero encountered in log\n",
      "  result = getattr(ufunc, method)(*inputs, **kwargs)\n"
     ]
    }
   ],
   "source": [
    "final_df['log_evalue_blast'] = -np.log(final_df.evalue)"
   ]
  },
  {
   "cell_type": "code",
   "execution_count": 17,
   "metadata": {},
   "outputs": [],
   "source": [
    "evalue_x_precision = pd.DataFrame()\n",
    "evalue_x_precision['evalue'] = range(0, 414)\n",
    "evalue_x_precision['precision_rate'] = np.nan\n",
    "\n",
    "for x in range(0, 414):\n",
    "    evalue_x_precision.iloc[x, evalue_x_precision.columns.get_loc('precision_rate')] = calculate_precision_evalue(final_df, x)\n",
    "    \n",
    "evalue_x_precision.to_csv(os.path.join(basedir, '%s.%s.evalue_precision.tab' % (name, db)), sep='\\t')"
   ]
  },
  {
   "cell_type": "code",
   "execution_count": 18,
   "metadata": {},
   "outputs": [],
   "source": [
    "evalue_x_completeness = pd.DataFrame()\n",
    "evalue_x_completeness['evalue'] = range(0, 414)\n",
    "evalue_x_completeness['completeness'] = np.nan\n",
    "\n",
    "for z in range(0, 414):\n",
    "    evalue_x_completeness.iloc[z, evalue_x_completeness.columns.get_loc('completeness')] = calculate_completeness_evalue(final_df, z)\n",
    "    \n",
    "evalue_x_completeness.to_csv(os.path.join(basedir, '%s.%s.evalue_completeness.tab' % (name, db)), sep='\\t')"
   ]
  },
  {
   "cell_type": "code",
   "execution_count": 19,
   "metadata": {},
   "outputs": [],
   "source": [
    "pident_x_remaining = pd.DataFrame()\n",
    "pident_x_remaining['pident'] = range(0, 101)\n",
    "pident_x_remaining['remaining_rate'] = np.nan\n",
    "\n",
    "for y in pident_x_remaining['pident']:\n",
    "    pident_x_remaining.iloc[pident_x_remaining[pident_x_remaining.pident==y].index,\n",
    "                            pident_x_remaining.columns.get_loc('remaining_rate')] = calculate_remaining_pident(final_df, y)\n",
    "    \n",
    "pident_x_remaining.to_csv(os.path.join(basedir, name, '%s.%s.pident_remaining.tab' % (name, db)), sep='\\t')"
   ]
  },
  {
   "cell_type": "code",
   "execution_count": 20,
   "metadata": {},
   "outputs": [],
   "source": [
    "pmatch_x_remaining = pd.DataFrame()\n",
    "pmatch_x_remaining['pmatch'] = range(0, 100)\n",
    "pmatch_x_remaining['remaining_rate'] = np.nan\n",
    "\n",
    "for y in pmatch_x_remaining['pmatch']:\n",
    "    pmatch_x_remaining.iloc[pmatch_x_remaining[pmatch_x_remaining.pmatch==y].index,\n",
    "                            pmatch_x_remaining.columns.get_loc('remaining_rate')] = calculate_remaining_pmatch(final_df, y)\n",
    "    \n",
    "pmatch_x_remaining.to_csv(os.path.join(basedir, name, '%s.%s.pmatch_remaining.tab' % (name, db)), sep='\\t')"
   ]
  },
  {
   "cell_type": "code",
   "execution_count": 22,
   "metadata": {},
   "outputs": [],
   "source": [
    "length_x_remaining = pd.DataFrame()\n",
    "length_x_remaining['length'] = np.arange(0, 200000, 50)\n",
    "length_x_remaining['remaining_rate'] = np.nan\n",
    "\n",
    "for length in length_x_remaining['length']:\n",
    "    length_x_remaining.iloc[int(length_x_remaining[length_x_remaining['length']==length].index[0]),\n",
    "                          length_x_remaining.columns.get_loc('remaining_rate')] = calculate_remaining_length(final_df, length)\n",
    "    \n",
    "length_x_remaining.to_csv(os.path.join(basedir, name, '%s.%s.length_remaining.tab' % (name, db)), sep='\\t')"
   ]
  },
  {
   "cell_type": "code",
   "execution_count": 23,
   "metadata": {},
   "outputs": [],
   "source": [
    "evalue_x_remaining = pd.DataFrame()\n",
    "evalue_x_remaining['evalue'] = range(0, 416)\n",
    "evalue_x_remaining['remaining_rate'] = np.nan\n",
    "\n",
    "for y in evalue_x_remaining['evalue']:\n",
    "    evalue_x_remaining.iloc[evalue_x_remaining[evalue_x_remaining.evalue==y].index,\n",
    "                            evalue_x_remaining.columns.get_loc('remaining_rate')] = calculate_remaining_evalue(final_df, y)\n",
    "    \n",
    "evalue_x_remaining.to_csv(os.path.join(basedir, name, '%s.%s.evalue_remaining.tab' % (name, db)), sep='\\t')"
   ]
  }
 ],
 "metadata": {
  "kernelspec": {
   "display_name": "Python 3",
   "language": "python",
   "name": "python3"
  },
  "language_info": {
   "codemirror_mode": {
    "name": "ipython",
    "version": 3
   },
   "file_extension": ".py",
   "mimetype": "text/x-python",
   "name": "python",
   "nbconvert_exporter": "python",
   "pygments_lexer": "ipython3",
   "version": "3.6.10"
  }
 },
 "nbformat": 4,
 "nbformat_minor": 4
}
