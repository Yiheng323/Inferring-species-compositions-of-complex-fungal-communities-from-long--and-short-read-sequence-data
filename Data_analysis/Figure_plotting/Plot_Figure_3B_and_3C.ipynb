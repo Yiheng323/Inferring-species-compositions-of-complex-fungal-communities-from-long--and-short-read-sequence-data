{
 "cells": [
  {
   "cell_type": "code",
   "execution_count": 1,
   "metadata": {},
   "outputs": [],
   "source": [
    "# modules required for handling dataframes\n",
    "import numpy as np\n",
    "import math\n",
    "import os\n",
    "import pandas as pd\n",
    "import matplotlib.pyplot as plt\n",
    "import seaborn as sns"
   ]
  },
  {
   "cell_type": "code",
   "execution_count": 2,
   "metadata": {},
   "outputs": [],
   "source": [
    "sourcedir = '/home/yiheng/MinION_data/' # the directory where all the documents of each sequencing run are stored.\n",
    "basedir = os.path.join(sourcedir, 'mock_com', 'illumina','amplicon')\n",
    "genera_in_mock = ['Aspergillus','Blastobotrys','Candida','Diutina', 'Nakaseomyces', 'Clavispora','Cryptococcus','Cyberlindnera',\n",
    "                  'Debaryomyces','Geotrichum','Kluyveromyces','Kodamaea','Lomentospora','Magnusiomyces','Meyerozyma','Pichia', \n",
    "                  'Filobasidium','Rhodotorula','Scedosporium','Trichophyton', 'Trichosporon', 'Wickerhamomyces','Yarrowia', \n",
    "                  'Zygoascus', 'Purpureocillium', 'Cutaneotrichosporon', 'Naganishia']"
   ]
  },
  {
   "cell_type": "code",
   "execution_count": 3,
   "metadata": {},
   "outputs": [],
   "source": [
    "def generate_final_df(sample):\n",
    "    taxa_table = os.path.join(basedir, 'metadata_%s.tsv' % sample)\n",
    "    frequency_table = os.path.join(basedir, 'feature-frequency-detail_%s.csv' % sample)\n",
    "    taxa_df = pd.read_csv(taxa_table, header=1, sep='\\t')\n",
    "    taxa_df.columns = ['FeatureID', 'Taxon', 'Confidence']\n",
    "    frequence_df = pd.read_csv(frequency_table, header=None, sep=',')\n",
    "    frequence_df.columns = ['FeatureID', 'Frequency']\n",
    "    final_df = pd.merge(taxa_df, frequence_df, how='outer', on='FeatureID')\n",
    "    \n",
    "    kingdom_list = []\n",
    "    phylum_list = []\n",
    "    class_list = []\n",
    "    order_list = []\n",
    "    family_list = []\n",
    "    genus_list = []\n",
    "    species_list = []\n",
    "    for x in final_df.Taxon:\n",
    "        try:\n",
    "            kingdom_list.append(x.split(';')[0].split('__')[1])\n",
    "        except IndexError:\n",
    "            kingdom_list.append('Unclassified')\n",
    "        try:\n",
    "            phylum_list.append(x.split(';')[1].split('__')[1])\n",
    "        except IndexError:\n",
    "            phylum_list.append('Unclassified')\n",
    "        try:\n",
    "            class_list.append(x.split(';')[2].split('__')[1])\n",
    "        except IndexError:\n",
    "            class_list.append('Unclassified')\n",
    "        try:\n",
    "            order_list.append(x.split(';')[3].split('__')[1])\n",
    "        except IndexError:\n",
    "            order_list.append('Unclassified')\n",
    "        try:\n",
    "            family_list.append(x.split(';')[4].split('__')[1])\n",
    "        except IndexError:\n",
    "            family_list.append('Unclassified')\n",
    "        try:\n",
    "            genus_list.append(x.split(';')[5].split('__')[1])\n",
    "        except IndexError:\n",
    "            genus_list.append('Unclassified')\n",
    "        try:\n",
    "            species_list.append(x.split(';')[6].split('__')[1])\n",
    "        except IndexError:\n",
    "            species_list.append('Unclassified')\n",
    "    final_df['kingdom'] = kingdom_list\n",
    "    final_df['phylum'] = phylum_list\n",
    "    final_df['class'] = class_list\n",
    "    final_df['order'] = order_list\n",
    "    final_df['family'] = family_list\n",
    "    final_df['genus'] = genus_list\n",
    "    final_df['species'] = species_list\n",
    "    final_df = final_df.replace('unidentified', 'Unclassified')\n",
    "    return final_df"
   ]
  },
  {
   "cell_type": "code",
   "execution_count": 4,
   "metadata": {},
   "outputs": [],
   "source": [
    "def calculate_precision_rate(sample):\n",
    "    tab_df = generate_final_df(sample)\n",
    "    tab_df_in_mock = tab_df[tab_df.genus.isin(genera_in_mock)]\n",
    "    precision_rate = sum(tab_df_in_mock.Frequency)/sum(tab_df.Frequency)\n",
    "    return precision_rate   "
   ]
  },
  {
   "cell_type": "code",
   "execution_count": 5,
   "metadata": {},
   "outputs": [],
   "source": [
    "def generate_precision_frequency_df(sample):\n",
    "    precision_x_frequency = pd.DataFrame()\n",
    "    precision_x_frequency['precision'] = [calculate_precision_rate('%s1' % sample), \n",
    "                                          calculate_precision_rate('%s2' % sample), \n",
    "                                          calculate_precision_rate('%s3' % sample)]\n",
    "    precision_x_frequency['frequency'] = [generate_final_df('%s1' % sample).Frequency.sum(), \n",
    "                                          generate_final_df('%s2' % sample).Frequency.sum(),\n",
    "                                          generate_final_df('%s3' % sample).Frequency.sum()]\n",
    "    return precision_x_frequency\n",
    "\n",
    "def generate_completeness_frequency_df(sample):\n",
    "    completeness_x_frequency = pd.DataFrame()\n",
    "    final_df_1 = generate_final_df('%s1' % sample)\n",
    "    final_df_2 = generate_final_df('%s2' % sample)\n",
    "    final_df_3 = generate_final_df('%s3' % sample)\n",
    "    completeness_x_frequency['completeness'] = [len(final_df_1[final_df_1.genus.isin(genera_in_mock)].genus.unique())/24, \n",
    "                                                len(final_df_2[final_df_2.genus.isin(genera_in_mock)].genus.unique())/24, \n",
    "                                                len(final_df_3[final_df_3.genus.isin(genera_in_mock)].genus.unique())/24]\n",
    "    completeness_x_frequency['frequency'] = [final_df_1.Frequency.sum(), \n",
    "                                             final_df_2.Frequency.sum(),\n",
    "                                             final_df_3.Frequency.sum()]\n",
    "    return completeness_x_frequency"
   ]
  },
  {
   "cell_type": "code",
   "execution_count": 6,
   "metadata": {},
   "outputs": [],
   "source": [
    "def weighted_avg_and_std(values, weights):\n",
    "    \"\"\"\n",
    "    Return the weighted average and standard deviation.\n",
    "\n",
    "    values, weights -- Numpy ndarrays with the same shape.\n",
    "    \"\"\"\n",
    "    average = np.average(values, weights=weights)\n",
    "    # Fast and numerically precise:\n",
    "    variance = np.average((values-average)**2, weights=weights)\n",
    "    return (average, math.sqrt(variance))"
   ]
  },
  {
   "cell_type": "code",
   "execution_count": 7,
   "metadata": {},
   "outputs": [],
   "source": [
    "IE_final_df = pd.concat([generate_final_df('IE1'), generate_final_df('IE2'), generate_final_df('IE3')], ignore_index=True)\n",
    "MC_final_df = pd.concat([generate_final_df('MC1'), generate_final_df('MC2'), generate_final_df('MC3')], ignore_index=True)\n",
    "# This W suppose to be the water control, and I didn't put it in the figure.\n",
    "W_final_df = generate_final_df('W')"
   ]
  },
  {
   "cell_type": "code",
   "execution_count": 8,
   "metadata": {},
   "outputs": [],
   "source": [
    "IE_completeness_df = generate_completeness_frequency_df('IE')\n",
    "IE_completeness_df['completeness'] = round(IE_completeness_df['completeness']*1000000)\n",
    "IE_completeness_df = IE_completeness_df.astype(int)\n",
    "MC_completeness_df = generate_completeness_frequency_df('MC')\n",
    "MC_completeness_df['completeness'] = round(MC_completeness_df['completeness']*1000000)\n",
    "MC_completeness_df = MC_completeness_df.astype(int)"
   ]
  },
  {
   "cell_type": "code",
   "execution_count": 9,
   "metadata": {},
   "outputs": [],
   "source": [
    "# Those numbers are copies from analyze_amplicon_minimap_kraken\n",
    "IE_completeness_df_nanopore = pd.DataFrame()\n",
    "IE_completeness_df_nanopore['completeness'] = [666666,666666,708333]\n",
    "IE_completeness_df_nanopore['readnum'] = [14532,15799,17427]\n",
    "MC_completeness_df_nanopore = pd.DataFrame()\n",
    "MC_completeness_df_nanopore['completeness'] = [666666,625000,625000]\n",
    "MC_completeness_df_nanopore['readnum'] = [10715,9535,7926]"
   ]
  },
  {
   "cell_type": "code",
   "execution_count": 10,
   "metadata": {},
   "outputs": [],
   "source": [
    "# Calculate the average\n",
    "IE_precision_mean = weighted_avg_and_std(generate_precision_frequency_df('IE').precision, generate_precision_frequency_df('IE').frequency)[0]\n",
    "MC_precision_mean = weighted_avg_and_std(generate_precision_frequency_df('MC').precision, generate_precision_frequency_df('MC').frequency)[0]\n",
    "IE_completeness_mean_illumina = weighted_avg_and_std(generate_completeness_frequency_df('IE').completeness, generate_completeness_frequency_df('IE').frequency)[0]*100\n",
    "MC_completeness_mean_illumina = weighted_avg_and_std(generate_completeness_frequency_df('MC').completeness, generate_completeness_frequency_df('MC').frequency)[0]*100\n",
    "IE_completeness_mean_nanopore = weighted_avg_and_std(IE_completeness_df_nanopore.completeness/1000000, IE_completeness_df_nanopore.readnum)[0]*100\n",
    "MC_completeness_mean_nanopore = weighted_avg_and_std(MC_completeness_df_nanopore.completeness/1000000, MC_completeness_df_nanopore.readnum)[0]*100\n",
    "\n",
    "# Calculate the standard deviation\n",
    "IE_precision_std = weighted_avg_and_std(generate_precision_frequency_df('IE').precision, generate_precision_frequency_df('IE').frequency)[1]\n",
    "MC_precision_std = weighted_avg_and_std(generate_precision_frequency_df('MC').precision, generate_precision_frequency_df('MC').frequency)[1]\n",
    "IE_completeness_std_illumina = weighted_avg_and_std(generate_completeness_frequency_df('IE').completeness, generate_completeness_frequency_df('IE').frequency)[1]\n",
    "MC_completeness_std_illumina = weighted_avg_and_std(generate_completeness_frequency_df('MC').completeness, generate_completeness_frequency_df('MC').frequency)[1]\n",
    "IE_completeness_std_nanopore = weighted_avg_and_std(IE_completeness_df_nanopore.completeness/1000000, IE_completeness_df_nanopore.readnum)[1]\n",
    "MC_completeness_std_nanopore = weighted_avg_and_std(MC_completeness_df_nanopore.completeness/1000000, MC_completeness_df_nanopore.readnum)[1]\n"
   ]
  },
  {
   "cell_type": "code",
   "execution_count": 11,
   "metadata": {},
   "outputs": [],
   "source": [
    "# prepare data for completeness figure 3C\n",
    "MC_completeness_df['Sequencing strategy'] = 'Ilumina'\n",
    "MC_completeness_df_nanopore['Sequencing strategy'] = 'Nanopore'\n",
    "MC_completeness_df_combined = pd.concat([MC_completeness_df, MC_completeness_df_nanopore], ignore_index=True)\n",
    "MC_completeness_df_combined['Sample'] = 'Mixed culture'\n",
    "\n",
    "IE_completeness_df['Sequencing strategy'] = 'Ilumina'\n",
    "IE_completeness_df_nanopore['Sequencing strategy'] = 'Nanopore'\n",
    "IE_completeness_df_combined = pd.concat([IE_completeness_df, IE_completeness_df_nanopore], ignore_index=True)\n",
    "IE_completeness_df_combined['Sample'] = 'Pooled DNA'"
   ]
  },
  {
   "cell_type": "code",
   "execution_count": 12,
   "metadata": {},
   "outputs": [],
   "source": [
    "completeness_df_combined = pd.concat([IE_completeness_df_combined, MC_completeness_df_combined], ignore_index=True)\n",
    "completeness_df_combined['Completeness'] = completeness_df_combined['completeness']/10000"
   ]
  },
  {
   "cell_type": "code",
   "execution_count": 13,
   "metadata": {},
   "outputs": [
    {
     "data": {
      "image/png": "[encoded data removed]",
      "text/plain": [
       "<Figure size 432x288 with 1 Axes>"
      ]
     },
     "metadata": {},
     "output_type": "display_data"
    }
   ],
   "source": [
    "sns.set(style=\"ticks\")\n",
    "x_labels = ['PD', 'PB']\n",
    "\n",
    "ax = sns.swarmplot(x=\"Sample\", y=\"Completeness\", hue='Sequencing strategy', edgecolor='1',\n",
    "                   data=completeness_df_combined, color='r', dodge=True)\n",
    "ax.set_xlabel('')\n",
    "ax.yaxis.grid(linestyle='dotted')\n",
    "handles, labels = ax.get_legend_handles_labels()\n",
    "x_pos = np.arange(len(labels))\n",
    "ax.legend(handles=handles[2:], labels=labels[2:], fontsize=14)\n",
    "# This is to plot the weighted average lines for each sample\n",
    "ax.plot([-0.275,-0.125], [IE_completeness_mean_illumina,IE_completeness_mean_illumina], lw=2, color='k')\n",
    "ax.plot([0.125,0.275], [IE_completeness_mean_nanopore,IE_completeness_mean_nanopore], lw=2, color='k')\n",
    "ax.plot([0.725,0.875], [MC_completeness_mean_illumina,MC_completeness_mean_illumina], lw=2, color='k')\n",
    "ax.plot([1.124,1.275], [MC_completeness_mean_nanopore,MC_completeness_mean_nanopore], lw=2, color='k')\n",
    "ax.yaxis.set_label_text('Completeness (%)', fontsize=22)\n",
    "ax.set_xticks(x_pos)\n",
    "ax.set_xticklabels(x_labels, fontsize=22)\n",
    "ax.text(-1, 105, 'C', fontweight=300, fontsize=36)\n",
    "plt.ylim(0, 100)\n",
    "plt.savefig(os.path.join(sourcedir, 'figures', 'Figure3C.png'), bbox_inches=\"tight\", dpi=1000)"
   ]
  },
  {
   "cell_type": "code",
   "execution_count": 14,
   "metadata": {},
   "outputs": [],
   "source": [
    "precision_IE = generate_precision_frequency_df('IE')\n",
    "precision_IE['Sample'] = 'PD'\n",
    "precision_MC = generate_precision_frequency_df('MC')\n",
    "precision_MC['Sample'] = 'PB'\n",
    "precision_df = pd.concat([precision_IE, precision_MC], ignore_index=True)\n",
    "precision_df.precision = precision_df.precision*100"
   ]
  },
  {
   "cell_type": "code",
   "execution_count": 15,
   "metadata": {},
   "outputs": [
    {
     "data": {
      "image/png": "[encoded data removed]",
      "text/plain": [
       "<Figure size 432x288 with 1 Axes>"
      ]
     },
     "metadata": {},
     "output_type": "display_data"
    }
   ],
   "source": [
    "sns.set(style=\"ticks\")\n",
    "ax = sns.swarmplot(x=\"Sample\", y=\"precision\", edgecolor='1',\n",
    "                   data=precision_df, color=\"k\", dodge=True)\n",
    "ax.set_xlabel('')\n",
    "ax.yaxis.grid(linestyle='dotted')\n",
    "\n",
    "# This is to plot the weighted average lines for each sample\n",
    "ax.plot([-0.125,0.125], [IE_precision_mean*100,IE_precision_mean*100], lw=2, color='k')\n",
    "ax.plot([0.875,1.125], [MC_precision_mean*100,MC_precision_mean*100], lw=2, color='k')\n",
    "\n",
    "ax.yaxis.set_label_text('Precision (%)', fontsize=22)\n",
    "ax.set_xticks(x_pos)\n",
    "ax.set_xticklabels(x_labels, fontsize=22)\n",
    "ax.text(-1, 105, 'B', fontweight=300, fontsize=36)\n",
    "plt.ylim(0, 100)\n",
    "plt.savefig(os.path.join(sourcedir, 'figures', 'Figure3B.png'), bbox_inches=\"tight\", dpi=1000)"
   ]
  }
 ],
 "metadata": {
  "kernelspec": {
   "display_name": "Python 3",
   "language": "python",
   "name": "python3"
  },
  "language_info": {
   "codemirror_mode": {
    "name": "ipython",
    "version": 3
   },
   "file_extension": ".py",
   "mimetype": "text/x-python",
   "name": "python",
   "nbconvert_exporter": "python",
   "pygments_lexer": "ipython3",
   "version": "3.6.10"
  }
 },
 "nbformat": 4,
 "nbformat_minor": 4
}
