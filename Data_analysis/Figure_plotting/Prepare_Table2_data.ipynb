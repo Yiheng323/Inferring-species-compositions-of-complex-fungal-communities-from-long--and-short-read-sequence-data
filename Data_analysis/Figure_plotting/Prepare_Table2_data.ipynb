{
 "cells": [
  {
   "cell_type": "code",
   "execution_count": 1,
   "metadata": {},
   "outputs": [],
   "source": [
    "# modules required for handling dataframes\n",
    "import numpy as np\n",
    "import os\n",
    "import pandas as pd\n",
    "import matplotlib.pyplot as plt\n",
    "from ete3 import NCBITaxa \n",
    "ncbi = NCBITaxa()"
   ]
  },
  {
   "cell_type": "code",
   "execution_count": 2,
   "metadata": {},
   "outputs": [],
   "source": [
    "def search_rank_output_name_append_column(df, staxid_column, rank_search):\n",
    "    \"\"\"Input df, staxid_column from same df and rank_search (a desired taxonomic rank \n",
    "    from each staxid's lineage), outputs taxonomic name corresponding to rank_search or 'Unclassified' if\n",
    "    unavailable and appends to df row by row\"\"\"\n",
    "    rank_list = []\n",
    "    for read_index in range(0, len(staxid_column)):\n",
    "        taxid = ''\n",
    "        if ';' in str(staxid_column[read_index]):\n",
    "            taxid = staxid_column[read_index].split(';')[0]\n",
    "        else:\n",
    "            taxid = staxid_column[read_index]\n",
    "        \n",
    "        taxid_lineage = ''\n",
    "        taxid_lineage = ncbi.get_lineage(taxid)\n",
    "        \n",
    "        names = ''\n",
    "        names = ncbi.get_taxid_translator(taxid_lineage)\n",
    "        \n",
    "        ranks = ''\n",
    "        ranks = ncbi.get_rank(taxid_lineage) #Dict\n",
    "        \n",
    "        ranks2names = ''\n",
    "        ranks2names = {ranks[k]:names[k] for k in names.keys() & ranks}\n",
    "        \n",
    "        if rank_search in ranks2names.keys():\n",
    "            rank_list.append(ranks2names[rank_search])#if rank in dict, print name\n",
    "        else:\n",
    "            rank_list.append('Unclassified')\n",
    "    df[rank_search] = rank_list\n",
    "    \n",
    "def trim_df_columns(df,column_list):\n",
    "    df.drop(columns=column_list, inplace=True)\n",
    "    \n",
    "def add_df_headers(df, header_list):\n",
    "    df.columns = header_list"
   ]
  },
  {
   "cell_type": "code",
   "execution_count": 3,
   "metadata": {},
   "outputs": [],
   "source": [
    "# Here is the first and the easiest re-analysis from the human clinical nanopore data.\n",
    "# Define some global variables.\n",
    "sourcedir = '/home/yiheng/MinION_data/mock_com/figure3_analysis/nanopore_clinical_reanalysis' # the directory where all the documents of each sequencing run are stored.\n",
    "true_genus = ['Homo', 'Pneumocystis']\n",
    "summary_df_dir_1 = os.path.join(sourcedir, 'summary_df_replicate4.tab')\n",
    "# This final df is to get the information of sequencing length.\n",
    "# The original final_df also has the blast results but we did the blast again just for consistency.\n",
    "blast_df_dir = os.path.join(sourcedir, 'final_df.all.csv')\n",
    "blast_df_C1_dir = os.path.join(sourcedir, 'C_1.ntblast_output')\n",
    "blast_df_C2_dir = os.path.join(sourcedir, 'C_2.ntblast_output')\n",
    "blast_df_C3_dir = os.path.join(sourcedir, 'C_3.ntblast_output')\n",
    "blast_df_Pj1_dir = os.path.join(sourcedir, 'Pj_1.ntblast_output')\n",
    "blast_df_Pj2_dir = os.path.join(sourcedir, 'Pj_2.ntblast_output')\n",
    "blast_df_Pj3_dir = os.path.join(sourcedir, 'Pj_3.ntblast_output')"
   ]
  },
  {
   "cell_type": "code",
   "execution_count": 4,
   "metadata": {},
   "outputs": [
    {
     "name": "stderr",
     "output_type": "stream",
     "text": [
      "/home/yiheng/anaconda3/lib/python3.6/site-packages/IPython/core/interactiveshell.py:3072: DtypeWarning: Columns (27) have mixed types.Specify dtype option on import or set low_memory=False.\n",
      "  interactivity=interactivity, compiler=compiler, result=result)\n",
      "/home/yiheng/anaconda3/lib/python3.6/site-packages/numpy/lib/arraysetops.py:580: FutureWarning: elementwise comparison failed; returning scalar instead, but in the future will perform elementwise comparison\n",
      "  mask |= (ar1 == a)\n"
     ]
    }
   ],
   "source": [
    "summary_df_1 = pd.read_csv(summary_df_dir_1, sep='\\t')\n",
    "blast_df = pd.read_csv(blast_df_dir, sep='\\t', index_col=0)"
   ]
  },
  {
   "cell_type": "code",
   "execution_count": 5,
   "metadata": {},
   "outputs": [
    {
     "name": "stderr",
     "output_type": "stream",
     "text": [
      "/home/yiheng/anaconda3/lib/python3.6/site-packages/IPython/core/interactiveshell.py:3072: DtypeWarning: Columns (9) have mixed types.Specify dtype option on import or set low_memory=False.\n",
      "  interactivity=interactivity, compiler=compiler, result=result)\n"
     ]
    }
   ],
   "source": [
    "blast_df_C1 = pd.read_csv(blast_df_C1_dir, sep='\\t')\n",
    "blast_df_C2 = pd.read_csv(blast_df_C2_dir, sep='\\t')\n",
    "blast_df_C3 = pd.read_csv(blast_df_C3_dir, sep='\\t')\n",
    "blast_df_Pj1 = pd.read_csv(blast_df_Pj1_dir, sep='\\t')\n",
    "blast_df_Pj2 = pd.read_csv(blast_df_Pj2_dir, sep='\\t')\n",
    "blast_df_Pj3 = pd.read_csv(blast_df_Pj3_dir, sep='\\t')"
   ]
  },
  {
   "cell_type": "code",
   "execution_count": 6,
   "metadata": {},
   "outputs": [],
   "source": [
    "blast_header_1 = ['qseqid', 'sseqid', 'evalue', 'bitscore', 'length', 'pident', 'nident', 'sgi', 'sacc', 'staxids', 'sscinames', 'scomnames', 'sskingdoms', 'sstart', 'send']\n",
    "blast_header_2 = ['qseqid', 'sseqid', 'evalue', 'bitscore', 'length', 'pident', 'nident', 'sgi', 'sacc', 'staxids', 'sscinames', 'scomnames']\n",
    "add_df_headers(blast_df_C1, blast_header_2)\n",
    "add_df_headers(blast_df_C2, blast_header_2)\n",
    "add_df_headers(blast_df_C3, blast_header_2)\n",
    "# This two different header list is due to different blast comamnds in the original paper.\n",
    "add_df_headers(blast_df_Pj1, blast_header_1)\n",
    "add_df_headers(blast_df_Pj2, blast_header_1)\n",
    "add_df_headers(blast_df_Pj3, blast_header_1)"
   ]
  },
  {
   "cell_type": "code",
   "execution_count": 7,
   "metadata": {},
   "outputs": [
    {
     "data": {
      "text/plain": [
       "Index(['qseqid', 'sseqid', 'evalue', 'bitscore', 'length', 'pident', 'nident',\n",
       "       'sgi', 'sacc', 'staxids', 'sscinames', 'scomnames'],\n",
       "      dtype='object')"
      ]
     },
     "execution_count": 7,
     "metadata": {},
     "output_type": "execute_result"
    }
   ],
   "source": [
    "blast_df_C2.columns"
   ]
  },
  {
   "cell_type": "code",
   "execution_count": 8,
   "metadata": {},
   "outputs": [],
   "source": [
    "columns_to_drop_1 = ['sseqid', 'evalue', 'bitscore', 'pident', 'nident', 'sgi', 'sacc', 'staxids', 'sscinames', 'scomnames']\n",
    "columns_to_drop_2 = ['sseqid', 'evalue', 'bitscore', 'pident', 'nident', 'sgi', 'sacc', 'staxids', 'sscinames', 'scomnames', 'sskingdoms', 'sstart', 'send']\n",
    "\n",
    "blast_df_C1_trim = blast_df_C1.drop(columns=columns_to_drop_1)\n",
    "blast_df_C1_trim.drop_duplicates(inplace=True, ignore_index=True)\n",
    "\n",
    "blast_df_C2_trim = blast_df_C2.drop(columns=columns_to_drop_1)\n",
    "blast_df_C2_trim.drop_duplicates(inplace=True, ignore_index=True)\n",
    "\n",
    "blast_df_C3_trim = blast_df_C3.drop(columns=columns_to_drop_1)\n",
    "blast_df_C3_trim.drop_duplicates(inplace=True, ignore_index=True)\n",
    "\n",
    "blast_df_Pj1_trim = blast_df_Pj1.drop(columns=columns_to_drop_2)\n",
    "blast_df_Pj1_trim.drop_duplicates(inplace=True, ignore_index=True)\n",
    "\n",
    "blast_df_Pj2_trim = blast_df_Pj2.drop(columns=columns_to_drop_2)\n",
    "blast_df_Pj2_trim.drop_duplicates(inplace=True, ignore_index=True)\n",
    "\n",
    "blast_df_Pj3_trim = blast_df_Pj3.drop(columns=columns_to_drop_2)\n",
    "blast_df_Pj3_trim.drop_duplicates(inplace=True, ignore_index=True)"
   ]
  },
  {
   "cell_type": "code",
   "execution_count": 9,
   "metadata": {},
   "outputs": [
    {
     "data": {
      "text/plain": [
       "Index(['family_blast', 'genus_blast', 'phylum_blast', 'superkingdom_blast',\n",
       "       'read_id_wimp', 'barcode_wimp', 'seqlen_wimp', 'superkingdom_wimp',\n",
       "       'phylum_wimp', 'family_wimp', 'genus_wimp', 'sample'],\n",
       "      dtype='object')"
      ]
     },
     "execution_count": 9,
     "metadata": {},
     "output_type": "execute_result"
    }
   ],
   "source": [
    "blast_df.columns"
   ]
  },
  {
   "cell_type": "code",
   "execution_count": 10,
   "metadata": {},
   "outputs": [],
   "source": [
    "blast_df_trim = blast_df.drop(columns=['barcode_wimp','superkingdom_wimp', 'phylum_wimp', 'family_wimp', 'genus_wimp'], axis=0)"
   ]
  },
  {
   "cell_type": "code",
   "execution_count": 11,
   "metadata": {},
   "outputs": [],
   "source": [
    "# This is trimming the final blast df first then extract samples based on their IDs\n",
    "blast_df_trim_C1 = blast_df_trim[blast_df_trim['sample'] == 'C_1']\n",
    "blast_df_trim_C1 = blast_df_trim_C1[blast_df_trim_C1.read_id_wimp.isin(blast_df_C1_trim.qseqid)]\n",
    "blast_df_trim_C1 = blast_df_trim_C1.reset_index(drop=True)\n",
    "\n",
    "blast_df_trim_C2 = blast_df_trim[blast_df_trim['sample'] == 'C_2']\n",
    "blast_df_trim_C2 = blast_df_trim_C2[blast_df_trim_C2.read_id_wimp.isin(blast_df_C2_trim.qseqid)]\n",
    "blast_df_trim_C2 = blast_df_trim_C2.reset_index(drop=True)\n",
    "\n",
    "blast_df_trim_C3 = blast_df_trim[blast_df_trim['sample'] == 'C_3']\n",
    "blast_df_trim_C3 = blast_df_trim_C3[blast_df_trim_C3.read_id_wimp.isin(blast_df_C3_trim.qseqid)]\n",
    "blast_df_trim_C3 = blast_df_trim_C3.reset_index(drop=True)\n",
    "\n",
    "blast_df_trim_Pj1 = blast_df_trim[blast_df_trim['sample'] == 'Pj_1']\n",
    "blast_df_trim_Pj1 = blast_df_trim_Pj1[blast_df_trim_Pj1.read_id_wimp.isin(blast_df_Pj1_trim.qseqid)]\n",
    "blast_df_trim_Pj1 = blast_df_trim_Pj1.reset_index(drop=True)\n",
    "\n",
    "blast_df_trim_Pj2 = blast_df_trim[blast_df_trim['sample'] == 'Pj_2']\n",
    "blast_df_trim_Pj2 = blast_df_trim_Pj2[blast_df_trim_Pj2.read_id_wimp.isin(blast_df_Pj2_trim.qseqid)]\n",
    "blast_df_trim_Pj2 = blast_df_trim_Pj2.reset_index(drop=True)\n",
    "\n",
    "blast_df_trim_Pj3 = blast_df_trim[blast_df_trim['sample'] == 'Pj_3']\n",
    "blast_df_trim_Pj3 = blast_df_trim_Pj3[blast_df_trim_Pj3.read_id_wimp.isin(blast_df_Pj3_trim.qseqid)]\n",
    "blast_df_trim_Pj3 = blast_df_trim_Pj3.reset_index(drop=True)"
   ]
  },
  {
   "cell_type": "code",
   "execution_count": 12,
   "metadata": {},
   "outputs": [],
   "source": [
    "blast_df_C1_merge = pd.merge(blast_df_C1_trim, blast_df_trim_C1, how='outer', left_on='qseqid', right_on='read_id_wimp')\n",
    "blast_df_C2_merge = pd.merge(blast_df_C2_trim, blast_df_trim_C2, how='outer', left_on='qseqid', right_on='read_id_wimp')\n",
    "blast_df_C3_merge = pd.merge(blast_df_C3_trim, blast_df_trim_C3, how='outer', left_on='qseqid', right_on='read_id_wimp')\n",
    "blast_df_Pj1_merge = pd.merge(blast_df_Pj1_trim, blast_df_trim_Pj1, how='outer', left_on='qseqid', right_on='read_id_wimp')\n",
    "blast_df_Pj2_merge = pd.merge(blast_df_Pj2_trim, blast_df_trim_Pj2, how='outer', left_on='qseqid', right_on='read_id_wimp')\n",
    "blast_df_Pj3_merge = pd.merge(blast_df_Pj3_trim, blast_df_trim_Pj3, how='outer', left_on='qseqid', right_on='read_id_wimp')"
   ]
  },
  {
   "cell_type": "code",
   "execution_count": 13,
   "metadata": {},
   "outputs": [],
   "source": [
    "blast_df_C1_merge = blast_df_C1_merge[blast_df_C1_merge['sample'] == 'C_1']\n",
    "blast_df_C2_merge = blast_df_C2_merge[blast_df_C2_merge['sample'] == 'C_2']\n",
    "blast_df_C3_merge = blast_df_C3_merge[blast_df_C3_merge['sample'] == 'C_3']\n",
    "blast_df_Pj1_merge = blast_df_Pj1_merge[blast_df_Pj1_merge['sample'] == 'Pj_1']\n",
    "blast_df_Pj2_merge = blast_df_Pj2_merge[blast_df_Pj2_merge['sample'] == 'Pj_2']\n",
    "blast_df_Pj3_merge = blast_df_Pj3_merge[blast_df_Pj3_merge['sample'] == 'Pj_3']\n",
    "\n",
    "blast_df_C1_merge = blast_df_C1_merge.reset_index(drop=True)\n",
    "blast_df_C2_merge = blast_df_C2_merge.reset_index(drop=True)\n",
    "blast_df_C3_merge = blast_df_C3_merge.reset_index(drop=True)\n",
    "blast_df_Pj1_merge = blast_df_Pj1_merge.reset_index(drop=True)\n",
    "blast_df_Pj2_merge = blast_df_Pj2_merge.reset_index(drop=True)\n",
    "blast_df_Pj3_merge = blast_df_Pj3_merge.reset_index(drop=True)"
   ]
  },
  {
   "cell_type": "code",
   "execution_count": 14,
   "metadata": {},
   "outputs": [],
   "source": [
    "blast_df_C1_merge['pmatch'] = blast_df_C1_merge.length/blast_df_C1_merge.seqlen_wimp\n",
    "blast_df_C2_merge['pmatch'] = blast_df_C2_merge.length/blast_df_C2_merge.seqlen_wimp\n",
    "blast_df_C3_merge['pmatch'] = blast_df_C3_merge.length/blast_df_C3_merge.seqlen_wimp\n",
    "blast_df_Pj1_merge['pmatch'] = blast_df_Pj1_merge.length/blast_df_Pj1_merge.seqlen_wimp\n",
    "blast_df_Pj2_merge['pmatch'] = blast_df_Pj2_merge.length/blast_df_Pj2_merge.seqlen_wimp\n",
    "blast_df_Pj3_merge['pmatch'] = blast_df_Pj3_merge.length/blast_df_Pj3_merge.seqlen_wimp"
   ]
  },
  {
   "cell_type": "code",
   "execution_count": 15,
   "metadata": {},
   "outputs": [],
   "source": [
    "blast_df_C1_merge_true = blast_df_C1_merge[blast_df_C1_merge.genus_blast == 'Homo']\n",
    "blast_df_C2_merge_true = blast_df_C2_merge[blast_df_C2_merge.genus_blast == 'Homo']\n",
    "blast_df_C3_merge_true = blast_df_C3_merge[blast_df_C3_merge.genus_blast == 'Homo']\n",
    "blast_df_Pj1_merge_true = blast_df_Pj1_merge[blast_df_Pj1_merge.genus_blast.isin(true_genus)]\n",
    "blast_df_Pj2_merge_true = blast_df_Pj2_merge[blast_df_Pj2_merge.genus_blast.isin(true_genus)]\n",
    "blast_df_Pj3_merge_true = blast_df_Pj3_merge[blast_df_Pj3_merge.genus_blast.isin(true_genus)]"
   ]
  },
  {
   "cell_type": "code",
   "execution_count": 16,
   "metadata": {},
   "outputs": [],
   "source": [
    "# Here is the query coverage (pmatch) cut-offs that I applied for each dataset\n",
    "# As mentioned in the paper, I used the cut-off that resulted in ~20% data loss\n",
    "blast_df_C1_merge_pmatch_cut = blast_df_C1_merge[blast_df_C1_merge.pmatch >= 0.59]\n",
    "blast_df_C2_merge_pmatch_cut = blast_df_C2_merge[blast_df_C2_merge.pmatch >= 0.532]\n",
    "blast_df_C3_merge_pmatch_cut = blast_df_C3_merge[blast_df_C3_merge.pmatch >= 0.54]\n",
    "blast_df_Pj1_merge_pmatch_cut = blast_df_Pj1_merge[blast_df_Pj1_merge.pmatch >= 0.455]\n",
    "blast_df_Pj2_merge_pmatch_cut = blast_df_Pj2_merge[blast_df_Pj2_merge.pmatch >= 0.585]\n",
    "blast_df_Pj3_merge_pmatch_cut = blast_df_Pj3_merge[blast_df_Pj3_merge.pmatch >= 0.504]"
   ]
  },
  {
   "cell_type": "code",
   "execution_count": 17,
   "metadata": {},
   "outputs": [],
   "source": [
    "blast_df_C1_merge_pmatch_cut_true = blast_df_C1_merge_pmatch_cut[blast_df_C1_merge_pmatch_cut.genus_blast == 'Homo']\n",
    "blast_df_C2_merge_pmatch_cut_true = blast_df_C2_merge_pmatch_cut[blast_df_C2_merge_pmatch_cut.genus_blast == 'Homo']\n",
    "blast_df_C3_merge_pmatch_cut_true = blast_df_C3_merge_pmatch_cut[blast_df_C3_merge_pmatch_cut.genus_blast == 'Homo']\n",
    "blast_df_Pj1_merge_pmatch_cut_true = blast_df_Pj1_merge_pmatch_cut[blast_df_Pj1_merge_pmatch_cut.genus_blast.isin(true_genus)]\n",
    "blast_df_Pj2_merge_pmatch_cut_true = blast_df_Pj2_merge_pmatch_cut[blast_df_Pj2_merge_pmatch_cut.genus_blast.isin(true_genus)]\n",
    "blast_df_Pj3_merge_pmatch_cut_true = blast_df_Pj3_merge_pmatch_cut[blast_df_Pj3_merge_pmatch_cut.genus_blast.isin(true_genus)]"
   ]
  },
  {
   "cell_type": "code",
   "execution_count": 18,
   "metadata": {},
   "outputs": [
    {
     "name": "stdout",
     "output_type": "stream",
     "text": [
      "0.20231703822677072\n",
      "0.20059808444705873\n",
      "0.20482246492140455\n",
      "0.20140269739478156\n",
      "0.2001469649069082\n",
      "0.2013141196134658\n"
     ]
    }
   ],
   "source": [
    "# Here is to show the data loss after the cut-offs for each sample\n",
    "print(1 - blast_df_C1_merge_pmatch_cut.seqlen_wimp.sum()/blast_df_C1_merge.seqlen_wimp.sum())\n",
    "print(1 - blast_df_C2_merge_pmatch_cut.seqlen_wimp.sum()/blast_df_C2_merge.seqlen_wimp.sum())\n",
    "print(1 - blast_df_C3_merge_pmatch_cut.seqlen_wimp.sum()/blast_df_C3_merge.seqlen_wimp.sum())\n",
    "print(1 - blast_df_Pj1_merge_pmatch_cut.seqlen_wimp.sum()/blast_df_Pj1_merge.seqlen_wimp.sum())\n",
    "print(1 - blast_df_Pj2_merge_pmatch_cut.seqlen_wimp.sum()/blast_df_Pj2_merge.seqlen_wimp.sum())\n",
    "print(1 - blast_df_Pj3_merge_pmatch_cut.seqlen_wimp.sum()/blast_df_Pj3_merge.seqlen_wimp.sum())"
   ]
  },
  {
   "cell_type": "code",
   "execution_count": 19,
   "metadata": {},
   "outputs": [
    {
     "name": "stdout",
     "output_type": "stream",
     "text": [
      "0.8587677933279713\n",
      "0.8646510912545989\n"
     ]
    }
   ],
   "source": [
    "print(blast_df_C1_merge_true.seqlen_wimp.sum()/blast_df_C1_merge.seqlen_wimp.sum())\n",
    "print(blast_df_C1_merge_pmatch_cut_true.seqlen_wimp.sum()/blast_df_C1_merge_pmatch_cut.seqlen_wimp.sum())"
   ]
  },
  {
   "cell_type": "code",
   "execution_count": 20,
   "metadata": {},
   "outputs": [
    {
     "name": "stdout",
     "output_type": "stream",
     "text": [
      "0.9786322273122798\n",
      "0.9846623956458371\n"
     ]
    }
   ],
   "source": [
    "print(blast_df_C2_merge_true.seqlen_wimp.sum()/blast_df_C2_merge.seqlen_wimp.sum())\n",
    "print(blast_df_C2_merge_pmatch_cut_true.seqlen_wimp.sum()/blast_df_C2_merge_pmatch_cut.seqlen_wimp.sum())"
   ]
  },
  {
   "cell_type": "code",
   "execution_count": 21,
   "metadata": {},
   "outputs": [
    {
     "name": "stdout",
     "output_type": "stream",
     "text": [
      "0.9653758096639135\n",
      "0.9736787716958167\n"
     ]
    }
   ],
   "source": [
    "print(blast_df_C3_merge_true.seqlen_wimp.sum()/blast_df_C3_merge.seqlen_wimp.sum())\n",
    "print(blast_df_C3_merge_pmatch_cut_true.seqlen_wimp.sum()/blast_df_C3_merge_pmatch_cut.seqlen_wimp.sum())"
   ]
  },
  {
   "cell_type": "code",
   "execution_count": 22,
   "metadata": {},
   "outputs": [
    {
     "name": "stdout",
     "output_type": "stream",
     "text": [
      "0.16243240199935355\n",
      "0.1977932172009909\n"
     ]
    }
   ],
   "source": [
    "print(blast_df_Pj1_merge_true.seqlen_wimp.sum()/blast_df_Pj1_merge.seqlen_wimp.sum())\n",
    "print(blast_df_Pj1_merge_pmatch_cut_true.seqlen_wimp.sum()/blast_df_Pj1_merge_pmatch_cut.seqlen_wimp.sum())"
   ]
  },
  {
   "cell_type": "code",
   "execution_count": 23,
   "metadata": {},
   "outputs": [
    {
     "name": "stdout",
     "output_type": "stream",
     "text": [
      "0.7110115596232497\n",
      "0.6694079368819197\n"
     ]
    }
   ],
   "source": [
    "print(blast_df_Pj2_merge_true.seqlen_wimp.sum()/blast_df_Pj2_merge.seqlen_wimp.sum())\n",
    "print(blast_df_Pj2_merge_pmatch_cut_true.seqlen_wimp.sum()/blast_df_Pj2_merge_pmatch_cut.seqlen_wimp.sum())"
   ]
  },
  {
   "cell_type": "code",
   "execution_count": 24,
   "metadata": {},
   "outputs": [
    {
     "name": "stdout",
     "output_type": "stream",
     "text": [
      "0.9355872402977172\n",
      "0.9474461772841556\n"
     ]
    }
   ],
   "source": [
    "print(blast_df_Pj3_merge_true.seqlen_wimp.sum()/blast_df_Pj3_merge.seqlen_wimp.sum())\n",
    "print(blast_df_Pj3_merge_pmatch_cut_true.seqlen_wimp.sum()/blast_df_Pj3_merge_pmatch_cut.seqlen_wimp.sum())"
   ]
  },
  {
   "cell_type": "code",
   "execution_count": 25,
   "metadata": {},
   "outputs": [],
   "source": [
    "# Here is to re-analyze the wheat field nanopore samples\n",
    "basedir = '/home/yiheng/MinION_data/mock_com/figure3_analysis/FAH05731_reanalysis'\n",
    "blast_header = ['qseqid', 'sseqid', 'evalue', 'bitscore', 'length', 'pident', 'nident', 'sgi', 'sacc', 'staxids', 'sscinames', 'scomnames', 'sskingdoms', 'sstart', 'send']\n",
    "blast_header_drop = ['sseqid', 'bitscore', 'evalue', 'pident', 'nident', 'sgi', 'sacc', 'sskingdoms', 'sscinames', 'sstart', 'send', 'scomnames']\n",
    "\n",
    "seq_sum_df_dir = os.path.join(basedir, 'sequencing_summary.txt')\n",
    "blast_df_barcode02_dir = os.path.join(basedir, 'barcode02.oldfungiblast_output')\n",
    "blast_df_barcode04_dir = os.path.join(basedir, 'barcode04.oldfungiblast_output')\n",
    "blast_df_barcode05_dir = os.path.join(basedir, 'barcode05.oldfungiblast_output')\n",
    "blast_df_barcode06_dir = os.path.join(basedir, 'barcode06.oldfungiblast_output')\n",
    "# Here to use the kraken output file is to grep the query length. We are not using the classification result from the output.\n",
    "kraken_df_barcode02_dir = os.path.join(basedir, 'barcode02.ncbiITSkraken_output')\n",
    "kraken_df_barcode04_dir = os.path.join(basedir, 'barcode04.ncbiITSkraken_output')\n",
    "kraken_df_barcode05_dir = os.path.join(basedir, 'barcode05.ncbiITSkraken_output')\n",
    "kraken_df_barcode06_dir = os.path.join(basedir, 'barcode06.ncbiITSkraken_output')\n"
   ]
  },
  {
   "cell_type": "code",
   "execution_count": 26,
   "metadata": {},
   "outputs": [],
   "source": [
    "blast_df_barcode02 = pd.read_csv(blast_df_barcode02_dir, sep='\\t', header=None)\n",
    "blast_df_barcode04 = pd.read_csv(blast_df_barcode04_dir, sep='\\t', header=None)\n",
    "blast_df_barcode05 = pd.read_csv(blast_df_barcode05_dir, sep='\\t', header=None)\n",
    "blast_df_barcode06 = pd.read_csv(blast_df_barcode06_dir, sep='\\t', header=None)"
   ]
  },
  {
   "cell_type": "code",
   "execution_count": 27,
   "metadata": {},
   "outputs": [],
   "source": [
    "kraken_df_barcode02 = pd.read_csv(kraken_df_barcode02_dir, sep='\\t', header=None)\n",
    "kraken_df_barcode04 = pd.read_csv(kraken_df_barcode04_dir, sep='\\t', header=None)\n",
    "kraken_df_barcode05 = pd.read_csv(kraken_df_barcode05_dir, sep='\\t', header=None)\n",
    "kraken_df_barcode06 = pd.read_csv(kraken_df_barcode06_dir, sep='\\t', header=None)\n",
    "trim_df_columns(kraken_df_barcode02, [0,2,4])\n",
    "trim_df_columns(kraken_df_barcode04, [0,2,4])\n",
    "trim_df_columns(kraken_df_barcode05, [0,2,4])\n",
    "trim_df_columns(kraken_df_barcode06, [0,2,4])\n",
    "kraken_df_barcode02.columns = ['readid', 'seqlen']\n",
    "kraken_df_barcode04.columns = ['readid', 'seqlen']\n",
    "kraken_df_barcode05.columns = ['readid', 'seqlen']\n",
    "kraken_df_barcode06.columns = ['readid', 'seqlen']"
   ]
  },
  {
   "cell_type": "code",
   "execution_count": 28,
   "metadata": {},
   "outputs": [],
   "source": [
    "blast_df_barcode02.columns = blast_header\n",
    "blast_df_barcode04.columns = blast_header\n",
    "blast_df_barcode05.columns = blast_header\n",
    "blast_df_barcode06.columns = blast_header\n",
    "trim_df_columns(blast_df_barcode02, blast_header_drop)\n",
    "trim_df_columns(blast_df_barcode04, blast_header_drop)\n",
    "trim_df_columns(blast_df_barcode05, blast_header_drop)\n",
    "trim_df_columns(blast_df_barcode06, blast_header_drop)"
   ]
  },
  {
   "cell_type": "code",
   "execution_count": 29,
   "metadata": {},
   "outputs": [],
   "source": [
    "barcode02_df_merge = pd.merge(kraken_df_barcode02, blast_df_barcode02, how='outer', left_on='readid', right_on='qseqid')\n",
    "barcode04_df_merge = pd.merge(kraken_df_barcode04, blast_df_barcode04, how='outer', left_on='readid', right_on='qseqid')\n",
    "barcode05_df_merge = pd.merge(kraken_df_barcode05, blast_df_barcode05, how='outer', left_on='readid', right_on='qseqid')\n",
    "barcode06_df_merge = pd.merge(kraken_df_barcode06, blast_df_barcode06, how='outer', left_on='readid', right_on='qseqid')"
   ]
  },
  {
   "cell_type": "code",
   "execution_count": 30,
   "metadata": {},
   "outputs": [],
   "source": [
    "barcode02_df_merge.dropna(inplace=True)\n",
    "barcode04_df_merge.dropna(inplace=True)\n",
    "barcode05_df_merge.dropna(inplace=True)\n",
    "barcode06_df_merge.dropna(inplace=True)\n",
    "\n",
    "barcode02_df_merge = barcode02_df_merge[barcode02_df_merge.staxids != 0]\n",
    "barcode04_df_merge = barcode04_df_merge[barcode04_df_merge.staxids != 0]\n",
    "barcode05_df_merge = barcode05_df_merge[barcode05_df_merge.staxids != 0]\n",
    "barcode06_df_merge = barcode06_df_merge[barcode06_df_merge.staxids != 0]\n",
    "\n",
    "barcode02_df_merge = barcode02_df_merge.reset_index(drop=True)\n",
    "barcode04_df_merge = barcode04_df_merge.reset_index(drop=True)\n",
    "barcode05_df_merge = barcode05_df_merge.reset_index(drop=True)\n",
    "barcode06_df_merge = barcode06_df_merge.reset_index(drop=True)"
   ]
  },
  {
   "cell_type": "code",
   "execution_count": 31,
   "metadata": {},
   "outputs": [],
   "source": [
    "barcode02_df_merge['pmatch'] = barcode02_df_merge.length/barcode02_df_merge.seqlen\n",
    "barcode04_df_merge['pmatch'] = barcode04_df_merge.length/barcode04_df_merge.seqlen\n",
    "barcode05_df_merge['pmatch'] = barcode05_df_merge.length/barcode05_df_merge.seqlen\n",
    "barcode06_df_merge['pmatch'] = barcode06_df_merge.length/barcode06_df_merge.seqlen"
   ]
  },
  {
   "cell_type": "code",
   "execution_count": 32,
   "metadata": {},
   "outputs": [],
   "source": [
    "rank_list = ['superkingdom', 'phylum', 'class', 'order', 'family', 'genus', 'species']\n",
    "for rank in rank_list:\n",
    "    search_rank_output_name_append_column(barcode02_df_merge, \n",
    "                                          barcode02_df_merge.staxids, \n",
    "                                          rank)\n",
    "    search_rank_output_name_append_column(barcode04_df_merge, \n",
    "                                          barcode04_df_merge.staxids, \n",
    "                                          rank)\n",
    "    search_rank_output_name_append_column(barcode05_df_merge, \n",
    "                                          barcode05_df_merge.staxids, \n",
    "                                          rank)\n",
    "    search_rank_output_name_append_column(barcode06_df_merge, \n",
    "                                          barcode06_df_merge.staxids, \n",
    "                                          rank)"
   ]
  },
  {
   "cell_type": "code",
   "execution_count": 33,
   "metadata": {},
   "outputs": [],
   "source": [
    "true_genus = ['Puccinia', 'Zymoseptoria', 'Pyrenophora']"
   ]
  },
  {
   "cell_type": "code",
   "execution_count": 34,
   "metadata": {},
   "outputs": [],
   "source": [
    "barcode02_df_merge_true = barcode02_df_merge[barcode02_df_merge.genus.isin(true_genus)]\n",
    "barcode04_df_merge_true = barcode04_df_merge[barcode04_df_merge.genus.isin(true_genus)]\n",
    "# barcode05 is pyrenophora\n",
    "barcode05_df_merge_true = barcode05_df_merge[barcode05_df_merge.genus.isin(true_genus)]\n",
    "# barcode 06 should be Pst\n",
    "barcode06_df_merge_true = barcode06_df_merge[barcode06_df_merge.genus.isin(true_genus)]"
   ]
  },
  {
   "cell_type": "code",
   "execution_count": 35,
   "metadata": {},
   "outputs": [],
   "source": [
    "barcode02_df_merge_pmatch_cut = barcode02_df_merge[barcode02_df_merge.pmatch >= 0.05]\n",
    "barcode04_df_merge_pmatch_cut = barcode04_df_merge[barcode04_df_merge.pmatch >= 0.0077]\n",
    "barcode05_df_merge_pmatch_cut = barcode05_df_merge[barcode05_df_merge.pmatch >= 0.12]\n",
    "barcode06_df_merge_pmatch_cut = barcode06_df_merge[barcode06_df_merge.pmatch >= 0.0061]"
   ]
  },
  {
   "cell_type": "code",
   "execution_count": 36,
   "metadata": {},
   "outputs": [
    {
     "name": "stdout",
     "output_type": "stream",
     "text": [
      "0.20049945705090255\n",
      "0.19939287925644733\n",
      "0.19745382129156308\n",
      "0.1998307648698181\n"
     ]
    }
   ],
   "source": [
    "# This is to show how much the data loss\n",
    "print(1 - barcode02_df_merge_pmatch_cut.seqlen.sum()/barcode02_df_merge.seqlen.sum())\n",
    "print(1 - barcode04_df_merge_pmatch_cut.seqlen.sum()/barcode04_df_merge.seqlen.sum())\n",
    "print(1 - barcode05_df_merge_pmatch_cut.seqlen.sum()/barcode05_df_merge.seqlen.sum())\n",
    "print(1 - barcode06_df_merge_pmatch_cut.seqlen.sum()/barcode06_df_merge.seqlen.sum())"
   ]
  },
  {
   "cell_type": "code",
   "execution_count": 37,
   "metadata": {},
   "outputs": [],
   "source": [
    "barcode02_df_merge_pmatch_cut_true = barcode02_df_merge_pmatch_cut[barcode02_df_merge_pmatch_cut.genus.isin(true_genus)]\n",
    "barcode04_df_merge_pmatch_cut_true = barcode04_df_merge_pmatch_cut[barcode04_df_merge_pmatch_cut.genus.isin(true_genus)]\n",
    "# barcode05 is pyrenophora\n",
    "barcode05_df_merge_pmatch_cut_true = barcode05_df_merge_pmatch_cut[barcode05_df_merge_pmatch_cut.genus.isin(true_genus)]\n",
    "# barcode 06 is Pst\n",
    "barcode06_df_merge_pmatch_cut_true = barcode06_df_merge_pmatch_cut[barcode06_df_merge_pmatch_cut.genus.isin(true_genus)]"
   ]
  },
  {
   "cell_type": "code",
   "execution_count": 38,
   "metadata": {},
   "outputs": [
    {
     "name": "stdout",
     "output_type": "stream",
     "text": [
      "0.6044507796300089\n",
      "0.7511704563481201\n"
     ]
    }
   ],
   "source": [
    "print(barcode02_df_merge_true.seqlen.sum()/barcode02_df_merge.seqlen.sum())\n",
    "print(barcode02_df_merge_pmatch_cut_true.seqlen.sum()/barcode02_df_merge_pmatch_cut.seqlen.sum())"
   ]
  },
  {
   "cell_type": "code",
   "execution_count": 39,
   "metadata": {},
   "outputs": [
    {
     "name": "stdout",
     "output_type": "stream",
     "text": [
      "0.34795265641845663\n",
      "0.4300369120519628\n"
     ]
    }
   ],
   "source": [
    "print(barcode04_df_merge_true.seqlen.sum()/barcode04_df_merge.seqlen.sum())\n",
    "print(barcode04_df_merge_pmatch_cut_true.seqlen.sum()/barcode04_df_merge_pmatch_cut.seqlen.sum())"
   ]
  },
  {
   "cell_type": "code",
   "execution_count": 40,
   "metadata": {},
   "outputs": [
    {
     "name": "stdout",
     "output_type": "stream",
     "text": [
      "0.6703494374830633\n",
      "0.8197141393318622\n"
     ]
    }
   ],
   "source": [
    "print(barcode05_df_merge_true.seqlen.sum()/barcode05_df_merge.seqlen.sum())\n",
    "print(barcode05_df_merge_pmatch_cut_true.seqlen.sum()/barcode05_df_merge_pmatch_cut.seqlen.sum())"
   ]
  },
  {
   "cell_type": "code",
   "execution_count": 41,
   "metadata": {},
   "outputs": [
    {
     "name": "stdout",
     "output_type": "stream",
     "text": [
      "0.05784819730439965\n",
      "0.06164867637645449\n"
     ]
    }
   ],
   "source": [
    "print(barcode06_df_merge_true.seqlen.sum()/barcode06_df_merge.seqlen.sum())\n",
    "print(barcode06_df_merge_pmatch_cut_true.seqlen.sum()/barcode06_df_merge_pmatch_cut.seqlen.sum())"
   ]
  },
  {
   "cell_type": "code",
   "execution_count": 42,
   "metadata": {},
   "outputs": [],
   "source": [
    "# Now is to perform the re-analysis for some available illumina data."
   ]
  },
  {
   "cell_type": "code",
   "execution_count": 43,
   "metadata": {},
   "outputs": [],
   "source": [
    "# So we first get the genome coverage files and modify their format\n",
    "basedir = '/home/yiheng/MinION_data/mock_com/figure3_analysis/illumina_reanalysis'\n",
    "blast_header = ['qseqid', 'sseqid', 'evalue', 'bitscore', 'length', 'pident', 'nident', 'sgi', 'sacc', 'staxids', 'sscinames', 'scomnames', 'sskingdoms', 'sstart', 'send']\n",
    "blast_header_drop = ['sseqid', 'bitscore', 'evalue', 'pident', 'nident', 'sgi', 'sacc', 'sskingdoms', 'sscinames', 'sstart', 'send', 'scomnames']\n",
    "\n",
    "name_0 = 'ERR1135453'\n",
    "name_1 = 'ERR1135427'\n",
    "name_2 = 'ERR1135454'\n",
    "name_3 = 'ERR675617'\n",
    "name_4 = 'ERR675612'\n",
    "name_5 = 'ERR675618'"
   ]
  },
  {
   "cell_type": "code",
   "execution_count": 44,
   "metadata": {},
   "outputs": [],
   "source": [
    "# These genera are based on the classification of the original paper.\n",
    "true_genus_2 = ['Mus', 'Candida']\n",
    "true_genus_3 = ['Sus']\n",
    "true_genus_mouse = ['Anaerostipes', 'Parabacteroides', 'Anaerotruncus', 'Oscillibacter','Clostridium',\n",
    "                    'Flavonifractor','Bacteroides','Barnesiella','Alistipes','Helicobacter','Saccharibacteria',\n",
    "                    'Prevotella','Lachnoanaerobaculum','Lactobacillus','Intestinimonas','Roseburia','Alloprevotella',\n",
    "                    'Rikenella','Enterorhabdus','Erysipelotrichaceae','Eggerthella','Allobaculum','Lachnospiracea',\n",
    "                    'Pseudoflavonifractor','Bifidobacterium','Marvinbryantia','Mucispirillum','Clostridium','Blautia',\n",
    "                    'Anaerofilum', 'Parasutterella','Odoribacter','Olsenella','Turicibacter','Gordonibacter','Ruminococcus',\n",
    "                    'Acetatifactor']\n",
    "true_genus_pig = ['Pseudobutyrivibrio', 'Parabacteroides', 'Phascolarctobacterium', 'Ruminococcus','Megasphaera',\n",
    "                  'Sarcina', 'Faecalibacterium', 'Turicibacter', 'Streptococcus', 'Escherichia', 'Shigella','Bacteroides',\n",
    "                  'Blautia','Alloprevotella', 'Succinivibrio', 'Helicobacter', 'Treponema', 'Clostridium','Lactobacillus',\n",
    "                  'Prevotella']"
   ]
  },
  {
   "cell_type": "code",
   "execution_count": 45,
   "metadata": {},
   "outputs": [],
   "source": [
    "def modify_bedgraph(name):\n",
    "    dataframe = os.path.join(basedir, '%s_coverage.tab' % name)\n",
    "    bedgraph = pd.read_csv(dataframe, header=None, names=['contig', 'start', 'end', 'cov'], sep='\\t')\n",
    "    bedgraph['len'] = bedgraph.end - bedgraph.start\n",
    "    bedgraph['total_cov'] = (bedgraph['len'])*(bedgraph['cov'])\n",
    "    bed_pivot = pd.pivot_table(bedgraph, values=['len', 'total_cov'], index='contig', aggfunc={'len': np.sum, 'total_cov': np.sum})\n",
    "    bed_pivot.head()\n",
    "    bed_pivot['average_cov'] = bed_pivot.total_cov/bed_pivot.len\n",
    "    return bed_pivot"
   ]
  },
  {
   "cell_type": "code",
   "execution_count": 46,
   "metadata": {},
   "outputs": [],
   "source": [
    "bed_pivot_0 = modify_bedgraph('ERR1135453')\n",
    "bed_pivot_1 = modify_bedgraph('ERR1135427')\n",
    "bed_pivot_2 = modify_bedgraph('ERR1135454')\n",
    "bed_pivot_3 = modify_bedgraph('ERR675617')\n",
    "bed_pivot_4 = modify_bedgraph('ERR675612')\n",
    "bed_pivot_5 = modify_bedgraph('ERR675618')"
   ]
  },
  {
   "cell_type": "code",
   "execution_count": 47,
   "metadata": {},
   "outputs": [],
   "source": [
    "blastdf_0 = pd.read_csv(os.path.join(basedir, '%s.nt.blastoutput' % name_0), sep='\\t', header=None)\n",
    "blastdf_1 = pd.read_csv(os.path.join(basedir, '%s.nt.blastoutput' % name_1), sep='\\t', header=None)\n",
    "blastdf_2 = pd.read_csv(os.path.join(basedir, '%s.nt.blastoutput' % name_2), sep='\\t', header=None)\n",
    "blastdf_3 = pd.read_csv(os.path.join(basedir, '%s.nt.blastoutput' % name_3), sep='\\t', header=None)\n",
    "blastdf_4 = pd.read_csv(os.path.join(basedir, '%s.nt.blastoutput' % name_4), sep='\\t', header=None)\n",
    "blastdf_5 = pd.read_csv(os.path.join(basedir, '%s.nt.blastoutput' % name_5), sep='\\t', header=None)"
   ]
  },
  {
   "cell_type": "code",
   "execution_count": 48,
   "metadata": {},
   "outputs": [],
   "source": [
    "blastdf_0.columns = blast_header\n",
    "blastdf_1.columns = blast_header\n",
    "blastdf_2.columns = blast_header\n",
    "blastdf_3.columns = blast_header\n",
    "blastdf_4.columns = blast_header\n",
    "blastdf_5.columns = blast_header\n",
    "trim_df_columns(blastdf_0, blast_header_drop)\n",
    "trim_df_columns(blastdf_1, blast_header_drop)\n",
    "trim_df_columns(blastdf_2, blast_header_drop)\n",
    "trim_df_columns(blastdf_3, blast_header_drop)\n",
    "trim_df_columns(blastdf_4, blast_header_drop)\n",
    "trim_df_columns(blastdf_5, blast_header_drop)"
   ]
  },
  {
   "cell_type": "code",
   "execution_count": 49,
   "metadata": {},
   "outputs": [],
   "source": [
    "# taxid = 0 means unclassified. This is the problem from the ete3 taxonomic database that it doesn't contains those species.\n",
    "# I just removed them as there are not much contigs hit them so removing would not affect the precision much..\n",
    "# Theoratically you could potentially look into the accession and find out the species manually, but that would be too tedious\n",
    "blastdf_0 = blastdf_0[(blastdf_0.staxids != 0) & (blastdf_0.staxids != '656024') & (blastdf_0.staxids != '2567938') & (blastdf_0.staxids != '545612')]\n",
    "blastdf_1 = blastdf_1[(blastdf_1.staxids != 0) & (blastdf_1.staxids != '2567938') & (blastdf_1.staxids != '656024')]\n",
    "blastdf_2 = blastdf_2[(blastdf_2.staxids != 0) & (blastdf_2.staxids != '656024') & (blastdf_2.staxids != '2567938') & (blastdf_2.staxids != '545612')]\n",
    "blastdf_3 = blastdf_3[(blastdf_3.staxids != 0) & (blastdf_3.staxids != '545612')]\n",
    "blastdf_4 = blastdf_4[blastdf_4.staxids != 0]\n",
    "blastdf_5 = blastdf_5[blastdf_5.staxids != 0]\n",
    "blastdf_0 = blastdf_0.reset_index(drop=True)\n",
    "blastdf_1 = blastdf_1.reset_index(drop=True)\n",
    "blastdf_2 = blastdf_2.reset_index(drop=True)\n",
    "blastdf_3 = blastdf_3.reset_index(drop=True)\n",
    "blastdf_4 = blastdf_4.reset_index(drop=True)\n",
    "blastdf_5 = blastdf_5.reset_index(drop=True)"
   ]
  },
  {
   "cell_type": "code",
   "execution_count": 50,
   "metadata": {},
   "outputs": [],
   "source": [
    "rank_list = ['superkingdom', 'phylum', 'class', 'order', 'family', 'genus', 'species']\n",
    "for rank in rank_list:\n",
    "    search_rank_output_name_append_column(blastdf_0, \n",
    "                                          blastdf_0.staxids, \n",
    "                                          rank)"
   ]
  },
  {
   "cell_type": "code",
   "execution_count": 51,
   "metadata": {},
   "outputs": [],
   "source": [
    "for rank in rank_list:\n",
    "    search_rank_output_name_append_column(blastdf_1, \n",
    "                                          blastdf_1.staxids, \n",
    "                                          rank)"
   ]
  },
  {
   "cell_type": "code",
   "execution_count": 52,
   "metadata": {},
   "outputs": [],
   "source": [
    "for rank in rank_list:\n",
    "    search_rank_output_name_append_column(blastdf_2, \n",
    "                                          blastdf_2.staxids, \n",
    "                                          rank)"
   ]
  },
  {
   "cell_type": "code",
   "execution_count": 53,
   "metadata": {},
   "outputs": [],
   "source": [
    "for rank in rank_list:\n",
    "    search_rank_output_name_append_column(blastdf_3, \n",
    "                                          blastdf_3.staxids, \n",
    "                                          rank)"
   ]
  },
  {
   "cell_type": "code",
   "execution_count": 54,
   "metadata": {},
   "outputs": [],
   "source": [
    "for rank in rank_list:\n",
    "    search_rank_output_name_append_column(blastdf_4, \n",
    "                                          blastdf_4.staxids, \n",
    "                                          rank)"
   ]
  },
  {
   "cell_type": "code",
   "execution_count": 55,
   "metadata": {},
   "outputs": [],
   "source": [
    "for rank in rank_list:\n",
    "    search_rank_output_name_append_column(blastdf_5, \n",
    "                                          blastdf_5.staxids, \n",
    "                                          rank)"
   ]
  },
  {
   "cell_type": "code",
   "execution_count": 56,
   "metadata": {},
   "outputs": [],
   "source": [
    "blastdf_0_merge = pd.merge(bed_pivot_0, blastdf_0, how='outer', left_on='contig', right_on='qseqid')\n",
    "blastdf_1_merge = pd.merge(bed_pivot_1, blastdf_1, how='outer', left_on='contig', right_on='qseqid')\n",
    "blastdf_2_merge = pd.merge(bed_pivot_2, blastdf_2, how='outer', left_on='contig', right_on='qseqid')\n",
    "blastdf_3_merge = pd.merge(bed_pivot_3, blastdf_3, how='outer', left_on='contig', right_on='qseqid')\n",
    "blastdf_4_merge = pd.merge(bed_pivot_4, blastdf_4, how='outer', left_on='contig', right_on='qseqid')\n",
    "blastdf_5_merge = pd.merge(bed_pivot_5, blastdf_5, how='outer', left_on='contig', right_on='qseqid')"
   ]
  },
  {
   "cell_type": "code",
   "execution_count": 57,
   "metadata": {},
   "outputs": [],
   "source": [
    "blastdf_0_merge.dropna(inplace=True)\n",
    "blastdf_0_merge = blastdf_0_merge.reset_index(drop=True)\n",
    "blastdf_1_merge.dropna(inplace=True)\n",
    "blastdf_1_merge = blastdf_1_merge.reset_index(drop=True)\n",
    "blastdf_2_merge.dropna(inplace=True)\n",
    "blastdf_2_merge = blastdf_2_merge.reset_index(drop=True)\n",
    "blastdf_3_merge.dropna(inplace=True)\n",
    "blastdf_3_merge = blastdf_3_merge.reset_index(drop=True)\n",
    "blastdf_4_merge.dropna(inplace=True)\n",
    "blastdf_4_merge = blastdf_4_merge.reset_index(drop=True)\n",
    "blastdf_5_merge.dropna(inplace=True)\n",
    "blastdf_5_merge = blastdf_5_merge.reset_index(drop=True)"
   ]
  },
  {
   "cell_type": "code",
   "execution_count": 58,
   "metadata": {},
   "outputs": [],
   "source": [
    "blastdf_0_merge['pmatch'] = blastdf_0_merge.length/blastdf_0_merge.len\n",
    "blastdf_1_merge['pmatch'] = blastdf_1_merge.length/blastdf_1_merge.len\n",
    "blastdf_2_merge['pmatch'] = blastdf_2_merge.length/blastdf_2_merge.len\n",
    "blastdf_3_merge['pmatch'] = blastdf_3_merge.length/blastdf_3_merge.len\n",
    "blastdf_4_merge['pmatch'] = blastdf_4_merge.length/blastdf_4_merge.len\n",
    "blastdf_5_merge['pmatch'] = blastdf_5_merge.length/blastdf_5_merge.len"
   ]
  },
  {
   "cell_type": "code",
   "execution_count": 59,
   "metadata": {},
   "outputs": [],
   "source": [
    "blastdf_0_merge_true = blastdf_0_merge[blastdf_0_merge.genus.isin(true_genus_pig)]\n",
    "blastdf_0_merge_pmatch_cut = blastdf_0_merge[blastdf_0_merge.pmatch >= 0.024]\n",
    "blastdf_0_merge_pmatch_cut_true = blastdf_0_merge_pmatch_cut[blastdf_0_merge_pmatch_cut.genus.isin(true_genus_pig)]"
   ]
  },
  {
   "cell_type": "code",
   "execution_count": 60,
   "metadata": {},
   "outputs": [],
   "source": [
    "blastdf_1_merge_true = blastdf_1_merge[blastdf_1_merge.genus.isin(true_genus_pig)]\n",
    "blastdf_1_merge_pmatch_cut = blastdf_1_merge[blastdf_1_merge.pmatch >= 0.033]\n",
    "blastdf_1_merge_pmatch_cut_true = blastdf_1_merge_pmatch_cut[blastdf_1_merge_pmatch_cut.genus.isin(true_genus_pig)]"
   ]
  },
  {
   "cell_type": "code",
   "execution_count": 61,
   "metadata": {},
   "outputs": [],
   "source": [
    "blastdf_2_merge_true = blastdf_2_merge[blastdf_2_merge.genus.isin(true_genus_pig)]\n",
    "blastdf_2_merge_pmatch_cut = blastdf_2_merge[blastdf_2_merge.pmatch >= 0.026]\n",
    "blastdf_2_merge_pmatch_cut_true = blastdf_2_merge_pmatch_cut[blastdf_2_merge_pmatch_cut.genus.isin(true_genus_pig)]"
   ]
  },
  {
   "cell_type": "code",
   "execution_count": 62,
   "metadata": {},
   "outputs": [],
   "source": [
    "blastdf_3_merge_true = blastdf_3_merge[blastdf_3_merge.genus.isin(true_genus_mouse)]\n",
    "blastdf_3_merge_pmatch_cut = blastdf_3_merge[blastdf_3_merge.pmatch >= 0.034]\n",
    "blastdf_3_merge_pmatch_cut_true = blastdf_3_merge_pmatch_cut[blastdf_3_merge_pmatch_cut.genus.isin(true_genus_mouse)]"
   ]
  },
  {
   "cell_type": "code",
   "execution_count": 63,
   "metadata": {},
   "outputs": [],
   "source": [
    "blastdf_4_merge_true = blastdf_4_merge[blastdf_4_merge.genus.isin(true_genus_mouse)]\n",
    "blastdf_4_merge_pmatch_cut = blastdf_4_merge[blastdf_4_merge.pmatch >= 0.14]\n",
    "blastdf_4_merge_pmatch_cut_true = blastdf_4_merge_pmatch_cut[blastdf_4_merge_pmatch_cut.genus.isin(true_genus_mouse)]"
   ]
  },
  {
   "cell_type": "code",
   "execution_count": 64,
   "metadata": {},
   "outputs": [],
   "source": [
    "blastdf_5_merge_true = blastdf_5_merge[blastdf_5_merge.genus.isin(true_genus_mouse)]\n",
    "blastdf_5_merge_pmatch_cut = blastdf_5_merge[blastdf_5_merge.pmatch >= 0.045]\n",
    "blastdf_5_merge_pmatch_cut_true = blastdf_5_merge_pmatch_cut[blastdf_5_merge_pmatch_cut.genus.isin(true_genus_mouse)]"
   ]
  },
  {
   "cell_type": "code",
   "execution_count": 65,
   "metadata": {},
   "outputs": [
    {
     "name": "stdout",
     "output_type": "stream",
     "text": [
      "0.2005255801302821\n",
      "0.2017391893861833\n",
      "0.20150949826928544\n",
      "0.19816542838165074\n",
      "0.20087029756295693\n",
      "0.20196009112935476\n"
     ]
    }
   ],
   "source": [
    "print(1 - blastdf_0_merge_pmatch_cut.len.sum()/blastdf_0_merge.len.sum())\n",
    "print(1 - blastdf_1_merge_pmatch_cut.len.sum()/blastdf_1_merge.len.sum())\n",
    "print(1 - blastdf_2_merge_pmatch_cut.len.sum()/blastdf_2_merge.len.sum())\n",
    "print(1 - blastdf_3_merge_pmatch_cut.len.sum()/blastdf_3_merge.len.sum())\n",
    "print(1 - blastdf_4_merge_pmatch_cut.len.sum()/blastdf_4_merge.len.sum())\n",
    "print(1 - blastdf_5_merge_pmatch_cut.len.sum()/blastdf_5_merge.len.sum())"
   ]
  },
  {
   "cell_type": "code",
   "execution_count": 66,
   "metadata": {},
   "outputs": [
    {
     "name": "stdout",
     "output_type": "stream",
     "text": [
      "0.3201613646069619\n",
      "0.3541279820913822\n"
     ]
    }
   ],
   "source": [
    "print(blastdf_0_merge_true.total_cov.sum()/blastdf_0_merge.total_cov.sum())\n",
    "print(blastdf_0_merge_pmatch_cut_true.total_cov.sum()/blastdf_0_merge_pmatch_cut.total_cov.sum())"
   ]
  },
  {
   "cell_type": "code",
   "execution_count": 67,
   "metadata": {},
   "outputs": [
    {
     "name": "stdout",
     "output_type": "stream",
     "text": [
      "0.3420200823033689\n",
      "0.36639283803472605\n"
     ]
    }
   ],
   "source": [
    "print(blastdf_1_merge_true.total_cov.sum()/blastdf_1_merge.total_cov.sum())\n",
    "print(blastdf_1_merge_pmatch_cut_true.total_cov.sum()/blastdf_1_merge_pmatch_cut.total_cov.sum())"
   ]
  },
  {
   "cell_type": "code",
   "execution_count": 68,
   "metadata": {},
   "outputs": [
    {
     "name": "stdout",
     "output_type": "stream",
     "text": [
      "0.35177865808871284\n",
      "0.3831353830224373\n"
     ]
    }
   ],
   "source": [
    "print(blastdf_2_merge_true.total_cov.sum()/blastdf_2_merge.total_cov.sum())\n",
    "print(blastdf_2_merge_pmatch_cut_true.total_cov.sum()/blastdf_2_merge_pmatch_cut.total_cov.sum())"
   ]
  },
  {
   "cell_type": "code",
   "execution_count": 69,
   "metadata": {},
   "outputs": [
    {
     "name": "stdout",
     "output_type": "stream",
     "text": [
      "0.29061306004388554\n",
      "0.23555919711277024\n"
     ]
    }
   ],
   "source": [
    "print(blastdf_3_merge_true.total_cov.sum()/blastdf_3_merge.total_cov.sum())\n",
    "print(blastdf_3_merge_pmatch_cut_true.total_cov.sum()/blastdf_3_merge_pmatch_cut.total_cov.sum())"
   ]
  },
  {
   "cell_type": "code",
   "execution_count": 70,
   "metadata": {},
   "outputs": [
    {
     "name": "stdout",
     "output_type": "stream",
     "text": [
      "0.6371446283241418\n",
      "0.6935489162689211\n"
     ]
    }
   ],
   "source": [
    "print(blastdf_4_merge_true.total_cov.sum()/blastdf_4_merge.total_cov.sum())\n",
    "print(blastdf_4_merge_pmatch_cut_true.total_cov.sum()/blastdf_4_merge_pmatch_cut.total_cov.sum())"
   ]
  },
  {
   "cell_type": "code",
   "execution_count": 71,
   "metadata": {},
   "outputs": [
    {
     "name": "stdout",
     "output_type": "stream",
     "text": [
      "0.3860410589222623\n",
      "0.42294094327493087\n"
     ]
    }
   ],
   "source": [
    "print(blastdf_5_merge_true.total_cov.sum()/blastdf_5_merge.total_cov.sum())\n",
    "print(blastdf_5_merge_pmatch_cut_true.total_cov.sum()/blastdf_5_merge_pmatch_cut.total_cov.sum())"
   ]
  },
  {
   "cell_type": "code",
   "execution_count": 72,
   "metadata": {},
   "outputs": [
    {
     "data": {
      "image/png": "[encoded data removed]",
      "text/plain": [
       "<Figure size 432x288 with 1 Axes>"
      ]
     },
     "metadata": {
      "needs_background": "light"
     },
     "output_type": "display_data"
    }
   ],
   "source": [
    "# Just a small figure to illustrate the change. Later on we decided to use a table instead.\n",
    "plt.xlim(1,1.5)\n",
    "plt.xlabel('Illumina                Nanopore', fontsize=14)\n",
    "plt.ylabel('Percentage of confirmed genera', fontsize=14)\n",
    "plt.xticks((1.1, 1.2, 1.3, 1.4), ('Before', 'After', 'Before', 'After'), fontsize=14)\n",
    "# This is to plot the average/mean lines for each sample\n",
    "plt.plot([1.1,1.2], \n",
    "        [blastdf_0_merge_true.total_cov.sum()/blastdf_0_merge.total_cov.sum()*100,\n",
    "         blastdf_0_merge_pmatch_cut_true.total_cov.sum()/blastdf_0_merge_pmatch_cut.total_cov.sum()*100], lw=2, color='b')\n",
    "plt.plot([1.1,1.2], \n",
    "        [blastdf_1_merge_true.total_cov.sum()/blastdf_1_merge.total_cov.sum()*100,\n",
    "         blastdf_1_merge_pmatch_cut_true.total_cov.sum()/blastdf_1_merge_pmatch_cut.total_cov.sum()*100], lw=2, color='b')\n",
    "plt.plot([1.1,1.2], \n",
    "         [blastdf_2_merge_true.total_cov.sum()/blastdf_2_merge.total_cov.sum()*100,\n",
    "          blastdf_2_merge_pmatch_cut_true.total_cov.sum()/blastdf_2_merge_pmatch_cut.total_cov.sum()*100], lw=2, color='b')\n",
    "plt.plot([1.1,1.2], \n",
    "         [blastdf_3_merge_true.total_cov.sum()/blastdf_3_merge.total_cov.sum()*100,\n",
    "          blastdf_3_merge_pmatch_cut_true.total_cov.sum()/blastdf_3_merge_pmatch_cut.total_cov.sum()*100], lw=2, color='r')\n",
    "plt.plot([1.1,1.2], \n",
    "         [blastdf_4_merge_true.total_cov.sum()/blastdf_4_merge.total_cov.sum()*100,\n",
    "          blastdf_4_merge_pmatch_cut_true.total_cov.sum()/blastdf_4_merge_pmatch_cut.total_cov.sum()*100], lw=2, color='g')\n",
    "plt.plot([1.1,1.2], \n",
    "         [blastdf_5_merge_true.total_cov.sum()/blastdf_5_merge.total_cov.sum()*100,\n",
    "          blastdf_5_merge_pmatch_cut_true.total_cov.sum()/blastdf_5_merge_pmatch_cut.total_cov.sum()*100], lw=2, color='g')\n",
    "\n",
    "plt.plot([1.3,1.4], \n",
    "         [barcode02_df_merge_true.seqlen.sum()/barcode02_df_merge.seqlen.sum()*100,\n",
    "          barcode02_df_merge_pmatch_cut_true.seqlen.sum()/barcode02_df_merge_pmatch_cut.seqlen.sum()*100], lw=2, color='k')\n",
    "plt.plot([1.3,1.4], \n",
    "         [barcode04_df_merge_true.seqlen.sum()/barcode04_df_merge.seqlen.sum()*100,\n",
    "          barcode04_df_merge_pmatch_cut_true.seqlen.sum()/barcode04_df_merge_pmatch_cut.seqlen.sum()*100], lw=2, color='k')\n",
    "plt.plot([1.3,1.4], \n",
    "         [barcode05_df_merge_true.seqlen.sum()/barcode05_df_merge.seqlen.sum()*100,\n",
    "          barcode05_df_merge_pmatch_cut_true.seqlen.sum()/barcode05_df_merge_pmatch_cut.seqlen.sum()*100], lw=2, color='k')\n",
    "plt.plot([1.3,1.4], \n",
    "         [barcode06_df_merge_true.seqlen.sum()/barcode06_df_merge.seqlen.sum()*100,\n",
    "          barcode06_df_merge_pmatch_cut_true.seqlen.sum()/barcode06_df_merge_pmatch_cut.seqlen.sum()*100], lw=2, color='k')\n",
    "plt.plot([1.3,1.4], \n",
    "         [blast_df_C1_merge_true.seqlen_wimp.sum()/blast_df_C1_merge.seqlen_wimp.sum()*100,\n",
    "          blast_df_C1_merge_pmatch_cut_true.seqlen_wimp.sum()/blast_df_C1_merge_pmatch_cut.seqlen_wimp.sum()*100], lw=2, color='y')\n",
    "plt.plot([1.3,1.4], \n",
    "         [blast_df_C2_merge_true.seqlen_wimp.sum()/blast_df_C2_merge.seqlen_wimp.sum()*100,\n",
    "          blast_df_C2_merge_pmatch_cut_true.seqlen_wimp.sum()/blast_df_C2_merge_pmatch_cut.seqlen_wimp.sum()*100], lw=2, color='y')\n",
    "plt.plot([1.3,1.4], \n",
    "         [blast_df_C3_merge_true.seqlen_wimp.sum()/blast_df_C3_merge.seqlen_wimp.sum()*100,\n",
    "          blast_df_C3_merge_pmatch_cut_true.seqlen_wimp.sum()/blast_df_C3_merge_pmatch_cut.seqlen_wimp.sum()*100], lw=2, color='y')\n",
    "plt.plot([1.3,1.4], \n",
    "         [blast_df_Pj1_merge_true.seqlen_wimp.sum()/blast_df_Pj1_merge.seqlen_wimp.sum()*100,\n",
    "          blast_df_Pj1_merge_pmatch_cut_true.seqlen_wimp.sum()/blast_df_Pj1_merge_pmatch_cut.seqlen_wimp.sum()*100], lw=2, color='y')\n",
    "plt.plot([1.3,1.4], \n",
    "         [blast_df_Pj2_merge_true.seqlen_wimp.sum()/blast_df_Pj2_merge.seqlen_wimp.sum()*100,\n",
    "          blast_df_Pj2_merge_pmatch_cut_true.seqlen_wimp.sum()/blast_df_Pj2_merge_pmatch_cut.seqlen_wimp.sum()*100], lw=2, color='r')\n",
    "plt.plot([1.3,1.4], \n",
    "         [blast_df_Pj3_merge_true.seqlen_wimp.sum()/blast_df_Pj3_merge.seqlen_wimp.sum()*100,\n",
    "          blast_df_Pj3_merge_pmatch_cut_true.seqlen_wimp.sum()/blast_df_Pj3_merge_pmatch_cut.seqlen_wimp.sum()*100], lw=2, color='y')\n",
    "\n",
    "#plt.savefig(os.path.join(sourcedir, 'Figure3.png'), bbox_inches=\"tight\", dpi=1000)\n",
    "plt.show()"
   ]
  },
  {
   "cell_type": "code",
   "execution_count": null,
   "metadata": {},
   "outputs": [],
   "source": []
  },
  {
   "cell_type": "code",
   "execution_count": null,
   "metadata": {},
   "outputs": [],
   "source": []
  }
 ],
 "metadata": {
  "kernelspec": {
   "display_name": "Python 3",
   "language": "python",
   "name": "python3"
  },
  "language_info": {
   "codemirror_mode": {
    "name": "ipython",
    "version": 3
   },
   "file_extension": ".py",
   "mimetype": "text/x-python",
   "name": "python",
   "nbconvert_exporter": "python",
   "pygments_lexer": "ipython3",
   "version": "3.6.10"
  }
 },
 "nbformat": 4,
 "nbformat_minor": 4
}
